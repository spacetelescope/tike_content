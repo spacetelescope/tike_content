{
 "cells": [
  {
   "cell_type": "markdown",
   "id": "4f7a7027-4c15-4530-b868-eac6531f0dcc",
   "metadata": {},
   "source": [
    "# Tutorial: Dask on TIKE\n",
    "`Dask` is a powerful library for parallel computing in Python. By reading through code and compiling in into a \"task graph,\" `Dask` efficiently organizes tasks and the sequence in which they need to be ordered. It can be used with a single, local machine to parallelize across whatever local cores are available. `Dask.distributed` extends the `Dask` framework to *distributed computing* on small to medium-sized clusters — which TIKE offers.\n",
    "\n",
    "This notebook will walk users through the steps needed to optimally use the allocated resources."
   ]
  },
  {
   "cell_type": "markdown",
   "id": "bbda58f3-86af-4b8b-a355-88a936f8b9dc",
   "metadata": {},
   "source": [
    "## Package downloads"
   ]
  },
  {
   "cell_type": "markdown",
   "id": "39f861ff-fa86-4f28-8845-897caca9add8",
   "metadata": {},
   "source": [
    "Our first step is to download the correct packages with the correct versions. Dask and its associated packages have gone through a number of major upgrades over the years, so this step is especially important to ensure that we are working with the package in the expected way.\n",
    "\n",
    "Before we even do that, let's check the Python version we're on."
   ]
  },
  {
   "cell_type": "code",
   "execution_count": 1,
   "id": "db6e1a52-0346-4dad-b43d-9154e6e6196e",
   "metadata": {},
   "outputs": [
    {
     "name": "stdout",
     "output_type": "stream",
     "text": [
      "3.11.11\n"
     ]
    }
   ],
   "source": [
    "from platform import python_version\n",
    "\n",
    "print(python_version())"
   ]
  },
  {
   "cell_type": "markdown",
   "id": "b2635844-e903-4012-9e10-66ba3ab4b37e",
   "metadata": {},
   "source": [
    "If you started this notebook with the `TESS Environment`, the cell above likely printed out `3.11.11`. That's perfectly fine for many applications, of course. For our purposes, however, we'll want a specific Python version, one that plays nicely with the Dask packages that we'll later import. Let's install that Python version below. This step shouldn't take more than a couple of minutes."
   ]
  },
  {
   "cell_type": "code",
   "execution_count": 2,
   "id": "ce599f7e-1a60-4bfb-b341-a0efe80a9f62",
   "metadata": {},
   "outputs": [
    {
     "name": "stdout",
     "output_type": "stream",
     "text": [
      "Retrieving notices: done\n",
      "Channels:\n",
      " - conda-forge\n",
      "Platform: linux-64\n",
      "Collecting package metadata (repodata.json): done\n",
      "Solving environment: done\n",
      "\n",
      "\n",
      "==> WARNING: A newer version of conda exists. <==\n",
      "    current version: 24.11.0\n",
      "    latest version: 25.3.1\n",
      "\n",
      "Please update conda by running\n",
      "\n",
      "    $ conda update -n base -c conda-forge conda\n",
      "\n",
      "\n",
      "\n",
      "## Package Plan ##\n",
      "\n",
      "  environment location: /opt/conda/envs/tess\n",
      "\n",
      "  added / updated specs:\n",
      "    - python=3.11.7\n",
      "\n",
      "\n",
      "The following NEW packages will be INSTALLED:\n",
      "\n",
      "  liblzma-devel      conda-forge/linux-64::liblzma-devel-5.6.3-hb9d3cd8_1 \n",
      "  xz                 conda-forge/linux-64::xz-5.6.3-hbcc6ac9_1 \n",
      "  xz-gpl-tools       conda-forge/linux-64::xz-gpl-tools-5.6.3-hbcc6ac9_1 \n",
      "  xz-tools           conda-forge/linux-64::xz-tools-5.6.3-hb9d3cd8_1 \n",
      "\n",
      "The following packages will be UPDATED:\n",
      "\n",
      "  ca-certificates    conda-forge/linux-64::ca-certificates~ --> conda-forge/noarch::ca-certificates-2025.4.26-hbd8a1cb_0 \n",
      "  openssl                                  3.4.0-hb9d3cd8_0 --> 3.5.0-h7b32b05_1 \n",
      "\n",
      "The following packages will be DOWNGRADED:\n",
      "\n",
      "  python                         3.11.11-h9e4cc4f_1_cpython --> 3.11.7-hab00c5b_1_cpython \n",
      "\n",
      "\n",
      "\n",
      "Downloading and Extracting Packages:\n",
      "\n",
      "Preparing transaction: done\n",
      "Verifying transaction: done\n",
      "Executing transaction: done\n"
     ]
    }
   ],
   "source": [
    "!conda install python=3.11.7 -y"
   ]
  },
  {
   "cell_type": "markdown",
   "id": "7efa4dd8-beeb-4c7b-a011-dc8016b0d304",
   "metadata": {},
   "source": [
    "You'll need to restart the kernel for this change to go through. Run the cell below once you do so to make sure that you see `3.11.7`."
   ]
  },
  {
   "cell_type": "code",
   "execution_count": 1,
   "id": "bdf48d84-3948-45da-b671-fe46c42b4f82",
   "metadata": {},
   "outputs": [
    {
     "name": "stdout",
     "output_type": "stream",
     "text": [
      "3.11.7\n"
     ]
    }
   ],
   "source": [
    "from platform import python_version\n",
    "\n",
    "print(python_version())"
   ]
  },
  {
   "cell_type": "markdown",
   "id": "1b518b5f-e7b6-407d-909b-a80aaf950163",
   "metadata": {},
   "source": [
    "Awesome! Assuming that worked, let's go ahead and import our packages. We'll do so with the `pip` package manager."
   ]
  },
  {
   "cell_type": "code",
   "execution_count": 2,
   "id": "0e816e22-2b2d-4945-acc4-29a3fa470837",
   "metadata": {},
   "outputs": [
    {
     "name": "stdout",
     "output_type": "stream",
     "text": [
      "Collecting dask==2024.1.0 (from dask[dataframe]==2024.1.0)\n",
      "  Using cached dask-2024.1.0-py3-none-any.whl.metadata (3.7 kB)\n",
      "Collecting distributed==2024.1.0\n",
      "  Using cached distributed-2024.1.0-py3-none-any.whl.metadata (3.4 kB)\n",
      "Collecting msgpack==1.0.7\n",
      "  Using cached msgpack-1.0.7-cp311-cp311-manylinux_2_17_x86_64.manylinux2014_x86_64.whl.metadata (9.1 kB)\n",
      "Collecting pandas==2.1.4\n",
      "  Using cached pandas-2.1.4-cp311-cp311-manylinux_2_17_x86_64.manylinux2014_x86_64.whl.metadata (18 kB)\n",
      "Collecting numpy==1.26.3\n",
      "  Using cached numpy-1.26.3-cp311-cp311-manylinux_2_17_x86_64.manylinux2014_x86_64.whl.metadata (61 kB)\n",
      "Collecting toolz==0.12.0\n",
      "  Using cached toolz-0.12.0-py3-none-any.whl.metadata (5.1 kB)\n",
      "Collecting tornado==6.4\n",
      "  Using cached tornado-6.4-cp38-abi3-manylinux_2_5_x86_64.manylinux1_x86_64.manylinux_2_17_x86_64.manylinux2014_x86_64.whl.metadata (2.5 kB)\n",
      "Collecting dask_gateway\n",
      "  Using cached dask_gateway-2025.4.0-py3-none-any.whl.metadata (3.1 kB)\n",
      "Requirement already satisfied: click>=8.1 in /opt/conda/envs/tess/lib/python3.11/site-packages (from dask==2024.1.0->dask[dataframe]==2024.1.0) (8.1.7)\n",
      "Requirement already satisfied: cloudpickle>=1.5.0 in /opt/conda/envs/tess/lib/python3.11/site-packages (from dask==2024.1.0->dask[dataframe]==2024.1.0) (3.0.0)\n",
      "Requirement already satisfied: fsspec>=2021.09.0 in /opt/conda/envs/tess/lib/python3.11/site-packages (from dask==2024.1.0->dask[dataframe]==2024.1.0) (2024.10.0)\n",
      "Requirement already satisfied: packaging>=20.0 in /opt/conda/envs/tess/lib/python3.11/site-packages (from dask==2024.1.0->dask[dataframe]==2024.1.0) (24.1)\n",
      "Requirement already satisfied: partd>=1.2.0 in /opt/conda/envs/tess/lib/python3.11/site-packages (from dask==2024.1.0->dask[dataframe]==2024.1.0) (1.4.2)\n",
      "Requirement already satisfied: pyyaml>=5.3.1 in /opt/conda/envs/tess/lib/python3.11/site-packages (from dask==2024.1.0->dask[dataframe]==2024.1.0) (6.0.1)\n",
      "Requirement already satisfied: importlib-metadata>=4.13.0 in /opt/conda/envs/tess/lib/python3.11/site-packages (from dask==2024.1.0->dask[dataframe]==2024.1.0) (7.1.0)\n",
      "Requirement already satisfied: jinja2>=2.10.3 in /opt/conda/envs/tess/lib/python3.11/site-packages (from distributed==2024.1.0) (3.1.4)\n",
      "Requirement already satisfied: locket>=1.0.0 in /opt/conda/envs/tess/lib/python3.11/site-packages (from distributed==2024.1.0) (1.0.0)\n",
      "Requirement already satisfied: psutil>=5.7.2 in /opt/conda/envs/tess/lib/python3.11/site-packages (from distributed==2024.1.0) (5.9.8)\n",
      "Collecting sortedcontainers>=2.0.5 (from distributed==2024.1.0)\n",
      "  Using cached sortedcontainers-2.4.0-py2.py3-none-any.whl.metadata (10 kB)\n",
      "Collecting tblib>=1.6.0 (from distributed==2024.1.0)\n",
      "  Using cached tblib-3.1.0-py3-none-any.whl.metadata (25 kB)\n",
      "Requirement already satisfied: urllib3>=1.24.3 in /opt/conda/envs/tess/lib/python3.11/site-packages (from distributed==2024.1.0) (2.2.1)\n",
      "Collecting zict>=3.0.0 (from distributed==2024.1.0)\n",
      "  Using cached zict-3.0.0-py2.py3-none-any.whl.metadata (899 bytes)\n",
      "Requirement already satisfied: python-dateutil>=2.8.2 in /opt/conda/envs/tess/lib/python3.11/site-packages (from pandas==2.1.4) (2.9.0.post0)\n",
      "Requirement already satisfied: pytz>=2020.1 in /opt/conda/envs/tess/lib/python3.11/site-packages (from pandas==2.1.4) (2024.1)\n",
      "Requirement already satisfied: tzdata>=2022.1 in /opt/conda/envs/tess/lib/python3.11/site-packages (from pandas==2.1.4) (2024.1)\n",
      "Requirement already satisfied: aiohttp in /opt/conda/envs/tess/lib/python3.11/site-packages (from dask_gateway) (3.11.10)\n",
      "Requirement already satisfied: zipp>=0.5 in /opt/conda/envs/tess/lib/python3.11/site-packages (from importlib-metadata>=4.13.0->dask==2024.1.0->dask[dataframe]==2024.1.0) (3.19.2)\n",
      "Requirement already satisfied: MarkupSafe>=2.0 in /opt/conda/envs/tess/lib/python3.11/site-packages (from jinja2>=2.10.3->distributed==2024.1.0) (2.1.5)\n",
      "Requirement already satisfied: six>=1.5 in /opt/conda/envs/tess/lib/python3.11/site-packages (from python-dateutil>=2.8.2->pandas==2.1.4) (1.16.0)\n",
      "Requirement already satisfied: aiohappyeyeballs>=2.3.0 in /opt/conda/envs/tess/lib/python3.11/site-packages (from aiohttp->dask_gateway) (2.4.4)\n",
      "Requirement already satisfied: aiosignal>=1.1.2 in /opt/conda/envs/tess/lib/python3.11/site-packages (from aiohttp->dask_gateway) (1.3.1)\n",
      "Requirement already satisfied: attrs>=17.3.0 in /opt/conda/envs/tess/lib/python3.11/site-packages (from aiohttp->dask_gateway) (23.2.0)\n",
      "Requirement already satisfied: frozenlist>=1.1.1 in /opt/conda/envs/tess/lib/python3.11/site-packages (from aiohttp->dask_gateway) (1.5.0)\n",
      "Requirement already satisfied: multidict<7.0,>=4.5 in /opt/conda/envs/tess/lib/python3.11/site-packages (from aiohttp->dask_gateway) (6.1.0)\n",
      "Requirement already satisfied: propcache>=0.2.0 in /opt/conda/envs/tess/lib/python3.11/site-packages (from aiohttp->dask_gateway) (0.2.1)\n",
      "Requirement already satisfied: yarl<2.0,>=1.17.0 in /opt/conda/envs/tess/lib/python3.11/site-packages (from aiohttp->dask_gateway) (1.18.3)\n",
      "Requirement already satisfied: idna>=2.0 in /opt/conda/envs/tess/lib/python3.11/site-packages (from yarl<2.0,>=1.17.0->aiohttp->dask_gateway) (3.7)\n",
      "Using cached dask-2024.1.0-py3-none-any.whl (1.2 MB)\n",
      "Using cached distributed-2024.1.0-py3-none-any.whl (1.0 MB)\n",
      "Using cached msgpack-1.0.7-cp311-cp311-manylinux_2_17_x86_64.manylinux2014_x86_64.whl (557 kB)\n",
      "Using cached pandas-2.1.4-cp311-cp311-manylinux_2_17_x86_64.manylinux2014_x86_64.whl (12.2 MB)\n",
      "Using cached numpy-1.26.3-cp311-cp311-manylinux_2_17_x86_64.manylinux2014_x86_64.whl (18.3 MB)\n",
      "Using cached toolz-0.12.0-py3-none-any.whl (55 kB)\n",
      "Using cached tornado-6.4-cp38-abi3-manylinux_2_5_x86_64.manylinux1_x86_64.manylinux_2_17_x86_64.manylinux2014_x86_64.whl (435 kB)\n",
      "Using cached dask_gateway-2025.4.0-py3-none-any.whl (24 kB)\n",
      "Using cached sortedcontainers-2.4.0-py2.py3-none-any.whl (29 kB)\n",
      "Using cached tblib-3.1.0-py3-none-any.whl (12 kB)\n",
      "Using cached zict-3.0.0-py2.py3-none-any.whl (43 kB)\n",
      "Installing collected packages: sortedcontainers, zict, tornado, toolz, tblib, numpy, msgpack, pandas, dask, distributed, dask_gateway\n",
      "  Attempting uninstall: tornado\n",
      "    Found existing installation: tornado 6.4.1\n",
      "    Uninstalling tornado-6.4.1:\n",
      "      Successfully uninstalled tornado-6.4.1\n",
      "  Attempting uninstall: toolz\n",
      "    Found existing installation: toolz 0.12.1\n",
      "    Uninstalling toolz-0.12.1:\n",
      "      Successfully uninstalled toolz-0.12.1\n",
      "  Attempting uninstall: numpy\n",
      "    Found existing installation: numpy 1.26.4\n",
      "    Uninstalling numpy-1.26.4:\n",
      "      Successfully uninstalled numpy-1.26.4\n",
      "  Attempting uninstall: msgpack\n",
      "    Found existing installation: msgpack 1.0.8\n",
      "    Uninstalling msgpack-1.0.8:\n",
      "      Successfully uninstalled msgpack-1.0.8\n",
      "  Attempting uninstall: pandas\n",
      "    Found existing installation: pandas 2.2.2\n",
      "    Uninstalling pandas-2.2.2:\n",
      "      Successfully uninstalled pandas-2.2.2\n",
      "  Attempting uninstall: dask\n",
      "    Found existing installation: dask 2024.12.0\n",
      "    Uninstalling dask-2024.12.0:\n",
      "      Successfully uninstalled dask-2024.12.0\n",
      "\u001b[31mERROR: pip's dependency resolver does not currently take into account all the packages that are installed. This behaviour is the source of the following dependency conflicts.\n",
      "ticinfo 0.4.6 requires astroquery<=0.4.7,>=0.4.6, but you have astroquery 0.4.8 which is incompatible.\n",
      "lksearch 1.1.0 requires numpy<2.0.0,>=1.26.4, but you have numpy 1.26.3 which is incompatible.\n",
      "lksearch 1.1.0 requires pandas<3.0.0,>=2.2.2, but you have pandas 2.1.4 which is incompatible.\u001b[0m\u001b[31m\n",
      "\u001b[0mSuccessfully installed dask-2024.1.0 dask_gateway-2025.4.0 distributed-2024.1.0 msgpack-1.0.7 numpy-1.26.3 pandas-2.1.4 sortedcontainers-2.4.0 tblib-3.1.0 toolz-0.12.0 tornado-6.4 zict-3.0.0\n"
     ]
    }
   ],
   "source": [
    "!pip install dask[dataframe]==2024.1.0 distributed==2024.1.0 msgpack==1.0.7 pandas==2.1.4 numpy==1.26.3 toolz==0.12.0 tornado==6.4 dask_gateway"
   ]
  },
  {
   "cell_type": "markdown",
   "id": "f6816898-8198-407c-88ef-08634716886e",
   "metadata": {},
   "source": [
    "With our packages installed, let's import them below."
   ]
  },
  {
   "cell_type": "code",
   "execution_count": 16,
   "id": "1c4406e0-dbb9-4b0f-9152-3842e461adcb",
   "metadata": {},
   "outputs": [],
   "source": [
    "import time\n",
    "\n",
    "import astropy.units as u\n",
    "import dask\n",
    "import dask.array as da\n",
    "# import dask.dataframe as dd\n",
    "import numpy as np\n",
    "import matplotlib.pyplot as plt\n",
    "import pandas as pd\n",
    "import scipy \n",
    "from tqdm import tqdm\n",
    "\n",
    "from astroquery.mast import Observations, Catalogs\n",
    "from astroquery.gaia import Gaia\n",
    "from astropy.coordinates import SkyCoord\n",
    "from dask import delayed, compute\n",
    "from dask.dataframe.utils import make_meta\n",
    "from dask.diagnostics import ProgressBar  # Import the ProgressBar\n",
    "from dask_gateway import Gateway, GatewayCluster\n",
    "from distributed.diagnostics.plugin import PipInstall\n",
    "\n",
    "# Import necessary libraries\n",
    "import numpy as np\n",
    "import os\n",
    "import psutil\n",
    "import matplotlib.pyplot as plt\n",
    "from datetime import datetime\n",
    "import seaborn as sns\n",
    "from IPython.display import display, HTML\n",
    "\n",
    "# Import Dask components\n",
    "import dask\n",
    "from dask.distributed import Client, performance_report, wait\n",
    "\n",
    "from dask.distributed import performance_report\n",
    "\n",
    "import time\n",
    "import matplotlib.pyplot as plt\n",
    "import numpy as np\n",
    "from functools import partial\n",
    "import psutil\n",
    "import os\n",
    "from dask_gateway import Gateway, GatewayCluster\n",
    "\n",
    "import numpy as np\n",
    "import pandas as pd\n",
    "import os\n",
    "import psutil\n",
    "import matplotlib.pyplot as plt\n",
    "from datetime import datetime\n",
    "import seaborn as sns\n",
    "from IPython.display import display, HTML\n",
    "\n",
    "# Import Dask components\n",
    "import dask\n",
    "from dask.distributed import Client, performance_report, wait"
   ]
  },
  {
   "cell_type": "markdown",
   "id": "c7857c71-682d-419d-a6c4-be89101326b8",
   "metadata": {},
   "source": [
    "# Setting up the Dask cluster\n",
    "\n",
    "Next, we'll set up a *Dask Gateway*. A Gateway is a way to interact with Dask clusters, in particular the authentication and startup / shutdown components.\n",
    "\n",
    "When instantiating the Gateway, we have to specify the *address* we'd like to point to (the dask-gateway server hosted by the TIKE team) and then how we'd like to authenticate. "
   ]
  },
  {
   "cell_type": "code",
   "execution_count": 4,
   "id": "56ca419a-cb91-4d27-b0d9-f688787596ad",
   "metadata": {},
   "outputs": [],
   "source": [
    "gateway = Gateway(address=\"http://traefik-dask-gateway\", auth=\"jupyterhub\")"
   ]
  },
  {
   "cell_type": "markdown",
   "id": "e6bf63fc-6671-4be3-aecc-0389de3d46f4",
   "metadata": {},
   "source": [
    "This step essentially only creates configuration information. To assess whether everything's properly set up, we should actually interact with the Gateway --- for instance, by listing the clusters that we have access to. Let's see if there are any clusters open."
   ]
  },
  {
   "cell_type": "code",
   "execution_count": 33,
   "id": "8f808952-0187-4f9a-a785-2b1ccdd77170",
   "metadata": {},
   "outputs": [
    {
     "data": {
      "text/plain": [
       "[]"
      ]
     },
     "execution_count": 33,
     "metadata": {},
     "output_type": "execute_result"
    }
   ],
   "source": [
    "gateway.list_clusters()"
   ]
  },
  {
   "cell_type": "markdown",
   "id": "3e4a096a-2029-4334-a695-9992e69a60f3",
   "metadata": {},
   "source": [
    "We've printed an empty list. Why? Because we haven't started up any clusters through this gateway yet!\n",
    "\n",
    "Let's spin up a large cluster. We can do this with the `new_cluster` method, passing the `profile='cpu100'` argument to it. This asks Dask to create a cluster for us that has 100 available CPUs."
   ]
  },
  {
   "cell_type": "code",
   "execution_count": 26,
   "id": "75a68422-a9ba-4efb-9c22-17e3f612302b",
   "metadata": {},
   "outputs": [],
   "source": [
    "cluster = gateway.new_cluster(profile='cpu100')"
   ]
  },
  {
   "cell_type": "markdown",
   "id": "eeffec3e-6240-45c1-9941-69f7dfa8ebd3",
   "metadata": {},
   "source": [
    "Let's see what this cluster looks like. When we ask Jupyter to print it, a helpful UI will be rendered in the notebook. This graphic will be updated as resources are allocated toward and away from our cluster. *Note*: It's more performant to interact with this cluster programmatically instead of graphically. That is, don't click on the manual and adaptive scaling buttons below!"
   ]
  },
  {
   "cell_type": "code",
   "execution_count": 27,
   "id": "04070a4d-6e16-4324-b870-e08412cffea1",
   "metadata": {},
   "outputs": [
    {
     "data": {
      "application/vnd.jupyter.widget-view+json": {
       "model_id": "026710f1f3be4caab88c04ce64e2c9f2",
       "version_major": 2,
       "version_minor": 0
      },
      "text/plain": [
       "VBox(children=(HTML(value='<h2>GatewayCluster</h2>'), HBox(children=(HTML(value='\\n<div>\\n<style scoped>\\n    …"
      ]
     },
     "metadata": {},
     "output_type": "display_data"
    }
   ],
   "source": [
    "cluster"
   ]
  },
  {
   "cell_type": "markdown",
   "id": "d9e9e121-9497-4c35-b442-b27ce0710f9e",
   "metadata": {},
   "source": [
    "Our cluster doesn't have any workers or threads associated with it yet.  Again, this cluster has been initiated without any specified workers. To benefit from Dask's distributed computing strength, we'll need to specify how many workers the cluster should use and how they should be allocated. \n",
    "\n",
    "Let's fix that by asking the cluster to adapt between 2 and 3 workers."
   ]
  },
  {
   "cell_type": "code",
   "execution_count": 28,
   "id": "7e9ee280-9bce-4bd3-b5f5-ee2ed63e695a",
   "metadata": {},
   "outputs": [
    {
     "name": "stderr",
     "output_type": "stream",
     "text": [
      "/opt/conda/envs/tess/lib/python3.11/site-packages/dask_gateway/client.py:702: GatewayWarning: Adapt with `maximum=3, minimum=2` workers would exceed resource limit of 1 workers. Using `maximum=1, minimum=1` instead.\n",
      "  warnings.warn(GatewayWarning(msg[\"msg\"]))\n"
     ]
    }
   ],
   "source": [
    "# Adaptively scale between 2 and 3 workers\n",
    "cluster.adapt(minimum=2, maximum=3)"
   ]
  },
  {
   "cell_type": "markdown",
   "id": "aedd0d28-0016-4942-8ac6-e8c89d2c00f8",
   "metadata": {},
   "source": [
    "We'll get a message that our cluster cannot allocate more than 1 worker above. That's by design — the cluster that we requested has 95 threads and 1 worker, without flexibility.\n",
    "\n",
    "It can take a few minutes for the cluster resources to be allocated."
   ]
  },
  {
   "cell_type": "markdown",
   "id": "5c4c9f06-3acf-403d-8faa-4027e9ee02c3",
   "metadata": {},
   "source": [
    "Once the cluster is set up, we can set up a client. The client allows us to explicitly interact with the cluster. \n",
    "\n",
    "[todo: explain more?]"
   ]
  },
  {
   "cell_type": "code",
   "execution_count": 13,
   "id": "aa77a2a4-3510-4796-8a1e-dac3ab222bb9",
   "metadata": {},
   "outputs": [
    {
     "name": "stderr",
     "output_type": "stream",
     "text": [
      "/opt/conda/envs/tess/lib/python3.11/site-packages/distributed/client.py:1391: VersionMismatchWarning: Mismatched versions found\n",
      "\n",
      "+---------+--------+-----------+---------+\n",
      "| Package | Client | Scheduler | Workers |\n",
      "+---------+--------+-----------+---------+\n",
      "| tornado | 6.4.1  | 6.4       | 6.4     |\n",
      "+---------+--------+-----------+---------+\n",
      "  warnings.warn(version_module.VersionMismatchWarning(msg[0][\"warning\"]))\n"
     ]
    },
    {
     "data": {
      "text/html": [
       "<div>\n",
       "    <div style=\"width: 24px; height: 24px; background-color: #e1e1e1; border: 3px solid #9D9D9D; border-radius: 5px; position: absolute;\"> </div>\n",
       "    <div style=\"margin-left: 48px;\">\n",
       "        <h3 style=\"margin-bottom: 0px;\">Client</h3>\n",
       "        <p style=\"color: #9D9D9D; margin-bottom: 0px;\">Client-96d3026e-36b2-11f0-8420-a2e39db94ce6</p>\n",
       "        <table style=\"width: 100%; text-align: left;\">\n",
       "\n",
       "        <tr>\n",
       "        \n",
       "            <td style=\"text-align: left;\"><strong>Connection method:</strong> Cluster object</td>\n",
       "            <td style=\"text-align: left;\"><strong>Cluster type:</strong> dask_gateway.GatewayCluster</td>\n",
       "        \n",
       "        </tr>\n",
       "\n",
       "        \n",
       "            <tr>\n",
       "                <td style=\"text-align: left;\">\n",
       "                    <strong>Dashboard: </strong> <a href=\"http://traefik-dask-gateway/clusters/default.592c7ec4b8144a59a5b7e0f664021e11/status\" target=\"_blank\">http://traefik-dask-gateway/clusters/default.592c7ec4b8144a59a5b7e0f664021e11/status</a>\n",
       "                </td>\n",
       "                <td style=\"text-align: left;\"></td>\n",
       "            </tr>\n",
       "        \n",
       "\n",
       "        </table>\n",
       "\n",
       "        \n",
       "\n",
       "        \n",
       "            <details>\n",
       "            <summary style=\"margin-bottom: 20px;\"><h3 style=\"display: inline;\">Cluster Info</h3></summary>\n",
       "            <div style='background-color: #f2f2f2; display: inline-block; padding: 10px; border: 1px solid #999999;'>\n",
       "  <h3>GatewayCluster</h3>\n",
       "  <ul>\n",
       "    <li><b>Name: </b>default.592c7ec4b8144a59a5b7e0f664021e11\n",
       "    <li><b>Dashboard: </b><a href='http://traefik-dask-gateway/clusters/default.592c7ec4b8144a59a5b7e0f664021e11/status' target='_blank'>http://traefik-dask-gateway/clusters/default.592c7ec4b8144a59a5b7e0f664021e11/status</a>\n",
       "  </ul>\n",
       "</div>\n",
       "\n",
       "            </details>\n",
       "        \n",
       "\n",
       "    </div>\n",
       "</div>"
      ],
      "text/plain": [
       "<Client: 'tls://10.143.26.230:8786' processes=1 threads=95, memory=160.00 GiB>"
      ]
     },
     "execution_count": 13,
     "metadata": {},
     "output_type": "execute_result"
    },
    {
     "name": "stderr",
     "output_type": "stream",
     "text": [
      "2025-05-22 02:24:35,260 - distributed.client - ERROR - Failed to reconnect to scheduler after 30.00 seconds, closing client\n"
     ]
    }
   ],
   "source": [
    "client = cluster.get_client()\n",
    "client"
   ]
  },
  {
   "cell_type": "markdown",
   "id": "514f142a-64d6-4a92-8d00-5e4394e48501",
   "metadata": {},
   "source": [
    "When we look at the client, we should immediately get a warning about a version mismatch between the client and the scheduler. This essentially means that the workers and the local version of Python that we're working with through the notebook have different versions, which can lead to confusion as Dask attempts to schedule tasks."
   ]
  },
  {
   "cell_type": "markdown",
   "id": "678dc61c-c7fc-43aa-898a-12f65e07568c",
   "metadata": {},
   "source": [
    "Luckily, this is easily fixed. All we have to do is \"register\" the package. This essentially installs a package version on the client side."
   ]
  },
  {
   "cell_type": "code",
   "execution_count": 15,
   "id": "943fbab1-a66a-433a-923a-e322df07d423",
   "metadata": {},
   "outputs": [],
   "source": [
    "plugin = PipInstall(packages=[\n",
    "    \"tornado==6.4.1\"\n",
    "])\n",
    "\n",
    "# essentially pip installs the package on the cluster\n",
    "client.register_plugin(plugin)"
   ]
  },
  {
   "cell_type": "markdown",
   "id": "b67877e4-4c7a-43de-a10d-74d713f096f4",
   "metadata": {},
   "source": [
    "# Benchmarking Dask"
   ]
  },
  {
   "cell_type": "markdown",
   "id": "ba938eb7-3528-4419-876b-4b0f09c00455",
   "metadata": {},
   "source": [
    "We have everything set up. Let's work on a test problem now. We'll set a CPU-intensive task that essentially performs matrix operations. We'll leave the function modular enough so that you can implement your own benchmarks as you see fit.\n",
    "\n",
    "Note that our benchmarking function (`cpu_intensive_task`) is a relatively normal function. It uses Python libraries, instantiates some arrays, and performs operations on those arrays. Importantly, very call to this function (specified by `cpu_intensive_task`) can be performed independently, so we can pass this function to `client.map` (which is analagous to Python's builtin `map` function)."
   ]
  },
  {
   "cell_type": "code",
   "execution_count": 17,
   "id": "a10352e7-0193-4095-96a2-9c186dc04211",
   "metadata": {},
   "outputs": [],
   "source": [
    "def cpu_intensive_task(task_id, matrix_size=1000, iterations=20):\n",
    "    \"\"\"A CPU-intensive task that performs matrix operations repeatedly.\"\"\"\n",
    "    start_time = time.time()\n",
    "    \n",
    "    # Create random matrices\n",
    "    matrix_a = np.random.random((matrix_size, matrix_size))\n",
    "    matrix_b = np.random.random((matrix_size, matrix_size))\n",
    "    \n",
    "    # Perform multiple matrix operations to simulate CPU-intensive work\n",
    "    result = np.identity(matrix_size)\n",
    "    for i in range(iterations):\n",
    "        # Mix of operations to stress different CPU aspects\n",
    "        if i % 3 == 0:\n",
    "            result = np.matmul(result, matrix_a)\n",
    "        elif i % 3 == 1:\n",
    "            result = np.matmul(result, matrix_b)\n",
    "        else:\n",
    "            # Element-wise operations\n",
    "            temp = np.sin(matrix_a) + np.cos(matrix_b)\n",
    "            result = result + temp\n",
    "            \n",
    "        # Add some scalar operations\n",
    "        result = result * 0.9999\n",
    "    \n",
    "    # Force some memory pressure with intermediate results\n",
    "    intermediate_results = []\n",
    "    for i in range(3):\n",
    "        intermediate_results.append(result + np.random.random((matrix_size, matrix_size)) * 0.001)\n",
    "    \n",
    "    # Calculate some statistics to ensure work isn't optimized away\n",
    "    stats = {\n",
    "        'mean': float(np.mean(result)),\n",
    "        'std': float(np.std(result)),\n",
    "        'min': float(np.min(result)),\n",
    "        'max': float(np.max(result)),\n",
    "        'task_id': task_id,\n",
    "        'duration': time.time() - start_time\n",
    "    }\n",
    "    \n",
    "    return stats\n",
    "\n",
    "\n",
    "# Simple function to run the benchmark in a notebook\n",
    "def run_benchmark(client, task_type='cpu', num_tasks=100, matrix_size=1000, iterations=20):\n",
    "    \"\"\"Run a benchmark with the specified parameters using client.map\"\"\"\n",
    "    \n",
    "    print(f\"Starting Dask benchmark with {num_tasks} {task_type} tasks\")\n",
    "    print(f\"Connected to Dask cluster: {client.dashboard_link}\")\n",
    "    \n",
    "    # Display system information\n",
    "    print(\"\\n--- System Information ---\")\n",
    "    print(f\"CPU cores: {psutil.cpu_count(logical=False)} physical, {psutil.cpu_count(logical=True)} logical\")\n",
    "    print(f\"Memory: {psutil.virtual_memory().total / (1024**3):.1f} GB total\")\n",
    "    \n",
    "    # Get cluster information and number of workers\n",
    "    workers_info = client.scheduler_info()['workers']\n",
    "    num_workers = len(workers_info)\n",
    "    print(f\"Number of workers: {num_workers}\")\n",
    "    \n",
    "    # Prepare task arguments based on the task type\n",
    "    if task_type == 'cpu':\n",
    "        task_args = [(i, matrix_size, iterations) for i in range(num_tasks)]\n",
    "        args_transposed = list(zip(*task_args))\n",
    "        \n",
    "        # Start the benchmark\n",
    "        print(\"Submitting tasks using client.map...\")\n",
    "        start_time = time.time()\n",
    "        \n",
    "        # Use client.map to submit all tasks at once\n",
    "        futures = client.map(cpu_intensive_task, *args_transposed)\n",
    "        \n",
    "    else:\n",
    "        raise ValueError(f\"Unknown task type: {task_type}. Perhaps it needs to be implemented!\")\n",
    "    \n",
    "    # Wait for tasks to complete - show progress\n",
    "    total_tasks = len(futures)\n",
    "    print(f\"Waiting for {total_tasks} tasks to complete...\")\n",
    "    \n",
    "    # Track progress\n",
    "    def print_progress(futures):\n",
    "        completed = sum(f.done() for f in futures)\n",
    "        print(f\"Completed: {completed}/{total_tasks} tasks ({completed/total_tasks*100:.1f}%)\")\n",
    "    \n",
    "    # Wait for all futures to complete\n",
    "    while not all(f.done() for f in futures):\n",
    "        print_progress(futures)\n",
    "        time.sleep(2)\n",
    "    \n",
    "    # Gather results\n",
    "    print(\"Gathering results...\")\n",
    "    results = client.gather(futures)\n",
    "    \n",
    "    total_duration = time.time() - start_time\n",
    "    print(f\"Benchmark completed in {total_duration:.2f} seconds\")\n",
    "    \n",
    "    # Convert results to DataFrame\n",
    "    df = pd.DataFrame(results)\n",
    "    df['task_type'] = task_type\n",
    "    \n",
    "    # Show some basic analysis\n",
    "    print(\"\\n--- Benchmark Analysis ---\")\n",
    "    print(f\"Total execution time: {total_duration:.2f} seconds\")\n",
    "    \n",
    "    # Calculate statistics\n",
    "    task_stats = df.groupby('task_type')['duration'].agg(['count', 'mean', 'std', 'min', 'max'])\n",
    "    display(HTML(\"<h3>Task Statistics</h3>\"))\n",
    "    display(task_stats)\n",
    "    \n",
    "    # Calculate throughput\n",
    "    tasks_per_second = total_tasks / total_duration\n",
    "    tasks_per_worker_second = tasks_per_second / num_workers if num_workers > 0 else 0\n",
    "    \n",
    "    print(f\"\\nThroughput:\")\n",
    "    print(f\"- Total tasks: {total_tasks}\")\n",
    "    print(f\"- Tasks per second: {tasks_per_second:.2f}\")\n",
    "    print(f\"- Tasks per worker per second: {tasks_per_worker_second:.2f}\")\n",
    "    \n",
    "    # Plot a histogram of task durations\n",
    "    plt.figure(figsize=(10, 6))\n",
    "    sns.histplot(df['duration'], kde=True)\n",
    "    plt.title(f'Distribution of {task_type.upper()} Task Durations')\n",
    "    plt.xlabel('Duration (seconds)')\n",
    "    plt.ylabel('Count')\n",
    "    plt.show()\n",
    "    \n",
    "    return df, total_duration\n",
    "\n",
    "\n"
   ]
  },
  {
   "cell_type": "markdown",
   "id": "60c537bb-2c8c-4cbc-a034-c0b9b12226ac",
   "metadata": {},
   "source": [
    "Now, let's run our benchmark function. We'll wrap our benchmark function in a call to `performance_report`. Doing so will have the side effect of producing a useful html file summarizing our Dask cluster usage."
   ]
  },
  {
   "cell_type": "code",
   "execution_count": 18,
   "id": "b27c38b9-bbc5-4e4c-87c9-8ffa98fca2d7",
   "metadata": {},
   "outputs": [
    {
     "name": "stdout",
     "output_type": "stream",
     "text": [
      "Starting Dask benchmark with 100 cpu tasks\n",
      "Connected to Dask cluster: http://traefik-dask-gateway/clusters/default.592c7ec4b8144a59a5b7e0f664021e11/status\n",
      "\n",
      "--- System Information ---\n",
      "CPU cores: 1 physical, 2 logical\n",
      "Memory: 7.6 GB total\n",
      "Number of workers: 1\n",
      "Submitting tasks using client.map...\n",
      "Waiting for 100 tasks to complete...\n",
      "Completed: 0/100 tasks (0.0%)\n",
      "Completed: 0/100 tasks (0.0%)\n",
      "Completed: 0/100 tasks (0.0%)\n",
      "Gathering results...\n",
      "Benchmark completed in 6.04 seconds\n",
      "\n",
      "--- Benchmark Analysis ---\n",
      "Total execution time: 6.04 seconds\n"
     ]
    },
    {
     "data": {
      "text/html": [
       "<h3>Task Statistics</h3>"
      ],
      "text/plain": [
       "<IPython.core.display.HTML object>"
      ]
     },
     "metadata": {},
     "output_type": "display_data"
    },
    {
     "data": {
      "text/html": [
       "<div>\n",
       "<style scoped>\n",
       "    .dataframe tbody tr th:only-of-type {\n",
       "        vertical-align: middle;\n",
       "    }\n",
       "\n",
       "    .dataframe tbody tr th {\n",
       "        vertical-align: top;\n",
       "    }\n",
       "\n",
       "    .dataframe thead th {\n",
       "        text-align: right;\n",
       "    }\n",
       "</style>\n",
       "<table border=\"1\" class=\"dataframe\">\n",
       "  <thead>\n",
       "    <tr style=\"text-align: right;\">\n",
       "      <th></th>\n",
       "      <th>count</th>\n",
       "      <th>mean</th>\n",
       "      <th>std</th>\n",
       "      <th>min</th>\n",
       "      <th>max</th>\n",
       "    </tr>\n",
       "    <tr>\n",
       "      <th>task_type</th>\n",
       "      <th></th>\n",
       "      <th></th>\n",
       "      <th></th>\n",
       "      <th></th>\n",
       "      <th></th>\n",
       "    </tr>\n",
       "  </thead>\n",
       "  <tbody>\n",
       "    <tr>\n",
       "      <th>cpu</th>\n",
       "      <td>100</td>\n",
       "      <td>4.905248</td>\n",
       "      <td>0.902378</td>\n",
       "      <td>1.083764</td>\n",
       "      <td>5.58437</td>\n",
       "    </tr>\n",
       "  </tbody>\n",
       "</table>\n",
       "</div>"
      ],
      "text/plain": [
       "           count      mean       std       min      max\n",
       "task_type                                              \n",
       "cpu          100  4.905248  0.902378  1.083764  5.58437"
      ]
     },
     "metadata": {},
     "output_type": "display_data"
    },
    {
     "name": "stdout",
     "output_type": "stream",
     "text": [
      "\n",
      "Throughput:\n",
      "- Total tasks: 100\n",
      "- Tasks per second: 16.56\n",
      "- Tasks per worker per second: 16.56\n"
     ]
    },
    {
     "data": {
      "image/png": "[encoded data removed]",
      "text/plain": [
       "<Figure size 1000x600 with 1 Axes>"
      ]
     },
     "metadata": {},
     "output_type": "display_data"
    }
   ],
   "source": [
    "with performance_report(filename=\"dask-report_existing_client.html\"):\n",
    "    with dask.config.set(scheduler='distributed'):\n",
    "        \n",
    "        # Run the benchmark\n",
    "        results, duration = run_benchmark(\n",
    "            client=client,\n",
    "            task_type='cpu',\n",
    "            num_tasks=100,\n",
    "            matrix_size=1000,\n",
    "            iterations=20\n",
    "        )"
   ]
  },
  {
   "cell_type": "markdown",
   "id": "8eb344a2-3b79-4711-b6d8-1384bbff6495",
   "metadata": {},
   "source": [
    "The plot shown here provides some intuition regarding the computation. Most tasks took somewhere between 4 and 5 seconds, whereas others were completed much more quickly. \n",
    "\n",
    "We can access much more granularity regarding these computations (e.g., memory and CPU consumption) by inspecting the HTML file that we output. Mouse over to the filer browser to your left and double-click on `dask-report_existing_client.html`. You'll need to verify that you trust the file (you probably should, given that you just generated it!). The first tab will present you with a simple summary of the computation, including the code block that called the performance report, how many tasks were submitted to Dask, and how long the computation took. The `system` tab is particularly useful, as it shows how much CPU, memory, and bandwidth were used over the course of the Dask calculation."
   ]
  },
  {
   "cell_type": "markdown",
   "id": "7aa73d8e-01c5-4593-a891-e533c5c63089",
   "metadata": {},
   "source": [
    "That calculation seems pretty fast. Exactly how fast, though? Let's compare that runtime to that of a smaller cluster. First, let's clean up our workspace by shutting down the cluster. This is really important — it ensures that TIKE doesn't use unnecessary resources!"
   ]
  },
  {
   "cell_type": "code",
   "execution_count": 42,
   "id": "82fa6fd2-8b9a-4c2d-bbad-a9a8fdfaaee4",
   "metadata": {},
   "outputs": [],
   "source": [
    "cluster.shutdown()"
   ]
  },
  {
   "cell_type": "markdown",
   "id": "647007b2-94af-4f37-91dd-1e5f7c8e46f7",
   "metadata": {},
   "source": [
    "We can check that this worked correctly by again listing the clusters associated with our gateway."
   ]
  },
  {
   "cell_type": "code",
   "execution_count": 43,
   "id": "3d5b22ee-bd43-45b6-aa2c-618a44fcde4d",
   "metadata": {},
   "outputs": [
    {
     "data": {
      "text/plain": [
       "[]"
      ]
     },
     "execution_count": 43,
     "metadata": {},
     "output_type": "execute_result"
    }
   ],
   "source": [
    "gateway.list_clusters()"
   ]
  },
  {
   "cell_type": "markdown",
   "id": "89294810-5a8a-488e-b9a1-75b8650830a5",
   "metadata": {},
   "source": [
    "Great, an empty list! Now, we can spin up another cluster without passing the `cpu100` profile."
   ]
  },
  {
   "cell_type": "code",
   "execution_count": 36,
   "id": "201efde8-954b-41fd-b830-6bf28c7c2036",
   "metadata": {},
   "outputs": [
    {
     "data": {
      "application/vnd.jupyter.widget-view+json": {
       "model_id": "c67f101f2353464a8674d71b150504e8",
       "version_major": 2,
       "version_minor": 0
      },
      "text/plain": [
       "VBox(children=(HTML(value='<h2>GatewayCluster</h2>'), HBox(children=(HTML(value='\\n<div>\\n<style scoped>\\n    …"
      ]
     },
     "metadata": {},
     "output_type": "display_data"
    }
   ],
   "source": [
    "cluster = gateway.new_cluster()\n",
    "cluster"
   ]
  },
  {
   "cell_type": "markdown",
   "id": "62138283-a4b4-4394-ba18-9db5c7b1ac1b",
   "metadata": {},
   "source": [
    "We can once again ask for some number of workers."
   ]
  },
  {
   "cell_type": "code",
   "execution_count": 37,
   "id": "ee5b80f4-5540-4d11-afda-51f4fca72756",
   "metadata": {},
   "outputs": [],
   "source": [
    "# Adaptively scale between 2 and 3 workers\n",
    "cluster.adapt(minimum=2, maximum=3)"
   ]
  },
  {
   "cell_type": "markdown",
   "id": "6430f2c2-9558-4dd9-a062-35a1d5ef8543",
   "metadata": {},
   "source": [
    "Note that we didn't get a warning this time, because we didn't specifically request the cluster option that allows 100 CPUs.\n",
    "\n",
    "Let's get our cluster once again."
   ]
  },
  {
   "cell_type": "code",
   "execution_count": 38,
   "id": "2ad00239-e1a2-462a-a263-533eb1c6c1e9",
   "metadata": {},
   "outputs": [
    {
     "name": "stderr",
     "output_type": "stream",
     "text": [
      "/opt/conda/envs/tess/lib/python3.11/site-packages/distributed/client.py:1391: VersionMismatchWarning: Mismatched versions found\n",
      "\n",
      "+---------+--------+-----------+---------+\n",
      "| Package | Client | Scheduler | Workers |\n",
      "+---------+--------+-----------+---------+\n",
      "| tornado | 6.4.1  | 6.4       | None    |\n",
      "+---------+--------+-----------+---------+\n",
      "  warnings.warn(version_module.VersionMismatchWarning(msg[0][\"warning\"]))\n"
     ]
    },
    {
     "data": {
      "text/html": [
       "<div>\n",
       "    <div style=\"width: 24px; height: 24px; background-color: #e1e1e1; border: 3px solid #9D9D9D; border-radius: 5px; position: absolute;\"> </div>\n",
       "    <div style=\"margin-left: 48px;\">\n",
       "        <h3 style=\"margin-bottom: 0px;\">Client</h3>\n",
       "        <p style=\"color: #9D9D9D; margin-bottom: 0px;\">Client-47954d23-36b6-11f0-8420-a2e39db94ce6</p>\n",
       "        <table style=\"width: 100%; text-align: left;\">\n",
       "\n",
       "        <tr>\n",
       "        \n",
       "            <td style=\"text-align: left;\"><strong>Connection method:</strong> Cluster object</td>\n",
       "            <td style=\"text-align: left;\"><strong>Cluster type:</strong> dask_gateway.GatewayCluster</td>\n",
       "        \n",
       "        </tr>\n",
       "\n",
       "        \n",
       "            <tr>\n",
       "                <td style=\"text-align: left;\">\n",
       "                    <strong>Dashboard: </strong> <a href=\"http://traefik-dask-gateway/clusters/default.2f57d458961e4231b55ff9c80b8b5e65/status\" target=\"_blank\">http://traefik-dask-gateway/clusters/default.2f57d458961e4231b55ff9c80b8b5e65/status</a>\n",
       "                </td>\n",
       "                <td style=\"text-align: left;\"></td>\n",
       "            </tr>\n",
       "        \n",
       "\n",
       "        </table>\n",
       "\n",
       "        \n",
       "\n",
       "        \n",
       "            <details>\n",
       "            <summary style=\"margin-bottom: 20px;\"><h3 style=\"display: inline;\">Cluster Info</h3></summary>\n",
       "            <div style='background-color: #f2f2f2; display: inline-block; padding: 10px; border: 1px solid #999999;'>\n",
       "  <h3>GatewayCluster</h3>\n",
       "  <ul>\n",
       "    <li><b>Name: </b>default.2f57d458961e4231b55ff9c80b8b5e65\n",
       "    <li><b>Dashboard: </b><a href='http://traefik-dask-gateway/clusters/default.2f57d458961e4231b55ff9c80b8b5e65/status' target='_blank'>http://traefik-dask-gateway/clusters/default.2f57d458961e4231b55ff9c80b8b5e65/status</a>\n",
       "  </ul>\n",
       "</div>\n",
       "\n",
       "            </details>\n",
       "        \n",
       "\n",
       "    </div>\n",
       "</div>"
      ],
      "text/plain": [
       "<Client: 'tls://10.143.27.209:8786' processes=0 threads=0, memory=0 B>"
      ]
     },
     "execution_count": 38,
     "metadata": {},
     "output_type": "execute_result"
    }
   ],
   "source": [
    "client = cluster.get_client()\n",
    "client"
   ]
  },
  {
   "cell_type": "code",
   "execution_count": 39,
   "id": "cb9bd839-a10e-4234-92db-9f506827e590",
   "metadata": {},
   "outputs": [],
   "source": [
    "plugin = PipInstall(packages=[\n",
    "    \"tornado==6.4.1\"\n",
    "])\n",
    "client.register_plugin(plugin)"
   ]
  },
  {
   "cell_type": "markdown",
   "id": "58c6f49d-b2f7-4a62-9eab-9cfc56b9e819",
   "metadata": {},
   "source": [
    "Once the cluster UI indicates that our requested workers are ready, we can once again try our benchmark, passing the new client corresponding to the new cluster. This time, as the code runs, watch the number of workers and threads might change. This means Dask is working as expected — it's dynamically scaling up the resources available to us from the broader TIKE CPU pool based on the amount of work we're currently requesting to complete. Neat!"
   ]
  },
  {
   "cell_type": "code",
   "execution_count": 40,
   "id": "00d02b31-2be3-4843-a0d1-af562d411aba",
   "metadata": {},
   "outputs": [
    {
     "name": "stdout",
     "output_type": "stream",
     "text": [
      "Starting Dask benchmark with 100 cpu tasks\n",
      "Connected to Dask cluster: http://traefik-dask-gateway/clusters/default.2f57d458961e4231b55ff9c80b8b5e65/status\n",
      "\n",
      "--- System Information ---\n",
      "CPU cores: 1 physical, 2 logical\n",
      "Memory: 7.6 GB total\n",
      "Number of workers: 1\n",
      "Submitting tasks using client.map...\n",
      "Waiting for 100 tasks to complete...\n",
      "Completed: 0/100 tasks (0.0%)\n",
      "Completed: 3/100 tasks (3.0%)\n",
      "Completed: 9/100 tasks (9.0%)\n",
      "Completed: 14/100 tasks (14.0%)\n",
      "Completed: 19/100 tasks (19.0%)\n",
      "Completed: 24/100 tasks (24.0%)\n",
      "Completed: 29/100 tasks (29.0%)\n",
      "Completed: 35/100 tasks (35.0%)\n",
      "Completed: 40/100 tasks (40.0%)\n",
      "Completed: 45/100 tasks (45.0%)\n",
      "Completed: 51/100 tasks (51.0%)\n",
      "Completed: 57/100 tasks (57.0%)\n",
      "Completed: 60/100 tasks (60.0%)\n",
      "Completed: 66/100 tasks (66.0%)\n",
      "Completed: 71/100 tasks (71.0%)\n",
      "Completed: 75/100 tasks (75.0%)\n",
      "Completed: 81/100 tasks (81.0%)\n",
      "Completed: 87/100 tasks (87.0%)\n",
      "Completed: 92/100 tasks (92.0%)\n",
      "Gathering results...\n",
      "Benchmark completed in 38.05 seconds\n",
      "\n",
      "--- Benchmark Analysis ---\n",
      "Total execution time: 38.05 seconds\n"
     ]
    },
    {
     "data": {
      "text/html": [
       "<h3>Task Statistics</h3>"
      ],
      "text/plain": [
       "<IPython.core.display.HTML object>"
      ]
     },
     "metadata": {},
     "output_type": "display_data"
    },
    {
     "data": {
      "text/html": [
       "<div>\n",
       "<style scoped>\n",
       "    .dataframe tbody tr th:only-of-type {\n",
       "        vertical-align: middle;\n",
       "    }\n",
       "\n",
       "    .dataframe tbody tr th {\n",
       "        vertical-align: top;\n",
       "    }\n",
       "\n",
       "    .dataframe thead th {\n",
       "        text-align: right;\n",
       "    }\n",
       "</style>\n",
       "<table border=\"1\" class=\"dataframe\">\n",
       "  <thead>\n",
       "    <tr style=\"text-align: right;\">\n",
       "      <th></th>\n",
       "      <th>count</th>\n",
       "      <th>mean</th>\n",
       "      <th>std</th>\n",
       "      <th>min</th>\n",
       "      <th>max</th>\n",
       "    </tr>\n",
       "    <tr>\n",
       "      <th>task_type</th>\n",
       "      <th></th>\n",
       "      <th></th>\n",
       "      <th></th>\n",
       "      <th></th>\n",
       "      <th></th>\n",
       "    </tr>\n",
       "  </thead>\n",
       "  <tbody>\n",
       "    <tr>\n",
       "      <th>cpu</th>\n",
       "      <td>100</td>\n",
       "      <td>1.163201</td>\n",
       "      <td>0.106782</td>\n",
       "      <td>0.814741</td>\n",
       "      <td>1.543228</td>\n",
       "    </tr>\n",
       "  </tbody>\n",
       "</table>\n",
       "</div>"
      ],
      "text/plain": [
       "           count      mean       std       min       max\n",
       "task_type                                               \n",
       "cpu          100  1.163201  0.106782  0.814741  1.543228"
      ]
     },
     "metadata": {},
     "output_type": "display_data"
    },
    {
     "name": "stdout",
     "output_type": "stream",
     "text": [
      "\n",
      "Throughput:\n",
      "- Total tasks: 100\n",
      "- Tasks per second: 2.63\n",
      "- Tasks per worker per second: 2.63\n"
     ]
    },
    {
     "data": {
      "image/png": "[encoded data removed]",
      "text/plain": [
       "<Figure size 1000x600 with 1 Axes>"
      ]
     },
     "metadata": {},
     "output_type": "display_data"
    }
   ],
   "source": [
    "with performance_report(filename=\"dask-report_existing_client_smaller.html\"):\n",
    "    with dask.config.set(scheduler='distributed'):\n",
    "        \n",
    "        # Run the benchmark\n",
    "        results, duration = run_benchmark(\n",
    "            client=client,\n",
    "            task_type='cpu',\n",
    "            num_tasks=100,\n",
    "            matrix_size=1000,\n",
    "            iterations=20\n",
    "        )"
   ]
  },
  {
   "cell_type": "markdown",
   "id": "32eb2a9d-f3c6-4bd6-b167-3b93fa3d3b0e",
   "metadata": {},
   "source": [
    "OK, that's definitely slower than the `cpu100` option, but the math seems fishy. When running the above cell, you might see utilization of anywhere between 3 and 12 CPU (multiplying workers and threads), but slowdowns of only 3-6x. Why is that?\n",
    "\n",
    "For tasks that individually are short or require limited computaitonal resources, the human-recorded (wall) time speedup will be modest. This is because Dask incurs some overhead when it's figuring out what tasks have been asked of it and how to allocate those tasks to individual workers (i.e., when optimizing how best to parallelize the work provided)."
   ]
  },
  {
   "cell_type": "markdown",
   "id": "08df3f6c-899e-475c-a169-3c50f92da4e0",
   "metadata": {},
   "source": [
    "Feel free to see how this scales if, e.g., you increase the matrix size to 5000. You should expect the speedup factor to approach 10 in those cases that are purely CPU-bound."
   ]
  },
  {
   "cell_type": "markdown",
   "id": "7c2a3574-183c-48f4-a09b-8495f57e455c",
   "metadata": {},
   "source": [
    "Again, once you're done with your cluster, make sure to shut it down!"
   ]
  },
  {
   "cell_type": "code",
   "execution_count": 41,
   "id": "6326f1e4-a214-48c9-a70c-4629401743f1",
   "metadata": {},
   "outputs": [],
   "source": [
    "cluster.shutdown()"
   ]
  },
  {
   "cell_type": "markdown",
   "id": "6c33d542-460d-411c-a29f-32d076203a4c",
   "metadata": {},
   "source": [
    "# Resources\n",
    "- `Dask.distributed documentation:  https://distributed.dask.org/en/stable/index.html\n",
    "- General Dask documentation: https://docs.dask.org/en/stable/"
   ]
  },
  {
   "cell_type": "code",
   "execution_count": null,
   "id": "05412464-661d-4fb6-9376-6bbb2028a4ea",
   "metadata": {},
   "outputs": [],
   "source": []
  }
 ],
 "metadata": {
  "kernelspec": {
   "display_name": "TESS Environment",
   "language": "python",
   "name": "tess"
  },
  "language_info": {
   "codemirror_mode": {
    "name": "ipython",
    "version": 3
   },
   "file_extension": ".py",
   "mimetype": "text/x-python",
   "name": "python",
   "nbconvert_exporter": "python",
   "pygments_lexer": "ipython3",
   "version": "3.11.12"
  }
 },
 "nbformat": 4,
 "nbformat_minor": 5
}
