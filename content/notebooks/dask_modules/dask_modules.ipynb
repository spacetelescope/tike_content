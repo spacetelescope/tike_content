{
 "cells": [
  {
   "cell_type": "markdown",
   "id": "4b87f872-c3b7-43f0-be24-e363525edfd7",
   "metadata": {},
   "source": [
    "# Custom modules in Dask\n",
    "We've seen in other tutorials how to use Dask to speed up a number of calculations. These calculations have so far included Python built-ins and pip-installable packages. Common scientific workflows often include *custom* modules and packages built by users that aren't easily pip-installable. What then?\n",
    "\n",
    "This tutorial will demonstrate how to use Dask to accelerate code that uses custom modules. We'll show how to do this with custom code of increasing complexity, starting from a simple python file and ending with a full custom package cloned from GitHub."
   ]
  },
  {
   "cell_type": "markdown",
   "id": "6e2a0756-b649-4559-87b8-e80e95419f30",
   "metadata": {},
   "source": [
    "Before we get too far, let's set up Dask as usual."
   ]
  },
  {
   "cell_type": "code",
   "execution_count": 2,
   "id": "49e3c554-34ba-43bd-a7df-73a72d949e96",
   "metadata": {},
   "outputs": [
    {
     "name": "stdout",
     "output_type": "stream",
     "text": [
      "3.11.7\n"
     ]
    }
   ],
   "source": [
    "from platform import python_version\n",
    "\n",
    "print(python_version())"
   ]
  },
  {
   "cell_type": "code",
   "execution_count": 3,
   "id": "5b91cf7a-f7be-4aeb-805f-8af5be6a9560",
   "metadata": {},
   "outputs": [
    {
     "name": "stdout",
     "output_type": "stream",
     "text": [
      "Requirement already satisfied: dask==2024.1.0 in /opt/conda/envs/tess/lib/python3.11/site-packages (from dask[dataframe]==2024.1.0) (2024.1.0)\n",
      "Requirement already satisfied: distributed==2024.1.0 in /opt/conda/envs/tess/lib/python3.11/site-packages (2024.1.0)\n",
      "Requirement already satisfied: msgpack==1.0.7 in /opt/conda/envs/tess/lib/python3.11/site-packages (1.0.7)\n",
      "Requirement already satisfied: pandas==2.1.4 in /opt/conda/envs/tess/lib/python3.11/site-packages (2.1.4)\n",
      "Requirement already satisfied: numpy==1.26.3 in /opt/conda/envs/tess/lib/python3.11/site-packages (1.26.3)\n",
      "Requirement already satisfied: toolz==0.12.0 in /opt/conda/envs/tess/lib/python3.11/site-packages (0.12.0)\n",
      "Requirement already satisfied: tornado==6.4 in /opt/conda/envs/tess/lib/python3.11/site-packages (6.4)\n",
      "Requirement already satisfied: dask_gateway in /opt/conda/envs/tess/lib/python3.11/site-packages (2025.4.0)\n",
      "Requirement already satisfied: click>=8.1 in /opt/conda/envs/tess/lib/python3.11/site-packages (from dask==2024.1.0->dask[dataframe]==2024.1.0) (8.2.1)\n",
      "Requirement already satisfied: cloudpickle>=1.5.0 in /opt/conda/envs/tess/lib/python3.11/site-packages (from dask==2024.1.0->dask[dataframe]==2024.1.0) (3.0.0)\n",
      "Requirement already satisfied: fsspec>=2021.09.0 in /opt/conda/envs/tess/lib/python3.11/site-packages (from dask==2024.1.0->dask[dataframe]==2024.1.0) (2025.5.0)\n",
      "Requirement already satisfied: packaging>=20.0 in /opt/conda/envs/tess/lib/python3.11/site-packages (from dask==2024.1.0->dask[dataframe]==2024.1.0) (24.1)\n",
      "Requirement already satisfied: partd>=1.2.0 in /opt/conda/envs/tess/lib/python3.11/site-packages (from dask==2024.1.0->dask[dataframe]==2024.1.0) (1.4.2)\n",
      "Requirement already satisfied: pyyaml>=5.3.1 in /opt/conda/envs/tess/lib/python3.11/site-packages (from dask==2024.1.0->dask[dataframe]==2024.1.0) (6.0.1)\n",
      "Requirement already satisfied: importlib-metadata>=4.13.0 in /opt/conda/envs/tess/lib/python3.11/site-packages (from dask==2024.1.0->dask[dataframe]==2024.1.0) (7.1.0)\n",
      "Requirement already satisfied: jinja2>=2.10.3 in /opt/conda/envs/tess/lib/python3.11/site-packages (from distributed==2024.1.0) (3.1.4)\n",
      "Requirement already satisfied: locket>=1.0.0 in /opt/conda/envs/tess/lib/python3.11/site-packages (from distributed==2024.1.0) (1.0.0)\n",
      "Requirement already satisfied: psutil>=5.7.2 in /opt/conda/envs/tess/lib/python3.11/site-packages (from distributed==2024.1.0) (5.9.8)\n",
      "Requirement already satisfied: sortedcontainers>=2.0.5 in /opt/conda/envs/tess/lib/python3.11/site-packages (from distributed==2024.1.0) (2.4.0)\n",
      "Requirement already satisfied: tblib>=1.6.0 in /opt/conda/envs/tess/lib/python3.11/site-packages (from distributed==2024.1.0) (3.1.0)\n",
      "Requirement already satisfied: urllib3>=1.24.3 in /opt/conda/envs/tess/lib/python3.11/site-packages (from distributed==2024.1.0) (2.2.1)\n",
      "Requirement already satisfied: zict>=3.0.0 in /opt/conda/envs/tess/lib/python3.11/site-packages (from distributed==2024.1.0) (3.0.0)\n",
      "Requirement already satisfied: python-dateutil>=2.8.2 in /opt/conda/envs/tess/lib/python3.11/site-packages (from pandas==2.1.4) (2.9.0.post0)\n",
      "Requirement already satisfied: pytz>=2020.1 in /opt/conda/envs/tess/lib/python3.11/site-packages (from pandas==2.1.4) (2024.1)\n",
      "Requirement already satisfied: tzdata>=2022.1 in /opt/conda/envs/tess/lib/python3.11/site-packages (from pandas==2.1.4) (2024.1)\n",
      "Requirement already satisfied: aiohttp in /opt/conda/envs/tess/lib/python3.11/site-packages (from dask_gateway) (3.11.18)\n",
      "Requirement already satisfied: zipp>=0.5 in /opt/conda/envs/tess/lib/python3.11/site-packages (from importlib-metadata>=4.13.0->dask==2024.1.0->dask[dataframe]==2024.1.0) (3.19.2)\n",
      "Requirement already satisfied: MarkupSafe>=2.0 in /opt/conda/envs/tess/lib/python3.11/site-packages (from jinja2>=2.10.3->distributed==2024.1.0) (2.1.5)\n",
      "Requirement already satisfied: six>=1.5 in /opt/conda/envs/tess/lib/python3.11/site-packages (from python-dateutil>=2.8.2->pandas==2.1.4) (1.16.0)\n",
      "Requirement already satisfied: aiohappyeyeballs>=2.3.0 in /opt/conda/envs/tess/lib/python3.11/site-packages (from aiohttp->dask_gateway) (2.6.1)\n",
      "Requirement already satisfied: aiosignal>=1.1.2 in /opt/conda/envs/tess/lib/python3.11/site-packages (from aiohttp->dask_gateway) (1.3.2)\n",
      "Requirement already satisfied: attrs>=17.3.0 in /opt/conda/envs/tess/lib/python3.11/site-packages (from aiohttp->dask_gateway) (23.2.0)\n",
      "Requirement already satisfied: frozenlist>=1.1.1 in /opt/conda/envs/tess/lib/python3.11/site-packages (from aiohttp->dask_gateway) (1.6.0)\n",
      "Requirement already satisfied: multidict<7.0,>=4.5 in /opt/conda/envs/tess/lib/python3.11/site-packages (from aiohttp->dask_gateway) (6.4.4)\n",
      "Requirement already satisfied: propcache>=0.2.0 in /opt/conda/envs/tess/lib/python3.11/site-packages (from aiohttp->dask_gateway) (0.3.1)\n",
      "Requirement already satisfied: yarl<2.0,>=1.17.0 in /opt/conda/envs/tess/lib/python3.11/site-packages (from aiohttp->dask_gateway) (1.20.0)\n",
      "Requirement already satisfied: idna>=2.0 in /opt/conda/envs/tess/lib/python3.11/site-packages (from yarl<2.0,>=1.17.0->aiohttp->dask_gateway) (3.7)\n"
     ]
    }
   ],
   "source": [
    "!pip install dask[dataframe]==2024.1.0 distributed==2024.1.0 msgpack==1.0.7 pandas==2.1.4 numpy==1.26.3 toolz==0.12.0 tornado==6.4 dask_gateway"
   ]
  },
  {
   "cell_type": "code",
   "execution_count": 4,
   "id": "89f8df1e-fbba-477c-992a-4130cb13fa06",
   "metadata": {},
   "outputs": [],
   "source": [
    "import time\n",
    "\n",
    "import astropy.units as u\n",
    "import dask\n",
    "import emcee\n",
    "import dask.array as da\n",
    "# import dask.dataframe as dd\n",
    "import numpy as np\n",
    "import matplotlib.pyplot as plt\n",
    "import pandas as pd\n",
    "import scipy \n",
    "import corner\n",
    "from tqdm import tqdm\n",
    "\n",
    "from astroquery.mast import Observations, Catalogs\n",
    "from astroquery.gaia import Gaia\n",
    "from astropy.coordinates import SkyCoord\n",
    "from dask import delayed, compute\n",
    "from dask.dataframe.utils import make_meta\n",
    "from dask.diagnostics import ProgressBar  # Import the ProgressBar\n",
    "from dask_gateway import Gateway, GatewayCluster\n",
    "from distributed.diagnostics.plugin import PipInstall\n",
    "\n",
    "# Import necessary libraries\n",
    "import numpy as np\n",
    "import os\n",
    "import psutil\n",
    "import matplotlib.pyplot as plt\n",
    "from datetime import datetime\n",
    "import seaborn as sns\n",
    "from IPython.display import display, HTML\n",
    "\n",
    "# Import Dask components\n",
    "import dask\n",
    "from dask.distributed import Client, performance_report, wait\n",
    "\n",
    "from dask.distributed import performance_report\n",
    "\n",
    "import time\n",
    "import matplotlib.pyplot as plt\n",
    "import numpy as np\n",
    "from functools import partial\n",
    "import psutil\n",
    "import os\n",
    "from dask_gateway import Gateway, GatewayCluster\n",
    "\n",
    "import numpy as np\n",
    "import pandas as pd\n",
    "import os\n",
    "import psutil\n",
    "import matplotlib.pyplot as plt\n",
    "from datetime import datetime\n",
    "import seaborn as sns\n",
    "from IPython.display import display, HTML\n",
    "\n",
    "# Import Dask components\n",
    "import dask\n",
    "from dask.distributed import Client, performance_report, wait"
   ]
  },
  {
   "cell_type": "code",
   "execution_count": 29,
   "id": "7be70e17-e296-471f-8753-1e00a5309bb3",
   "metadata": {},
   "outputs": [],
   "source": [
    "gateway = Gateway(address=\"http://traefik-dask-gateway\", auth=\"jupyterhub\")"
   ]
  },
  {
   "cell_type": "code",
   "execution_count": 30,
   "id": "0581f91f-7e17-4fce-bb49-2720e18f430d",
   "metadata": {},
   "outputs": [],
   "source": [
    "cluster = gateway.new_cluster()"
   ]
  },
  {
   "cell_type": "code",
   "execution_count": 38,
   "id": "a3077179-b425-4aa4-a371-318f455c43b2",
   "metadata": {},
   "outputs": [
    {
     "data": {
      "application/vnd.jupyter.widget-view+json": {
       "model_id": "b8528386500a4c21a05c438b26ec9ee7",
       "version_major": 2,
       "version_minor": 0
      },
      "text/plain": [
       "VBox(children=(HTML(value='<h2>GatewayCluster</h2>'), HBox(children=(HTML(value='\\n<div>\\n<style scoped>\\n    …"
      ]
     },
     "metadata": {},
     "output_type": "display_data"
    }
   ],
   "source": [
    "cluster"
   ]
  },
  {
   "cell_type": "code",
   "execution_count": 32,
   "id": "630aeb7d-ba27-4dce-8c4e-8a3a781912e1",
   "metadata": {},
   "outputs": [],
   "source": [
    "# Adaptively scale between 2 and 3 workers\n",
    "cluster.adapt(minimum=2, maximum=3)"
   ]
  },
  {
   "cell_type": "code",
   "execution_count": 33,
   "id": "dbde3523-9944-4a99-a837-5ab0d737558d",
   "metadata": {},
   "outputs": [
    {
     "data": {
      "text/html": [
       "<div>\n",
       "    <div style=\"width: 24px; height: 24px; background-color: #e1e1e1; border: 3px solid #9D9D9D; border-radius: 5px; position: absolute;\"> </div>\n",
       "    <div style=\"margin-left: 48px;\">\n",
       "        <h3 style=\"margin-bottom: 0px;\">Client</h3>\n",
       "        <p style=\"color: #9D9D9D; margin-bottom: 0px;\">Client-bd1a3aaa-51d1-11f0-866d-d2c228106ac9</p>\n",
       "        <table style=\"width: 100%; text-align: left;\">\n",
       "\n",
       "        <tr>\n",
       "        \n",
       "            <td style=\"text-align: left;\"><strong>Connection method:</strong> Cluster object</td>\n",
       "            <td style=\"text-align: left;\"><strong>Cluster type:</strong> dask_gateway.GatewayCluster</td>\n",
       "        \n",
       "        </tr>\n",
       "\n",
       "        \n",
       "            <tr>\n",
       "                <td style=\"text-align: left;\">\n",
       "                    <strong>Dashboard: </strong> <a href=\"http://traefik-dask-gateway/clusters/default.f37d74ee89e1459385f8c1905a07d1d8/status\" target=\"_blank\">http://traefik-dask-gateway/clusters/default.f37d74ee89e1459385f8c1905a07d1d8/status</a>\n",
       "                </td>\n",
       "                <td style=\"text-align: left;\"></td>\n",
       "            </tr>\n",
       "        \n",
       "\n",
       "        </table>\n",
       "\n",
       "        \n",
       "\n",
       "        \n",
       "            <details>\n",
       "            <summary style=\"margin-bottom: 20px;\"><h3 style=\"display: inline;\">Cluster Info</h3></summary>\n",
       "            <div style='background-color: #f2f2f2; display: inline-block; padding: 10px; border: 1px solid #999999;'>\n",
       "  <h3>GatewayCluster</h3>\n",
       "  <ul>\n",
       "    <li><b>Name: </b>default.f37d74ee89e1459385f8c1905a07d1d8\n",
       "    <li><b>Dashboard: </b><a href='http://traefik-dask-gateway/clusters/default.f37d74ee89e1459385f8c1905a07d1d8/status' target='_blank'>http://traefik-dask-gateway/clusters/default.f37d74ee89e1459385f8c1905a07d1d8/status</a>\n",
       "  </ul>\n",
       "</div>\n",
       "\n",
       "            </details>\n",
       "        \n",
       "\n",
       "    </div>\n",
       "</div>"
      ],
      "text/plain": [
       "<Client: 'tls://10.143.26.50:8786' processes=0 threads=0, memory=0 B>"
      ]
     },
     "execution_count": 33,
     "metadata": {},
     "output_type": "execute_result"
    },
    {
     "name": "stderr",
     "output_type": "stream",
     "text": [
      "2025-06-25 14:37:35,548 - distributed.client - ERROR - Failed to reconnect to scheduler after 30.00 seconds, closing client\n"
     ]
    }
   ],
   "source": [
    "client = cluster.get_client()\n",
    "client"
   ]
  },
  {
   "cell_type": "code",
   "execution_count": 34,
   "id": "c61c6e87-406c-4d55-9760-a96b82e50ed9",
   "metadata": {},
   "outputs": [],
   "source": [
    "plugin = PipInstall(packages=[\n",
    "    \"tornado==6.4.1\",\n",
    "    \"lz4==4.4.4\",\n",
    "])\n",
    "\n",
    "# essentially pip installs the package on the cluster\n",
    "client.register_plugin(plugin)"
   ]
  },
  {
   "cell_type": "markdown",
   "id": "1303f381-ca23-48c3-9565-d02df8297cc8",
   "metadata": {},
   "source": [
    "## Importing a custom module\n",
    "Modules are basically just Python files [reword this!]. Normally, we'd import a function like so:"
   ]
  },
  {
   "cell_type": "code",
   "execution_count": 11,
   "id": "cd93ae42-7614-4c6f-9ca6-de53532d7c10",
   "metadata": {},
   "outputs": [],
   "source": [
    "from python_test_module import sum_to_num"
   ]
  },
  {
   "cell_type": "markdown",
   "id": "2fcaf5a3-a83d-44ed-92e7-a46b63f32a34",
   "metadata": {},
   "source": [
    "We can now use the `sum_to_num` function in this environment [word better!]: "
   ]
  },
  {
   "cell_type": "code",
   "execution_count": 12,
   "id": "61def412-d8a6-4f6c-94c4-cc52e7d3f2f0",
   "metadata": {},
   "outputs": [
    {
     "data": {
      "text/plain": [
       "10"
      ]
     },
     "execution_count": 12,
     "metadata": {},
     "output_type": "execute_result"
    }
   ],
   "source": [
    "sum_to_num(4)"
   ]
  },
  {
   "cell_type": "markdown",
   "id": "ae72cfa7-4917-41d7-a63c-2d5ca549ed2b",
   "metadata": {},
   "source": [
    "Great! Let's try to do the same with a `Dask` workflow."
   ]
  },
  {
   "cell_type": "code",
   "execution_count": 13,
   "id": "e768e611-9fd8-4caa-88a7-0d8a7bd93a49",
   "metadata": {},
   "outputs": [
    {
     "ename": "Exception",
     "evalue": "Tried sending message after closing.  Status: closed\nMessage: {'op': 'update-graph', 'graph_header': {'serializer': 'pickle', 'writeable': ()}, 'graph_frames': [b\"\\x80\\x05\\x95f\\x02\\x00\\x00\\x00\\x00\\x00\\x00\\x8c\\x1edistributed.protocol.serialize\\x94\\x8c\\x08ToPickle\\x94\\x93\\x94)\\x81\\x94}\\x94\\x8c\\x04data\\x94\\x8c\\x13dask.highlevelgraph\\x94\\x8c\\x0eHighLevelGraph\\x94\\x93\\x94)\\x81\\x94}\\x94(\\x8c\\x0cdependencies\\x94}\\x94\\x8a\\x06\\x80\\xad'\\xb4\\x1f\\x7f\\x8f\\x94s\\x8c\\x10key_dependencies\\x94}\\x94\\x8c\\x06layers\\x94}\\x94\\x8a\\x06\\x80\\xad'\\xb4\\x1f\\x7fh\\x06\\x8c\\x11MaterializedLayer\\x94\\x93\\x94)\\x81\\x94}\\x94(\\x8c\\x0bannotations\\x94N\\x8c\\x16collection_annotations\\x94N\\x8c\\x07mapping\\x94}\\x94(\\x8c+sum_to_num-833b1cd032bd15aad92344b10b620428\\x94\\x8c\\x12python_test_module\\x94\\x8c\\nsum_to_num\\x94\\x93\\x94K\\n\\x86\\x94\\x8c+sum_to_num-ef99fc33fd82ac56422b6c28b0f59af3\\x94h\\x1dK2\\x86\\x94\\x8c+sum_to_num-ab9da737ab6c33e617ba234b92a59423\\x94h\\x1dKd\\x86\\x94\\x8c+sum_to_num-faefd3ec60f0a5a006f6ed59468482d1\\x94h\\x1dK\\xc8\\x86\\x94\\x8c+sum_to_num-93f38f092176324142121774523349d7\\x94h\\x1dM\\xf4\\x01\\x86\\x94\\x8c+sum_to_num-13d95e6ffdc3ac2f36b1df845ab42dc7\\x94h\\x1dM\\xe8\\x03\\x86\\x94uubsubsb.\"], 'keys': ['sum_to_num-833b1cd032bd15aad92344b10b620428', 'sum_to_num-ef99fc33fd82ac56422b6c28b0f59af3', 'sum_to_num-ab9da737ab6c33e617ba234b92a59423', 'sum_to_num-faefd3ec60f0a5a006f6ed59468482d1', 'sum_to_num-93f38f092176324142121774523349d7', 'sum_to_num-13d95e6ffdc3ac2f36b1df845ab42dc7'], 'internal_priority': {'sum_to_num-833b1cd032bd15aad92344b10b620428': 0, 'sum_to_num-ef99fc33fd82ac56422b6c28b0f59af3': 1, 'sum_to_num-ab9da737ab6c33e617ba234b92a59423': 2, 'sum_to_num-faefd3ec60f0a5a006f6ed59468482d1': 3, 'sum_to_num-93f38f092176324142121774523349d7': 4, 'sum_to_num-13d95e6ffdc3ac2f36b1df845ab42dc7': 5}, 'submitting_task': None, 'fifo_timeout': '100 ms', 'actors': False, 'code': <ToPickle: ()>, 'annotations': <ToPickle: {}>}",
     "output_type": "error",
     "traceback": [
      "\u001b[0;31m---------------------------------------------------------------------------\u001b[0m",
      "\u001b[0;31mException\u001b[0m                                 Traceback (most recent call last)",
      "Cell \u001b[0;32mIn[13], line 3\u001b[0m\n\u001b[1;32m      1\u001b[0m numbers \u001b[38;5;241m=\u001b[39m [\u001b[38;5;241m10\u001b[39m, \u001b[38;5;241m50\u001b[39m, \u001b[38;5;241m100\u001b[39m, \u001b[38;5;241m200\u001b[39m, \u001b[38;5;241m500\u001b[39m, \u001b[38;5;241m1000\u001b[39m]\n\u001b[0;32m----> 3\u001b[0m futures \u001b[38;5;241m=\u001b[39m \u001b[43mclient\u001b[49m\u001b[38;5;241;43m.\u001b[39;49m\u001b[43mmap\u001b[49m\u001b[43m(\u001b[49m\u001b[43msum_to_num\u001b[49m\u001b[43m,\u001b[49m\u001b[43m \u001b[49m\u001b[43mnumbers\u001b[49m\u001b[43m)\u001b[49m\n",
      "File \u001b[0;32m/opt/conda/envs/tess/lib/python3.11/site-packages/distributed/client.py:2167\u001b[0m, in \u001b[0;36mClient.map\u001b[0;34m(self, func, key, workers, retries, resources, priority, allow_other_workers, fifo_timeout, actor, actors, pure, batch_size, *iterables, **kwargs)\u001b[0m\n\u001b[1;32m   2163\u001b[0m     \u001b[38;5;28;01mraise\u001b[39;00m \u001b[38;5;167;01mTypeError\u001b[39;00m(\u001b[38;5;124m\"\u001b[39m\u001b[38;5;124mWorkers must be a list or set of workers or None\u001b[39m\u001b[38;5;124m\"\u001b[39m)\n\u001b[1;32m   2165\u001b[0m internal_priority \u001b[38;5;241m=\u001b[39m \u001b[38;5;28mdict\u001b[39m(\u001b[38;5;28mzip\u001b[39m(keys, \u001b[38;5;28mrange\u001b[39m(\u001b[38;5;28mlen\u001b[39m(keys))))\n\u001b[0;32m-> 2167\u001b[0m futures \u001b[38;5;241m=\u001b[39m \u001b[38;5;28;43mself\u001b[39;49m\u001b[38;5;241;43m.\u001b[39;49m\u001b[43m_graph_to_futures\u001b[49m\u001b[43m(\u001b[49m\n\u001b[1;32m   2168\u001b[0m \u001b[43m    \u001b[49m\u001b[43mdsk\u001b[49m\u001b[43m,\u001b[49m\n\u001b[1;32m   2169\u001b[0m \u001b[43m    \u001b[49m\u001b[43mkeys\u001b[49m\u001b[43m,\u001b[49m\n\u001b[1;32m   2170\u001b[0m \u001b[43m    \u001b[49m\u001b[43mworkers\u001b[49m\u001b[38;5;241;43m=\u001b[39;49m\u001b[43mworkers\u001b[49m\u001b[43m,\u001b[49m\n\u001b[1;32m   2171\u001b[0m \u001b[43m    \u001b[49m\u001b[43mallow_other_workers\u001b[49m\u001b[38;5;241;43m=\u001b[39;49m\u001b[43mallow_other_workers\u001b[49m\u001b[43m,\u001b[49m\n\u001b[1;32m   2172\u001b[0m \u001b[43m    \u001b[49m\u001b[43minternal_priority\u001b[49m\u001b[38;5;241;43m=\u001b[39;49m\u001b[43minternal_priority\u001b[49m\u001b[43m,\u001b[49m\n\u001b[1;32m   2173\u001b[0m \u001b[43m    \u001b[49m\u001b[43mresources\u001b[49m\u001b[38;5;241;43m=\u001b[39;49m\u001b[43mresources\u001b[49m\u001b[43m,\u001b[49m\n\u001b[1;32m   2174\u001b[0m \u001b[43m    \u001b[49m\u001b[43mretries\u001b[49m\u001b[38;5;241;43m=\u001b[39;49m\u001b[43mretries\u001b[49m\u001b[43m,\u001b[49m\n\u001b[1;32m   2175\u001b[0m \u001b[43m    \u001b[49m\u001b[43muser_priority\u001b[49m\u001b[38;5;241;43m=\u001b[39;49m\u001b[43mpriority\u001b[49m\u001b[43m,\u001b[49m\n\u001b[1;32m   2176\u001b[0m \u001b[43m    \u001b[49m\u001b[43mfifo_timeout\u001b[49m\u001b[38;5;241;43m=\u001b[39;49m\u001b[43mfifo_timeout\u001b[49m\u001b[43m,\u001b[49m\n\u001b[1;32m   2177\u001b[0m \u001b[43m    \u001b[49m\u001b[43mactors\u001b[49m\u001b[38;5;241;43m=\u001b[39;49m\u001b[43mactor\u001b[49m\u001b[43m,\u001b[49m\n\u001b[1;32m   2178\u001b[0m \u001b[43m\u001b[49m\u001b[43m)\u001b[49m\n\u001b[1;32m   2179\u001b[0m logger\u001b[38;5;241m.\u001b[39mdebug(\u001b[38;5;124m\"\u001b[39m\u001b[38;5;124mmap(\u001b[39m\u001b[38;5;132;01m%s\u001b[39;00m\u001b[38;5;124m, ...)\u001b[39m\u001b[38;5;124m\"\u001b[39m, funcname(func))\n\u001b[1;32m   2181\u001b[0m \u001b[38;5;28;01mreturn\u001b[39;00m [futures[k] \u001b[38;5;28;01mfor\u001b[39;00m k \u001b[38;5;129;01min\u001b[39;00m keys]\n",
      "File \u001b[0;32m/opt/conda/envs/tess/lib/python3.11/site-packages/distributed/client.py:3171\u001b[0m, in \u001b[0;36mClient._graph_to_futures\u001b[0;34m(self, dsk, keys, workers, allow_other_workers, internal_priority, user_priority, resources, retries, fifo_timeout, actors)\u001b[0m\n\u001b[1;32m   3162\u001b[0m     warnings\u001b[38;5;241m.\u001b[39mwarn(\n\u001b[1;32m   3163\u001b[0m         \u001b[38;5;124mf\u001b[39m\u001b[38;5;124m\"\u001b[39m\u001b[38;5;124mSending large graph of size \u001b[39m\u001b[38;5;132;01m{\u001b[39;00mformat_bytes(pickled_size)\u001b[38;5;132;01m}\u001b[39;00m\u001b[38;5;124m.\u001b[39m\u001b[38;5;130;01m\\n\u001b[39;00m\u001b[38;5;124m\"\u001b[39m\n\u001b[1;32m   3164\u001b[0m         \u001b[38;5;124m\"\u001b[39m\u001b[38;5;124mThis may cause some slowdown.\u001b[39m\u001b[38;5;130;01m\\n\u001b[39;00m\u001b[38;5;124m\"\u001b[39m\n\u001b[1;32m   3165\u001b[0m         \u001b[38;5;124m\"\u001b[39m\u001b[38;5;124mConsider scattering data ahead of time and using futures.\u001b[39m\u001b[38;5;124m\"\u001b[39m\n\u001b[1;32m   3166\u001b[0m     )\n\u001b[1;32m   3168\u001b[0m computations \u001b[38;5;241m=\u001b[39m \u001b[38;5;28mself\u001b[39m\u001b[38;5;241m.\u001b[39m_get_computation_code(\n\u001b[1;32m   3169\u001b[0m     nframes\u001b[38;5;241m=\u001b[39mdask\u001b[38;5;241m.\u001b[39mconfig\u001b[38;5;241m.\u001b[39mget(\u001b[38;5;124m\"\u001b[39m\u001b[38;5;124mdistributed.diagnostics.computations.nframes\u001b[39m\u001b[38;5;124m\"\u001b[39m)\n\u001b[1;32m   3170\u001b[0m )\n\u001b[0;32m-> 3171\u001b[0m \u001b[38;5;28;43mself\u001b[39;49m\u001b[38;5;241;43m.\u001b[39;49m\u001b[43m_send_to_scheduler\u001b[49m\u001b[43m(\u001b[49m\n\u001b[1;32m   3172\u001b[0m \u001b[43m    \u001b[49m\u001b[43m{\u001b[49m\n\u001b[1;32m   3173\u001b[0m \u001b[43m        \u001b[49m\u001b[38;5;124;43m\"\u001b[39;49m\u001b[38;5;124;43mop\u001b[39;49m\u001b[38;5;124;43m\"\u001b[39;49m\u001b[43m:\u001b[49m\u001b[43m \u001b[49m\u001b[38;5;124;43m\"\u001b[39;49m\u001b[38;5;124;43mupdate-graph\u001b[39;49m\u001b[38;5;124;43m\"\u001b[39;49m\u001b[43m,\u001b[49m\n\u001b[1;32m   3174\u001b[0m \u001b[43m        \u001b[49m\u001b[38;5;124;43m\"\u001b[39;49m\u001b[38;5;124;43mgraph_header\u001b[39;49m\u001b[38;5;124;43m\"\u001b[39;49m\u001b[43m:\u001b[49m\u001b[43m \u001b[49m\u001b[43mheader\u001b[49m\u001b[43m,\u001b[49m\n\u001b[1;32m   3175\u001b[0m \u001b[43m        \u001b[49m\u001b[38;5;124;43m\"\u001b[39;49m\u001b[38;5;124;43mgraph_frames\u001b[39;49m\u001b[38;5;124;43m\"\u001b[39;49m\u001b[43m:\u001b[49m\u001b[43m \u001b[49m\u001b[43mframes\u001b[49m\u001b[43m,\u001b[49m\n\u001b[1;32m   3176\u001b[0m \u001b[43m        \u001b[49m\u001b[38;5;124;43m\"\u001b[39;49m\u001b[38;5;124;43mkeys\u001b[39;49m\u001b[38;5;124;43m\"\u001b[39;49m\u001b[43m:\u001b[49m\u001b[43m \u001b[49m\u001b[38;5;28;43mlist\u001b[39;49m\u001b[43m(\u001b[49m\u001b[43mkeys\u001b[49m\u001b[43m)\u001b[49m\u001b[43m,\u001b[49m\n\u001b[1;32m   3177\u001b[0m \u001b[43m        \u001b[49m\u001b[38;5;124;43m\"\u001b[39;49m\u001b[38;5;124;43minternal_priority\u001b[39;49m\u001b[38;5;124;43m\"\u001b[39;49m\u001b[43m:\u001b[49m\u001b[43m \u001b[49m\u001b[43minternal_priority\u001b[49m\u001b[43m,\u001b[49m\n\u001b[1;32m   3178\u001b[0m \u001b[43m        \u001b[49m\u001b[38;5;124;43m\"\u001b[39;49m\u001b[38;5;124;43msubmitting_task\u001b[39;49m\u001b[38;5;124;43m\"\u001b[39;49m\u001b[43m:\u001b[49m\u001b[43m \u001b[49m\u001b[38;5;28;43mgetattr\u001b[39;49m\u001b[43m(\u001b[49m\u001b[43mthread_state\u001b[49m\u001b[43m,\u001b[49m\u001b[43m \u001b[49m\u001b[38;5;124;43m\"\u001b[39;49m\u001b[38;5;124;43mkey\u001b[39;49m\u001b[38;5;124;43m\"\u001b[39;49m\u001b[43m,\u001b[49m\u001b[43m \u001b[49m\u001b[38;5;28;43;01mNone\u001b[39;49;00m\u001b[43m)\u001b[49m\u001b[43m,\u001b[49m\n\u001b[1;32m   3179\u001b[0m \u001b[43m        \u001b[49m\u001b[38;5;124;43m\"\u001b[39;49m\u001b[38;5;124;43mfifo_timeout\u001b[39;49m\u001b[38;5;124;43m\"\u001b[39;49m\u001b[43m:\u001b[49m\u001b[43m \u001b[49m\u001b[43mfifo_timeout\u001b[49m\u001b[43m,\u001b[49m\n\u001b[1;32m   3180\u001b[0m \u001b[43m        \u001b[49m\u001b[38;5;124;43m\"\u001b[39;49m\u001b[38;5;124;43mactors\u001b[39;49m\u001b[38;5;124;43m\"\u001b[39;49m\u001b[43m:\u001b[49m\u001b[43m \u001b[49m\u001b[43mactors\u001b[49m\u001b[43m,\u001b[49m\n\u001b[1;32m   3181\u001b[0m \u001b[43m        \u001b[49m\u001b[38;5;124;43m\"\u001b[39;49m\u001b[38;5;124;43mcode\u001b[39;49m\u001b[38;5;124;43m\"\u001b[39;49m\u001b[43m:\u001b[49m\u001b[43m \u001b[49m\u001b[43mToPickle\u001b[49m\u001b[43m(\u001b[49m\u001b[43mcomputations\u001b[49m\u001b[43m)\u001b[49m\u001b[43m,\u001b[49m\n\u001b[1;32m   3182\u001b[0m \u001b[43m        \u001b[49m\u001b[38;5;124;43m\"\u001b[39;49m\u001b[38;5;124;43mannotations\u001b[39;49m\u001b[38;5;124;43m\"\u001b[39;49m\u001b[43m:\u001b[49m\u001b[43m \u001b[49m\u001b[43mToPickle\u001b[49m\u001b[43m(\u001b[49m\u001b[43mannotations\u001b[49m\u001b[43m)\u001b[49m\u001b[43m,\u001b[49m\n\u001b[1;32m   3183\u001b[0m \u001b[43m    \u001b[49m\u001b[43m}\u001b[49m\n\u001b[1;32m   3184\u001b[0m \u001b[43m\u001b[49m\u001b[43m)\u001b[49m\n\u001b[1;32m   3185\u001b[0m \u001b[38;5;28;01mreturn\u001b[39;00m futures\n",
      "File \u001b[0;32m/opt/conda/envs/tess/lib/python3.11/site-packages/distributed/client.py:1242\u001b[0m, in \u001b[0;36mClient._send_to_scheduler\u001b[0;34m(self, msg)\u001b[0m\n\u001b[1;32m   1240\u001b[0m     \u001b[38;5;28mself\u001b[39m\u001b[38;5;241m.\u001b[39mloop\u001b[38;5;241m.\u001b[39madd_callback(\u001b[38;5;28mself\u001b[39m\u001b[38;5;241m.\u001b[39m_send_to_scheduler_safe, msg)\n\u001b[1;32m   1241\u001b[0m \u001b[38;5;28;01melse\u001b[39;00m:\n\u001b[0;32m-> 1242\u001b[0m     \u001b[38;5;28;01mraise\u001b[39;00m \u001b[38;5;167;01mException\u001b[39;00m(\n\u001b[1;32m   1243\u001b[0m         \u001b[38;5;124m\"\u001b[39m\u001b[38;5;124mTried sending message after closing.  Status: \u001b[39m\u001b[38;5;132;01m%s\u001b[39;00m\u001b[38;5;130;01m\\n\u001b[39;00m\u001b[38;5;124m\"\u001b[39m\n\u001b[1;32m   1244\u001b[0m         \u001b[38;5;124m\"\u001b[39m\u001b[38;5;124mMessage: \u001b[39m\u001b[38;5;132;01m%s\u001b[39;00m\u001b[38;5;124m\"\u001b[39m \u001b[38;5;241m%\u001b[39m (\u001b[38;5;28mself\u001b[39m\u001b[38;5;241m.\u001b[39mstatus, msg)\n\u001b[1;32m   1245\u001b[0m     )\n",
      "\u001b[0;31mException\u001b[0m: Tried sending message after closing.  Status: closed\nMessage: {'op': 'update-graph', 'graph_header': {'serializer': 'pickle', 'writeable': ()}, 'graph_frames': [b\"\\x80\\x05\\x95f\\x02\\x00\\x00\\x00\\x00\\x00\\x00\\x8c\\x1edistributed.protocol.serialize\\x94\\x8c\\x08ToPickle\\x94\\x93\\x94)\\x81\\x94}\\x94\\x8c\\x04data\\x94\\x8c\\x13dask.highlevelgraph\\x94\\x8c\\x0eHighLevelGraph\\x94\\x93\\x94)\\x81\\x94}\\x94(\\x8c\\x0cdependencies\\x94}\\x94\\x8a\\x06\\x80\\xad'\\xb4\\x1f\\x7f\\x8f\\x94s\\x8c\\x10key_dependencies\\x94}\\x94\\x8c\\x06layers\\x94}\\x94\\x8a\\x06\\x80\\xad'\\xb4\\x1f\\x7fh\\x06\\x8c\\x11MaterializedLayer\\x94\\x93\\x94)\\x81\\x94}\\x94(\\x8c\\x0bannotations\\x94N\\x8c\\x16collection_annotations\\x94N\\x8c\\x07mapping\\x94}\\x94(\\x8c+sum_to_num-833b1cd032bd15aad92344b10b620428\\x94\\x8c\\x12python_test_module\\x94\\x8c\\nsum_to_num\\x94\\x93\\x94K\\n\\x86\\x94\\x8c+sum_to_num-ef99fc33fd82ac56422b6c28b0f59af3\\x94h\\x1dK2\\x86\\x94\\x8c+sum_to_num-ab9da737ab6c33e617ba234b92a59423\\x94h\\x1dKd\\x86\\x94\\x8c+sum_to_num-faefd3ec60f0a5a006f6ed59468482d1\\x94h\\x1dK\\xc8\\x86\\x94\\x8c+sum_to_num-93f38f092176324142121774523349d7\\x94h\\x1dM\\xf4\\x01\\x86\\x94\\x8c+sum_to_num-13d95e6ffdc3ac2f36b1df845ab42dc7\\x94h\\x1dM\\xe8\\x03\\x86\\x94uubsubsb.\"], 'keys': ['sum_to_num-833b1cd032bd15aad92344b10b620428', 'sum_to_num-ef99fc33fd82ac56422b6c28b0f59af3', 'sum_to_num-ab9da737ab6c33e617ba234b92a59423', 'sum_to_num-faefd3ec60f0a5a006f6ed59468482d1', 'sum_to_num-93f38f092176324142121774523349d7', 'sum_to_num-13d95e6ffdc3ac2f36b1df845ab42dc7'], 'internal_priority': {'sum_to_num-833b1cd032bd15aad92344b10b620428': 0, 'sum_to_num-ef99fc33fd82ac56422b6c28b0f59af3': 1, 'sum_to_num-ab9da737ab6c33e617ba234b92a59423': 2, 'sum_to_num-faefd3ec60f0a5a006f6ed59468482d1': 3, 'sum_to_num-93f38f092176324142121774523349d7': 4, 'sum_to_num-13d95e6ffdc3ac2f36b1df845ab42dc7': 5}, 'submitting_task': None, 'fifo_timeout': '100 ms', 'actors': False, 'code': <ToPickle: ()>, 'annotations': <ToPickle: {}>}"
     ]
    }
   ],
   "source": [
    "numbers = [10, 50, 100, 200, 500, 1000]\n",
    "\n",
    "futures = client.map(sum_to_num, numbers)"
   ]
  },
  {
   "cell_type": "markdown",
   "id": "cdcbbd31-a4e3-4713-8f5d-7de9a283bc80",
   "metadata": {},
   "source": [
    "This led to a pretty scary error! We basically skipped the step that we had made with the Python packages—while the scheduler (i.e., the Jupyter notebook) is aware of the Python module and can use all the functions within it, the client (i.e., the Dask cluster) has no awareness. We can fix this with a simple command:"
   ]
  },
  {
   "cell_type": "code",
   "execution_count": 35,
   "id": "578459bb-57ce-4c28-8c63-04f3a9b8b753",
   "metadata": {},
   "outputs": [
    {
     "data": {
      "text/plain": [
       "{}"
      ]
     },
     "execution_count": 35,
     "metadata": {},
     "output_type": "execute_result"
    }
   ],
   "source": [
    "client.upload_file('python_test_module.py')"
   ]
  },
  {
   "cell_type": "code",
   "execution_count": 36,
   "id": "a997cc6d-0791-4532-8f65-4c1306fa6277",
   "metadata": {},
   "outputs": [],
   "source": [
    "futures = client.map(sum_to_num, numbers)"
   ]
  },
  {
   "cell_type": "markdown",
   "id": "816cd52d-ab81-4996-b6c9-44a13ffbec79",
   "metadata": {},
   "source": [
    "[todo: describe what the futures are]"
   ]
  },
  {
   "cell_type": "code",
   "execution_count": 37,
   "id": "00b4dc8d-a2cc-4492-aca9-065f8ef9ba7f",
   "metadata": {},
   "outputs": [
    {
     "data": {
      "text/plain": [
       "[<Future: pending, key: sum_to_num-833b1cd032bd15aad92344b10b620428>,\n",
       " <Future: pending, key: sum_to_num-ef99fc33fd82ac56422b6c28b0f59af3>,\n",
       " <Future: pending, key: sum_to_num-ab9da737ab6c33e617ba234b92a59423>,\n",
       " <Future: pending, key: sum_to_num-faefd3ec60f0a5a006f6ed59468482d1>,\n",
       " <Future: pending, key: sum_to_num-93f38f092176324142121774523349d7>,\n",
       " <Future: pending, key: sum_to_num-13d95e6ffdc3ac2f36b1df845ab42dc7>]"
      ]
     },
     "execution_count": 37,
     "metadata": {},
     "output_type": "execute_result"
    }
   ],
   "source": [
    "futures"
   ]
  },
  {
   "cell_type": "code",
   "execution_count": 26,
   "id": "b422cc88-9a71-4a1c-a03a-0458df7e3f04",
   "metadata": {},
   "outputs": [
    {
     "ename": "CancelledError",
     "evalue": "sum_to_num-833b1cd032bd15aad92344b10b620428",
     "output_type": "error",
     "traceback": [
      "\u001b[0;31m---------------------------------------------------------------------------\u001b[0m",
      "\u001b[0;31mCancelledError\u001b[0m                            Traceback (most recent call last)",
      "Cell \u001b[0;32mIn[26], line 1\u001b[0m\n\u001b[0;32m----> 1\u001b[0m results \u001b[38;5;241m=\u001b[39m \u001b[43mclient\u001b[49m\u001b[38;5;241;43m.\u001b[39;49m\u001b[43mgather\u001b[49m\u001b[43m(\u001b[49m\u001b[43mfutures\u001b[49m\u001b[43m)\u001b[49m\n",
      "File \u001b[0;32m/opt/conda/envs/tess/lib/python3.11/site-packages/distributed/client.py:2383\u001b[0m, in \u001b[0;36mClient.gather\u001b[0;34m(self, futures, errors, direct, asynchronous)\u001b[0m\n\u001b[1;32m   2380\u001b[0m     local_worker \u001b[38;5;241m=\u001b[39m \u001b[38;5;28;01mNone\u001b[39;00m\n\u001b[1;32m   2382\u001b[0m \u001b[38;5;28;01mwith\u001b[39;00m shorten_traceback():\n\u001b[0;32m-> 2383\u001b[0m     \u001b[38;5;28;01mreturn\u001b[39;00m \u001b[38;5;28;43mself\u001b[39;49m\u001b[38;5;241;43m.\u001b[39;49m\u001b[43msync\u001b[49m\u001b[43m(\u001b[49m\n\u001b[1;32m   2384\u001b[0m \u001b[43m        \u001b[49m\u001b[38;5;28;43mself\u001b[39;49m\u001b[38;5;241;43m.\u001b[39;49m\u001b[43m_gather\u001b[49m\u001b[43m,\u001b[49m\n\u001b[1;32m   2385\u001b[0m \u001b[43m        \u001b[49m\u001b[43mfutures\u001b[49m\u001b[43m,\u001b[49m\n\u001b[1;32m   2386\u001b[0m \u001b[43m        \u001b[49m\u001b[43merrors\u001b[49m\u001b[38;5;241;43m=\u001b[39;49m\u001b[43merrors\u001b[49m\u001b[43m,\u001b[49m\n\u001b[1;32m   2387\u001b[0m \u001b[43m        \u001b[49m\u001b[43mdirect\u001b[49m\u001b[38;5;241;43m=\u001b[39;49m\u001b[43mdirect\u001b[49m\u001b[43m,\u001b[49m\n\u001b[1;32m   2388\u001b[0m \u001b[43m        \u001b[49m\u001b[43mlocal_worker\u001b[49m\u001b[38;5;241;43m=\u001b[39;49m\u001b[43mlocal_worker\u001b[49m\u001b[43m,\u001b[49m\n\u001b[1;32m   2389\u001b[0m \u001b[43m        \u001b[49m\u001b[43masynchronous\u001b[49m\u001b[38;5;241;43m=\u001b[39;49m\u001b[43masynchronous\u001b[49m\u001b[43m,\u001b[49m\n\u001b[1;32m   2390\u001b[0m \u001b[43m    \u001b[49m\u001b[43m)\u001b[49m\n",
      "File \u001b[0;32m/opt/conda/envs/tess/lib/python3.11/site-packages/distributed/client.py:2244\u001b[0m, in \u001b[0;36mClient._gather\u001b[0;34m(self, futures, errors, direct, local_worker)\u001b[0m\n\u001b[1;32m   2242\u001b[0m     \u001b[38;5;28;01melse\u001b[39;00m:\n\u001b[1;32m   2243\u001b[0m         \u001b[38;5;28;01mraise\u001b[39;00m exception\u001b[38;5;241m.\u001b[39mwith_traceback(traceback)\n\u001b[0;32m-> 2244\u001b[0m     \u001b[38;5;28;01mraise\u001b[39;00m exc\n\u001b[1;32m   2245\u001b[0m \u001b[38;5;28;01mif\u001b[39;00m errors \u001b[38;5;241m==\u001b[39m \u001b[38;5;124m\"\u001b[39m\u001b[38;5;124mskip\u001b[39m\u001b[38;5;124m\"\u001b[39m:\n\u001b[1;32m   2246\u001b[0m     bad_keys\u001b[38;5;241m.\u001b[39madd(key)\n",
      "\u001b[0;31mCancelledError\u001b[0m: sum_to_num-833b1cd032bd15aad92344b10b620428"
     ]
    }
   ],
   "source": [
    "results = client.gather(futures)"
   ]
  },
  {
   "cell_type": "code",
   "execution_count": null,
   "id": "dc1e0495-6e5c-4022-a2a6-efdb9b71b191",
   "metadata": {},
   "outputs": [],
   "source": [
    "results"
   ]
  },
  {
   "cell_type": "code",
   "execution_count": 28,
   "id": "692fe948-5362-4d9f-b292-6b65cad73f95",
   "metadata": {},
   "outputs": [],
   "source": [
    "cluster.shutdown()"
   ]
  },
  {
   "cell_type": "markdown",
   "id": "f0aa620f-9c2b-4af7-9577-308a7a873a4f",
   "metadata": {},
   "source": [
    "## next up: full package from GitHub\n",
    "anyone have something they'd like to run? I've done a bunch of exoplanet transit stuff.\n",
    "\n",
    "In principle, you could pip install something from GitHub. But we won't do that here, so that we can demonstrate a workflow that's applicable in cases for which pip installing isn't possible (e.g., a locally developed package)."
   ]
  },
  {
   "cell_type": "code",
   "execution_count": null,
   "id": "f17d38d1-0114-4fb7-89a2-7ca4121c49a5",
   "metadata": {},
   "outputs": [],
   "source": [
    "def install_local_package(client, package_path):\n",
    "    \"\"\"Install a local package properly on all workers\"\"\"\n",
    "    \n",
    "    def install_package(pkg_path):\n",
    "        import subprocess\n",
    "        import sys\n",
    "        import os\n",
    "        \n",
    "        # Install in development mode\n",
    "        result = subprocess.run(\n",
    "            [sys.executable, '-m', 'pip', 'install', '-e', pkg_path],\n",
    "            capture_output=True,\n",
    "            text=True\n",
    "        )\n",
    "        \n",
    "        if result.returncode == 0:\n",
    "            return f\"SUCCESS: Installed {pkg_path}\"\n",
    "        else:\n",
    "            return f\"ERROR: {result.stderr}\"\n",
    "    \n",
    "    # Upload the entire package directory first\n",
    "    # (This is the tricky part - need to recreate directory structure)\n",
    "    \n",
    "    # Then install it properly\n",
    "    results = client.run(install_package, pkg_path='./cortecs')\n",
    "    return results\n",
    "\n",
    "# Usage:\n",
    "client = Client()\n",
    "install_local_package(client, './cortecs')\n",
    "\n",
    "# Now you can do normal imports!\n",
    "def log_prob(theta):\n",
    "    import cortecs  # This works now!\n",
    "    return cortecs.my_likelihood_function(theta)"
   ]
  }
 ],
 "metadata": {
  "kernelspec": {
   "display_name": "TESS Environment",
   "language": "python",
   "name": "tess"
  },
  "language_info": {
   "codemirror_mode": {
    "name": "ipython",
    "version": 3
   },
   "file_extension": ".py",
   "mimetype": "text/x-python",
   "name": "python",
   "nbconvert_exporter": "python",
   "pygments_lexer": "ipython3",
   "version": "3.11.7"
  }
 },
 "nbformat": 4,
 "nbformat_minor": 5
}
