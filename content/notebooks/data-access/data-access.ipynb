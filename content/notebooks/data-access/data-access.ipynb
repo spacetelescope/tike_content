{
 "cells": [
  {
   "cell_type": "markdown",
   "metadata": {},
   "source": [
    "# How to work with data in the cloud?\n",
    "\n",
    "The [MAST data archive](https://archive.stsci.edu/) provides a copy of several large NASA data sets via Amazon Web Services (AWS) as part of the [MAST AWS Public Datasets](https://registry.opendata.aws/collab/stsci/) program.\n",
    "\n",
    "This service is of interest to TIKE users, because the TIKE platform is hosted by AWS and therefore provides fast access to these data sets. The data are free to access and download: they do not require you to have an AWS account or use AWS credentials.\n",
    "\n",
    "Below we demonstrate a few ways to access the data.\n",
    "\n",
    "\n",
    "## Which data sets are available in the cloud?\n",
    "\n",
    "At the time of writing, selected data sets from Hubble, Kepler, K2, and TESS are available via the AWS S3 cloud file storage service.  You can read more details about this service via the following MAST blog posts:\n",
    "\n",
    "* [Making HST Public Data Available on AWS](https://mast-labs.stsci.io/2018/06/hst-public-data-on-aws)\n",
    "* [TESS data available on AWS](https://mast-labs.stsci.io/2018/12/tess-data-available-on-aws)\n",
    "* [Kepler Prime Mission Data Available on AWS](https://mast-labs.stsci.io/2019/10/kepler-data-available-on-aws)\n",
    "\n",
    "## How can I access the cloud-hosted data?\n",
    "\n",
    "The data can be accessed using various client libraries, including astroquery, lightkurve, astrocut, aws-cli, boto3, s3fs, and others. Below we demonstrate a few basic ways to use these tools."
   ]
  },
  {
   "cell_type": "markdown",
   "metadata": {},
   "source": [
    "### 1. Using `astroquery`\n",
    "\n",
    "The [astroquery](https://astroquery.readthedocs.io) package provides a special function, [enable_cloud_dataset()](https://astroquery.readthedocs.io/en/latest/api/astroquery.mast.ObservationsClass.html#astroquery.mast.ObservationsClass.enable_cloud_dataset), which enables users to download data products from AWS S3 rather than MAST's own servers.  Astroquery is pre-installed on TIKE and should work out of the box.\n",
    "\n",
    "For example, we can query and download the TESS Sector 11 pixel file for Proxima Centauri as follows:"
   ]
  },
  {
   "cell_type": "code",
   "execution_count": null,
   "metadata": {},
   "outputs": [],
   "source": [
    "# Query MAST for TESS Sector 11 observations of Proxima Cen\n",
    "from astroquery.mast import Observations\n",
    "obs = Observations.query_object(\"Proxima Cen\", radius=\"0s\")\n",
    "want = (obs['obs_collection'] == \"TESS\") & (obs['sequence_number'] == 11) & (obs['dataproduct_type'] == 'timeseries')\n",
    "\n",
    "# Pick which products we want to retrieve\n",
    "data_prod = Observations.get_product_list(obs[want])\n",
    "filt_prod = Observations.filter_products(data_prod, description=\"Target pixel files\")\n",
    "\n",
    "# Download the product from AWS S3\n",
    "Observations.enable_cloud_dataset(provider='AWS')\n",
    "manifest = Observations.download_products(filt_prod, cloud_only=True)"
   ]
  },
  {
   "cell_type": "markdown",
   "metadata": {},
   "source": [
    "You can read more about this feature in the [astroquery documentation](https://astroquery.readthedocs.io/en/latest/mast/mast.html?highlight=cloud#cloud-data-access)."
   ]
  },
  {
   "cell_type": "markdown",
   "metadata": {},
   "source": [
    "### 2. Using `lightkurve`\n",
    "\n",
    "The [Lightkurve](https://docs.lightkurve.org) package provides search functions which use Astroquery to search and retrieve specific TESS and Kepler data products in a user-friendly way.  For example, we can download the same Proxima Centauri pixel file we obtained above as follows:"
   ]
  },
  {
   "cell_type": "code",
   "execution_count": null,
   "metadata": {},
   "outputs": [],
   "source": [
    "# Important: ensure files are retrieved from AWS \n",
    "from astroquery.mast import Observations\n",
    "Observations.enable_cloud_dataset(provider='AWS')\n",
    "\n",
    "import lightkurve as lk\n",
    "search = lk.search_targetpixelfile(\"Proxima Cen\", sector=11, author=\"SPOC\")\n",
    "pixelfile = search[0].download(download_dir=\".\")"
   ]
  },
  {
   "cell_type": "markdown",
   "metadata": {},
   "source": [
    "Again, the call to Astroquery's `enable_cloud_dataset()` function is key to ensure that data is downloaded from AWS rather than MAST. This works because Lightkurve uses Astroquery behind the scenes."
   ]
  },
  {
   "cell_type": "markdown",
   "metadata": {},
   "source": [
    "### 3. Using the AWS command-line tool\n",
    "\n",
    "S3-hosted data can also be accessed in a more direct way using the standard tools available to work with AWS. For example, a useful tool to explore data in S3 is the [AWS command-line interface](https://docs.aws.amazon.com/cli/). This tool is pre-installed on the TIKE platform and can be executed from a Terminal window (<span style=\"font-variant:small-caps;\">file › new › terminal</span>) or from a Jupyter notebook (by prefixing it with the `!` character).\n",
    "\n",
    "For example, we can list the contents of the TESS data held in the public MAST S3 bucket as follows: "
   ]
  },
  {
   "cell_type": "code",
   "execution_count": null,
   "metadata": {},
   "outputs": [],
   "source": [
    "!aws s3 ls s3://stpubdata/tess/public/ --no-sign-request"
   ]
  },
  {
   "cell_type": "markdown",
   "metadata": {},
   "source": [
    "The data in this bucket follow a specific directory structure and file name convention ([documented here](https://archive.stsci.edu/missions-and-data/tess/data-products)). For example, the TESS Sector 11 data products for Proxima Centauri (also known as TIC 388857263) are available at the following location:"
   ]
  },
  {
   "cell_type": "code",
   "execution_count": null,
   "metadata": {},
   "outputs": [],
   "source": [
    "!aws s3 ls s3://stpubdata/tess/public/tid/s0011/0000/0003/8885/7263/ --no-sign-request"
   ]
  },
  {
   "cell_type": "markdown",
   "metadata": {},
   "source": [
    "We can copy files from this location using the `aws s3 cp` command.  For example, we can obtain the Target Pixel File (`*tp.fits`) for Proxima Centauri as follows:"
   ]
  },
  {
   "cell_type": "code",
   "execution_count": null,
   "metadata": {},
   "outputs": [],
   "source": [
    "!aws s3 cp s3://stpubdata/tess/public/tid/s0011/0000/0003/8885/7263/tess2019112060037-s0011-0000000388857263-0143-s_tp.fits . --no-sign-request"
   ]
  },
  {
   "cell_type": "markdown",
   "metadata": {},
   "source": [
    "See the AWS [command line interface documentation](https://docs.aws.amazon.com/cli/latest/reference/s3/) to explore additional features."
   ]
  },
  {
   "cell_type": "markdown",
   "metadata": {},
   "source": [
    "### 4. Using `s3fs`\n",
    "\n",
    "The [s3fs](https://s3fs.readthedocs.io/en/latest/) package provides a Pythonic file interface to AWS S3.  This enables us to execute the commands demonstrated above from Python rather than the command line. For example:"
   ]
  },
  {
   "cell_type": "code",
   "execution_count": null,
   "metadata": {},
   "outputs": [],
   "source": [
    "# Initialize the tool\n",
    "import s3fs\n",
    "fs = s3fs.S3FileSystem(anon=True)\n",
    "\n",
    "# List the directory containing Proxima Cen data\n",
    "fs.ls('s3://stpubdata/tess/public/tid/s0011/0000/0003/8885/7263/', refresh=True)\n",
    "\n",
    "# Transfer the Target Pixel File for Proxima Cen from S3\n",
    "f = fs.get('s3://stpubdata/tess/public/tid/s0011/0000/0003/8885/7263/tess2019112060037-s0011-0000000388857263-0143-s_tp.fits', 'proxima_cen_tp.fits')"
   ]
  },
  {
   "cell_type": "markdown",
   "metadata": {},
   "source": [
    "### 5. Using `astrocut`\n",
    "\n",
    "The `astrocut` package provides an experimental `s3-support` branch which enables users to obtain cutouts from the large collection of TESS Full-Frame Images (FFI). Compared to the existing web-based [TESSCut service](https://mast.stsci.edu/tesscut/), running `astrocut` on TIKE enables large numbers of cutouts to be obtained directly from S3-hosted data without straining MAST's servers.\n",
    "\n",
    "For an example, see the dedicated tutorial on [using TESSCut in the cloud](tesscut-in-the-cloud.ipynb)."
   ]
  },
  {
   "cell_type": "markdown",
   "metadata": {},
   "source": [
    "## Further Reading\n",
    "\n",
    "Additional examples are available below:\n",
    "- [How to use TESSCut in the cloud?](tesscut-in-the-cloud.ipynb)\n",
    "- [How to configure astroquery to read data products from S3?](https://astroquery.readthedocs.io/en/latest/mast/mast.html#cloud-data-access)\n",
    "- [Using Cloud-Hosted Data](../code/cloud_astroquery.ipynb)\n",
    "- [Reading Public Kepler Data from S3](../code/s3buckets_boto3.ipynb)"
   ]
  },
  {
   "cell_type": "markdown",
   "metadata": {},
   "source": [
    "## About this Notebook\n",
    "For support, please contact the Archive HelpDesk at archive@stsci.edu, or through the [MAST HelpDesk Portal](https://stsci.service-now.com/mast).\n",
    "\n",
    "**Author:** Geert Barentsen, Larom Segev <br>\n",
    "**Keywords:** TIKE, AWS Cloud, Data access <br>\n",
    "**Last Updated:** June 2023 <br>\n",
    "***\n",
    "[Top of Page](#top)\n",
    "<img style=\"float: right;\" src=\"https://raw.githubusercontent.com/spacetelescope/notebooks/master/assets/stsci_pri_combo_mark_horizonal_white_bkgd.png\" alt=\"Space Telescope Logo\" width=\"200px\"/> "
   ]
  }
 ],
 "metadata": {
  "kernelspec": {
   "display_name": "Python 3 (ipykernel)",
   "language": "python",
   "name": "python3"
  },
  "language_info": {
   "codemirror_mode": {
    "name": "ipython",
    "version": 3
   },
   "file_extension": ".py",
   "mimetype": "text/x-python",
   "name": "python",
   "nbconvert_exporter": "python",
   "pygments_lexer": "ipython3",
   "version": "3.10.10"
  }
 },
 "nbformat": 4,
 "nbformat_minor": 4
}
