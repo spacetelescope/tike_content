{
 "cells": [
  {
   "cell_type": "code",
   "execution_count": null,
   "id": "746e780f-9b5b-426d-a538-b1a146c2d505",
   "metadata": {},
   "outputs": [],
   "source": [
    "from astropy.table import Table"
   ]
  },
  {
   "cell_type": "code",
   "execution_count": null,
   "id": "d3590274-49a3-4054-89d5-cfd51d70b9a2",
   "metadata": {},
   "outputs": [],
   "source": [
    "dat = Table.read('https://www.stsci.edu/~jkotler/JWST_2024-11-14T11_28_38-05_00.csv', format='csv')"
   ]
  },
  {
   "cell_type": "code",
   "execution_count": null,
   "id": "bf93dbad-5855-4170-bf9e-bc2a69fc7cf2",
   "metadata": {},
   "outputs": [],
   "source": [
    "dat"
   ]
  },
  {
   "cell_type": "code",
   "execution_count": null,
   "id": "dd48db49-ce09-4575-b90a-d6637229129a",
   "metadata": {},
   "outputs": [],
   "source": []
  }
 ],
 "metadata": {
  "kernelspec": {
   "display_name": "Python 3 (ipykernel)",
   "language": "python",
   "name": "python3"
  },
  "language_info": {
   "codemirror_mode": {
    "name": "ipython",
    "version": 3
   },
   "file_extension": ".py",
   "mimetype": "text/x-python",
   "name": "python",
   "nbconvert_exporter": "python",
   "pygments_lexer": "ipython3",
   "version": "3.11.10"
  }
 },
 "nbformat": 4,
 "nbformat_minor": 5
}
