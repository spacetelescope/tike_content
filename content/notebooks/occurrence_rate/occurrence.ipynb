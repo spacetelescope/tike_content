{
 "cells": [
  {
   "cell_type": "markdown",
   "id": "0902fc34-6f3f-4a27-92ea-49712f8b8375",
   "metadata": {},
   "source": [
    "# Notebook X: performing large searches for exoplanet (candidates) with TIKE"
   ]
  },
  {
   "cell_type": "markdown",
   "id": "3fc86a46-28c0-45a8-9d34-650b04ce23dd",
   "metadata": {},
   "source": [
    "## Learning objectives\n",
    "\n",
    "- rapidly access large amounts of TESS data on the cloud\n",
    "- search for transits in large TESS data collections\n",
    "- perform multithreading operations on TIKE"
   ]
  },
  {
   "cell_type": "markdown",
   "id": "69e826c9-066b-4349-bab3-91bd2631e7c0",
   "metadata": {},
   "source": [
    "## Introduction\n",
    "Studying exoplanet demographics (the frequency of different types of exoplanets) lets us tackle some of the biggest questions in exoplanet science: How do planets form? How do they evolve? Are there any exoplanets that are like the Earth? \n",
    "\n",
    "TIKE is an excellent resource for computing occurrence rates. There are other resources that explain TIKE elsewhere; we summarize some of the main TIKE benefits in this case below:\n",
    "\n",
    "- your computations are performed \"close\" to MAST data, meaning that it's quicker to access lightcurves.\n",
    "- you don't have to download data to your own computer, saving *storage* too.\n",
    "- you don't have to use your own computational resources.\n",
    "- in most cases, the scientific computing environments are already set up. you don't have to spend time wrangling with environments.\n",
    "\n",
    "\n",
    "In this notebook, we'll take one of the first major steps to calculating occurrence rates: searching a large selection of lightcurves for exoplanets. Note: our abridged version may produce spurious planetary candidates! While we favor a concise narrative and rapid notebook execution time here, we'll note when applicable where a more robust approach should be taken for, e.g., a scientific publication."
   ]
  },
  {
   "cell_type": "markdown",
   "id": "7c4dc794-b0e2-4df3-90da-afa4d2782bc3",
   "metadata": {},
   "source": [
    "# 1. Import packages, set constants\n",
    "\n",
    "Before diving into planet-finding, we will import some necessary packages.\n",
    "\n",
    "- `astropy` contains a number of utility functions for working with astronomical data.\n",
    "- `astroquery` lets us easily query the astronomical databases that contain the TESS lightcurves.\n",
    "- `numpy` is used for array manipulation.\n",
    "- `matplotlib.pyplot` is used to display images and plot datasets.\n",
    "- `tqdm` is a lightweight progress bar that we can use to track how long our calculations will take.\n",
    "- `pandas` let us interact easily with CSV files that we'll be downliading.\n",
    "- `os` and `concurrent` let us make informed choiced when multithreading."
   ]
  },
  {
   "cell_type": "code",
   "execution_count": 1,
   "id": "659fd8c8-8545-49d7-b80b-b36bd05414dc",
   "metadata": {},
   "outputs": [],
   "source": [
    "from astropy.io import fits\n",
    "import astropy.units as u\n",
    "import astropy.constants as const\n",
    "from astropy.timeseries import BoxLeastSquares\n",
    "\n",
    "\n",
    "from astroquery.mast import Observations\n",
    "from astroquery.mast import Catalogs\n",
    "from astroquery.exceptions import InvalidQueryError\n",
    "\n",
    "\n",
    "import numpy as np\n",
    "import matplotlib.pyplot as plt\n",
    "import pandas as pd\n",
    "from tqdm import tqdm\n",
    "\n",
    "\n",
    "import os\n",
    "from concurrent.futures import ThreadPoolExecutor, as_completed"
   ]
  },
  {
   "cell_type": "markdown",
   "id": "3726bc72-e11b-4e64-a33c-e0c6a7321fa7",
   "metadata": {},
   "source": [
    "We will also *install* one package into our environment: the `batman` package. This tool will let us easily model exoplanet transits during our planet searches.\n",
    "\n",
    "**Note**: this installation will not persist after restarting TIKE. See the [installation instructions](~/references/tike_content-ref/markdown/software-installed.md) to do a persistent installation."
   ]
  },
  {
   "cell_type": "code",
   "execution_count": 2,
   "id": "38559c2c-86e7-4c4e-bd33-7d1f91d25261",
   "metadata": {},
   "outputs": [
    {
     "name": "stdout",
     "output_type": "stream",
     "text": [
      "Requirement already satisfied: batman-package in /opt/conda/envs/tess/lib/python3.11/site-packages (2.4.9)\n",
      "Requirement already satisfied: numpy in /opt/conda/envs/tess/lib/python3.11/site-packages (from batman-package) (1.26.4)\n"
     ]
    }
   ],
   "source": [
    "!pip install batman-package"
   ]
  },
  {
   "cell_type": "markdown",
   "id": "0b5061df-abab-441c-bab3-9b08535e11f9",
   "metadata": {},
   "source": [
    "With our package installed, we can safely import it."
   ]
  },
  {
   "cell_type": "code",
   "execution_count": 3,
   "id": "dd979d9c-c359-44ca-8557-6b8b3dac557e",
   "metadata": {},
   "outputs": [],
   "source": [
    "import batman"
   ]
  },
  {
   "cell_type": "markdown",
   "id": "e2038b94-b668-4e40-ab96-46ea680c7974",
   "metadata": {},
   "source": [
    "We'll now set a few physical constants and conversion factors so that we can use them later on."
   ]
  },
  {
   "cell_type": "code",
   "execution_count": 4,
   "id": "3d617f71-973c-4a09-8491-280a9ba98215",
   "metadata": {},
   "outputs": [],
   "source": [
    "G = const.G.si.value\n",
    "days_to_seconds = (u.day).to(u.s)\n",
    "r_earth_to_meters = (u.R_earth).to(u.m)\n",
    "m_sun_kg = (u.M_sun).to(u.kg)\n",
    "r_sun_m = (u.R_sun).to(u.m)"
   ]
  },
  {
   "cell_type": "markdown",
   "id": "65dc427e-ac4f-4dd0-b5aa-f8e41372c26a",
   "metadata": {},
   "source": [
    "We'll also make sure that we retrieve cloud files from AWS, making our data access stage much faster."
   ]
  },
  {
   "cell_type": "code",
   "execution_count": 5,
   "id": "462e55df-4686-40c4-bc16-d57c0633a4fe",
   "metadata": {},
   "outputs": [
    {
     "name": "stdout",
     "output_type": "stream",
     "text": [
      "INFO: Using the S3 STScI public dataset [astroquery.mast.cloud]\n"
     ]
    }
   ],
   "source": [
    "# Important: ensure files are retrieved from AWS \n",
    "Observations.enable_cloud_dataset(provider='AWS')"
   ]
  },
  {
   "cell_type": "markdown",
   "id": "9ac0d974-0a49-4d63-b711-783e21a8623f",
   "metadata": {},
   "source": [
    "# 2. Find stars\n",
    "\n",
    "Generally, the first step to finding planets is figuring out which host stars you want to search for orbiting planets. In this study, we want to find the occurrence of hot Jupiters around Sun-like stars. We'll make some cuts so that we're looking for bright, high-gravity, solar-mass stars:\n",
    "\n",
    "- *bright*: TESS was designed to look for transits around bright, nearby stars. These stars' TESS data will have high signal to noise ratios, so we have better chances of finding planetary signals in them.\n",
    "- *high-gravity*: particularly low-gravity stars tend to be evolved off the stellar main-sequence, and therefore not very Sun-like.\n",
    "- *solar-mass*: solar-mass stars on the stellar main sequence tend to be quite solar.\n",
    "\n",
    "To find these stars, we'll query the TESS Candidate Target List (CTL) — a list of stars pre-selected by the TESS team to be likely good targets for transit detection (e.g., bright, low flux contamination)."
   ]
  },
  {
   "cell_type": "code",
   "execution_count": 6,
   "id": "a51a6f8f-5ae6-4c4b-80cc-b6ca1ebdfd4b",
   "metadata": {},
   "outputs": [],
   "source": [
    "# this cell will take ~30 seconds to run\n",
    "catalog_data = Catalogs.query_criteria(catalog=\"Ctl\",\n",
    "                                       Tmag=[0, 10.5], # remember, lower magnitudes are brighter than higher ones!\n",
    "                                      logg=[4.1,400], # solar logg ~ 4.4\n",
    "                                      mass=[0.8, 1.05]) # these masses are in solar radii"
   ]
  },
  {
   "cell_type": "markdown",
   "id": "5d59d0fd-1d63-4c82-852b-f413200a9254",
   "metadata": {},
   "source": [
    "Let's take a look at this catalog data."
   ]
  },
  {
   "cell_type": "code",
   "execution_count": 7,
   "id": "0d474635-ff00-492c-9b50-f4fdda79b8fe",
   "metadata": {},
   "outputs": [
    {
     "data": {
      "text/html": [
       "<div><i>Table length=53056</i>\n",
       "<table id=\"table140170286658512\" class=\"table-striped table-bordered table-condensed\">\n",
       "<thead><tr><th>ID</th><th>version</th><th>HIP</th><th>TYC</th><th>UCAC</th><th>TWOMASS</th><th>SDSS</th><th>ALLWISE</th><th>GAIA</th><th>APASS</th><th>KIC</th><th>objType</th><th>typeSrc</th><th>ra</th><th>dec</th><th>POSflag</th><th>pmRA</th><th>e_pmRA</th><th>pmDEC</th><th>e_pmDEC</th><th>PMflag</th><th>plx</th><th>e_plx</th><th>PARflag</th><th>gallong</th><th>gallat</th><th>eclong</th><th>eclat</th><th>Bmag</th><th>e_Bmag</th><th>Vmag</th><th>e_Vmag</th><th>umag</th><th>e_umag</th><th>gmag</th><th>e_gmag</th><th>rmag</th><th>e_rmag</th><th>imag</th><th>e_imag</th><th>zmag</th><th>e_zmag</th><th>Jmag</th><th>e_Jmag</th><th>Hmag</th><th>e_Hmag</th><th>Kmag</th><th>e_Kmag</th><th>TWOMflag</th><th>prox</th><th>w1mag</th><th>e_w1mag</th><th>w2mag</th><th>e_w2mag</th><th>w3mag</th><th>e_w3mag</th><th>w4mag</th><th>e_w4mag</th><th>GAIAmag</th><th>e_GAIAmag</th><th>Tmag</th><th>e_Tmag</th><th>TESSflag</th><th>SPFlag</th><th>Teff</th><th>e_Teff</th><th>logg</th><th>e_logg</th><th>MH</th><th>e_MH</th><th>rad</th><th>e_rad</th><th>mass</th><th>e_mass</th><th>rho</th><th>e_rho</th><th>lumclass</th><th>lum</th><th>e_lum</th><th>d</th><th>e_d</th><th>ebv</th><th>e_ebv</th><th>numcont</th><th>contratio</th><th>disposition</th><th>duplicate_id</th><th>priority</th><th>eneg_EBV</th><th>epos_EBV</th><th>EBVflag</th><th>eneg_Mass</th><th>epos_Mass</th><th>eneg_Rad</th><th>epos_Rad</th><th>eneg_rho</th><th>epos_rho</th><th>eneg_logg</th><th>epos_logg</th><th>eneg_lum</th><th>epos_lum</th><th>eneg_dist</th><th>epos_dist</th><th>distflag</th><th>eneg_Teff</th><th>epos_Teff</th><th>TeffFlag</th><th>gaiabp</th><th>e_gaiabp</th><th>gaiarp</th><th>e_gaiarp</th><th>gaiaqflag</th><th>starchareFlag</th><th>VmagFlag</th><th>BmagFlag</th><th>splists</th><th>e_RA</th><th>e_Dec</th><th>RA_orig</th><th>Dec_orig</th><th>e_RA_orig</th><th>e_Dec_orig</th><th>raddflag</th><th>wdflag</th><th>objID</th></tr></thead>\n",
       "<thead><tr><th>str10</th><th>str8</th><th>int64</th><th>str12</th><th>str10</th><th>str16</th><th>str19</th><th>str19</th><th>str19</th><th>str8</th><th>int64</th><th>str4</th><th>str7</th><th>float64</th><th>float64</th><th>str7</th><th>float64</th><th>float64</th><th>float64</th><th>float64</th><th>str5</th><th>float64</th><th>float64</th><th>str5</th><th>float64</th><th>float64</th><th>float64</th><th>float64</th><th>float64</th><th>float64</th><th>float64</th><th>float64</th><th>float64</th><th>float64</th><th>float64</th><th>float64</th><th>float64</th><th>float64</th><th>float64</th><th>float64</th><th>float64</th><th>float64</th><th>float64</th><th>float64</th><th>float64</th><th>float64</th><th>float64</th><th>float64</th><th>str19</th><th>float64</th><th>float64</th><th>float64</th><th>float64</th><th>float64</th><th>float64</th><th>float64</th><th>float64</th><th>float64</th><th>float64</th><th>float64</th><th>float64</th><th>float64</th><th>str5</th><th>str5</th><th>float64</th><th>float64</th><th>float64</th><th>float64</th><th>float64</th><th>float64</th><th>float64</th><th>float64</th><th>float64</th><th>float64</th><th>float64</th><th>float64</th><th>str5</th><th>float64</th><th>float64</th><th>float64</th><th>float64</th><th>float64</th><th>float64</th><th>int64</th><th>float64</th><th>str1</th><th>str9</th><th>float64</th><th>float64</th><th>float64</th><th>str9</th><th>float64</th><th>float64</th><th>float64</th><th>float64</th><th>float64</th><th>float64</th><th>float64</th><th>float64</th><th>float64</th><th>float64</th><th>float64</th><th>float64</th><th>str6</th><th>float64</th><th>float64</th><th>str6</th><th>float64</th><th>float64</th><th>float64</th><th>float64</th><th>int64</th><th>str1</th><th>str8</th><th>str8</th><th>str15</th><th>float64</th><th>float64</th><th>float64</th><th>float64</th><th>float64</th><th>float64</th><th>int64</th><th>int64</th><th>str10</th></tr></thead>\n",
       "<tr><td>257486953</td><td>20190415</td><td>--</td><td>0004-01211-1</td><td>470-000036</td><td>00012257+0348137</td><td>1237678660350443525</td><td>J000122.66+034813.6</td><td>2740122790489701376</td><td>36101679</td><td>--</td><td>STAR</td><td>tmgaia2</td><td>0.344014992249018</td><td>3.80382001946707</td><td>tmgaia2</td><td>146.948</td><td>0.0785775</td><td>-2.18292</td><td>0.0365631</td><td>gaia2</td><td>8.86194</td><td>0.0507367</td><td>gaia2</td><td>99.6790809499965</td><td>-56.7907190407385</td><td>1.83033674668151</td><td>3.35274204776744</td><td>11.505</td><td>0.143</td><td>10.942</td><td>0.01</td><td>14.3561</td><td>0.00539245</td><td>11.5687</td><td>0.000667307</td><td>10.7394</td><td>0.000559878</td><td>10.5503</td><td>0.000599356</td><td>12.8011</td><td>0.0102534</td><td>9.525</td><td>0.026</td><td>9.107</td><td>0.024</td><td>9.042</td><td>0.021</td><td>AAA-222-111-000-0-0</td><td>nan</td><td>8.983</td><td>0.023</td><td>9.047</td><td>0.019</td><td>9.005</td><td>0.033</td><td>8.635</td><td>0.379</td><td>10.6881</td><td>0.00022</td><td>10.1918</td><td>0.006</td><td>rered</td><td>spect</td><td>5341.65</td><td>143.697</td><td>4.54113</td><td>0.0907658</td><td>-0.201</td><td>0.015</td><td>0.853239</td><td>0.0557889</td><td>0.923</td><td>0.117416</td><td>1.4859</td><td>0.389627</td><td>DWARF</td><td>0.5339956</td><td>0.01659735</td><td>112.48</td><td>0.647</td><td>0.0101352</td><td>0.0038456</td><td>27</td><td>0.03483629</td><td>--</td><td>--</td><td>0.0</td><td>0.00244247</td><td>0.00524873</td><td>panstarrs</td><td>0.10486</td><td>0.129972</td><td>0.0621553</td><td>0.0494226</td><td>0.31747</td><td>0.461784</td><td>0.0833452</td><td>0.0981863</td><td>0.0125266</td><td>0.0206681</td><td>0.643</td><td>0.651</td><td>bj2018</td><td>150.666</td><td>136.728</td><td>spect</td><td>11.0949</td><td>0.000455</td><td>10.1404</td><td>0.000426</td><td>1</td><td>--</td><td>tycho2v3</td><td>tycho2b3</td><td>planetcandidate</td><td>1.21935322296911</td><td>0.567092439365747</td><td>0.34464908190135</td><td>3.80381062101592</td><td>0.0422055151724629</td><td>0.0203261439774303</td><td>1</td><td>0</td><td>95867</td></tr>\n",
       "<tr><td>388583226</td><td>20190415</td><td>--</td><td>4500-00124-1</td><td>849-000014</td><td>00004121+7940398</td><td>--</td><td>J000041.30+794039.9</td><td>564638150446547200</td><td>60652017</td><td>--</td><td>STAR</td><td>tmgaia2</td><td>0.171723066040282</td><td>79.6777485493965</td><td>tmgaia2</td><td>23.2049</td><td>0.0463689</td><td>0.752656</td><td>0.0441405</td><td>gaia2</td><td>6.3842</td><td>0.0331064</td><td>gaia2</td><td>120.572822336236</td><td>17.0392128647769</td><td>65.4255217247576</td><td>64.4779480185437</td><td>11.001</td><td>0.072</td><td>10.244</td><td>0.005</td><td>nan</td><td>nan</td><td>nan</td><td>nan</td><td>nan</td><td>nan</td><td>nan</td><td>nan</td><td>nan</td><td>nan</td><td>8.922</td><td>0.027</td><td>8.612</td><td>0.033</td><td>8.523</td><td>0.021</td><td>AAA-122-111-000-0-0</td><td>nan</td><td>8.454</td><td>0.022</td><td>8.48</td><td>0.02</td><td>8.395</td><td>0.022</td><td>8.311</td><td>0.211</td><td>10.0725</td><td>0.001459</td><td>9.6085</td><td>0.0083</td><td>rered</td><td>gaia2</td><td>5655.0</td><td>121.218</td><td>4.14638</td><td>0.0746591</td><td>nan</td><td>nan</td><td>1.39908</td><td>0.066985</td><td>1.0</td><td>0.125138</td><td>0.365152</td><td>0.0760686</td><td>DWARF</td><td>1.80347264</td><td>0.0588778</td><td>155.936</td><td>0.811</td><td>0.0217066</td><td>0.008248645</td><td>157</td><td>0.0207567867</td><td>--</td><td>--</td><td>0.0025412635165229</td><td>0.00913321</td><td>0.00736408</td><td>panstarrs</td><td>0.0875932</td><td>0.162682</td><td>0.079991</td><td>0.0539789</td><td>0.0629468</td><td>0.0891903</td><td>0.074668</td><td>0.0746503</td><td>0.0552031</td><td>0.0625525</td><td>0.807</td><td>0.815</td><td>bj2018</td><td>134.725</td><td>107.712</td><td>dered</td><td>10.4504</td><td>0.004713</td><td>9.56295</td><td>0.00391</td><td>1</td><td>--</td><td>tycho2v3</td><td>tycho2b3</td><td>planetcandidate</td><td>0.936393976453562</td><td>0.684649721171938</td><td>0.172280648286862</td><td>79.677751790477</td><td>0.0266482483131485</td><td>0.025417456712859</td><td>1</td><td>0</td><td>275918</td></tr>\n",
       "<tr><td>432485132</td><td>20190415</td><td>--</td><td>2781-00863-1</td><td>646-000012</td><td>00001518+3902504</td><td>--</td><td>J000015.37+390251.1</td><td>2881755246950572032</td><td>50158137</td><td>--</td><td>STAR</td><td>tmgaia2</td><td>0.063276435470113</td><td>39.0473691613597</td><td>tmgaia2</td><td>210.962</td><td>0.050801</td><td>62.6718</td><td>0.0315856</td><td>gaia2</td><td>10.8723</td><td>0.0393027</td><td>gaia2</td><td>112.181810286813</td><td>-22.7535599054828</td><td>17.9353046943269</td><td>35.2846007414883</td><td>11.517</td><td>0.104</td><td>10.703</td><td>0.007</td><td>nan</td><td>nan</td><td>nan</td><td>nan</td><td>nan</td><td>nan</td><td>nan</td><td>nan</td><td>nan</td><td>nan</td><td>9.264</td><td>0.024</td><td>8.872</td><td>0.032</td><td>8.763</td><td>0.023</td><td>AAA-122-111-000-0-0</td><td>nan</td><td>8.717</td><td>0.023</td><td>8.768</td><td>0.019</td><td>8.711</td><td>0.026</td><td>8.37</td><td>0.266</td><td>10.5168</td><td>0.000296</td><td>10.0002</td><td>0.006</td><td>gbprp</td><td>gaia2</td><td>5265.0</td><td>118.348</td><td>4.62026</td><td>0.0802021</td><td>nan</td><td>nan</td><td>0.769179</td><td>0.041804</td><td>0.9</td><td>0.112514</td><td>1.9777</td><td>0.442537</td><td>DWARF</td><td>0.4095836</td><td>0.00975965</td><td>91.7342</td><td>0.33325</td><td>0.0</td><td>0.0</td><td>121</td><td>0.0216499064</td><td>--</td><td>--</td><td>0.0033319995272082</td><td>0.0</td><td>0.0</td><td>--</td><td>0.092875</td><td>0.132153</td><td>0.0297261</td><td>0.0538819</td><td>0.435281</td><td>0.449792</td><td>0.0788729</td><td>0.0815313</td><td>0.0080634</td><td>0.0114559</td><td>0.3321</td><td>0.3344</td><td>bj2018</td><td>149.218</td><td>87.477</td><td>dered0</td><td>10.9485</td><td>0.001004</td><td>9.95052</td><td>0.000984</td><td>1</td><td>--</td><td>tycho2v3</td><td>tycho2b3</td><td>planetcandidate</td><td>0.835928653935751</td><td>0.490001106971712</td><td>0.0644459936775772</td><td>39.0476390041186</td><td>0.0282319070737578</td><td>0.0203872934756772</td><td>1</td><td>0</td><td>378353</td></tr>\n",
       "<tr><td>238305136</td><td>20190415</td><td>--</td><td>1729-00866-1</td><td>564-000149</td><td>00042955+2244061</td><td>--</td><td>J000429.54+224406.1</td><td>2847357575430420992</td><td>44877465</td><td>--</td><td>STAR</td><td>tmgaia2</td><td>1.12319636500125</td><td>22.7351182578426</td><td>tmgaia2</td><td>3.45582</td><td>0.120984</td><td>13.2973</td><td>0.0739822</td><td>gaia2</td><td>9.62559</td><td>0.0641052</td><td>gaia2</td><td>108.990375016054</td><td>-38.8624038556943</td><td>10.4646233861769</td><td>20.3277010376484</td><td>11.167</td><td>0.09</td><td>10.36</td><td>0.006</td><td>nan</td><td>nan</td><td>nan</td><td>nan</td><td>nan</td><td>nan</td><td>nan</td><td>nan</td><td>nan</td><td>nan</td><td>8.953</td><td>0.019</td><td>8.539</td><td>0.017</td><td>8.581</td><td>0.029</td><td>AAE-112-111-000-0-0</td><td>nan</td><td>8.392</td><td>0.022</td><td>8.431</td><td>0.02</td><td>8.395</td><td>0.03</td><td>8.229</td><td>0.328</td><td>10.2709</td><td>0.00034</td><td>9.79833</td><td>0.0061</td><td>rered</td><td>gaia2</td><td>5550.0</td><td>126.665</td><td>4.54841</td><td>0.0844041</td><td>nan</td><td>nan</td><td>0.870511</td><td>0.0456031</td><td>0.977</td><td>0.130423</td><td>1.48106</td><td>0.34403</td><td>DWARF</td><td>0.6477617</td><td>0.0194796</td><td>103.586</td><td>0.693</td><td>0.00879884</td><td>0.005834875</td><td>38</td><td>0.128319621</td><td>--</td><td>--</td><td>0.00272550129039011</td><td>0.00398818</td><td>0.00768157</td><td>panstarrs</td><td>0.115482</td><td>0.145364</td><td>0.0373312</td><td>0.0538749</td><td>0.275242</td><td>0.412818</td><td>0.0738798</td><td>0.0949285</td><td>0.0143611</td><td>0.0245981</td><td>0.689</td><td>0.697</td><td>bj2018</td><td>164.788</td><td>88.543</td><td>dered</td><td>10.6536</td><td>0.001208</td><td>9.74811</td><td>0.002207</td><td>1</td><td>--</td><td>tycho2v3</td><td>tycho2b3</td><td>planetcandidate</td><td>1.91332394696455</td><td>1.1475086101316</td><td>1.12321249771599</td><td>22.7351755101078</td><td>0.0458189537297122</td><td>0.0424246249876592</td><td>1</td><td>0</td><td>1104482</td></tr>\n",
       "<tr><td>238390058</td><td>20190415</td><td>--</td><td>1729-01226-1</td><td>572-000173</td><td>00041754+2422409</td><td>--</td><td>J000417.61+242241.1</td><td>2849970216920699776</td><td>46058452</td><td>--</td><td>STAR</td><td>tmgaia2</td><td>1.0731219207276</td><td>24.3779952144411</td><td>tmgaia2</td><td>85.9615</td><td>0.15478</td><td>27.1693</td><td>0.122947</td><td>gaia2</td><td>7.57166</td><td>0.0608685</td><td>gaia2</td><td>109.414444604012</td><td>-37.2531562328982</td><td>11.1706542860936</td><td>21.8334224162039</td><td>11.294</td><td>0.118</td><td>10.671</td><td>0.008</td><td>nan</td><td>nan</td><td>nan</td><td>nan</td><td>nan</td><td>nan</td><td>nan</td><td>nan</td><td>nan</td><td>nan</td><td>9.247</td><td>0.02</td><td>8.847</td><td>0.038</td><td>8.732</td><td>0.019</td><td>AAA-212-111-000-0-0</td><td>nan</td><td>8.66</td><td>0.023</td><td>8.699</td><td>0.02</td><td>8.662</td><td>0.026</td><td>8.671</td><td>0.45</td><td>10.4733</td><td>0.000346</td><td>9.97464</td><td>0.006</td><td>rered</td><td>gaia2</td><td>5409.0</td><td>129.807</td><td>4.351</td><td>0.0804795</td><td>nan</td><td>nan</td><td>1.07233</td><td>0.0594246</td><td>0.941</td><td>0.116028</td><td>0.763131</td><td>0.175553</td><td>DWARF</td><td>0.8867948</td><td>0.02882455</td><td>131.582</td><td>1.062</td><td>0.0117189</td><td>0.007487435</td><td>57</td><td>1.17408848</td><td>--</td><td>--</td><td>0.00149848181820634</td><td>0.00559912</td><td>0.00937575</td><td>panstarrs</td><td>0.0999787</td><td>0.132077</td><td>0.0638372</td><td>0.0550121</td><td>0.194395</td><td>0.156711</td><td>0.0923162</td><td>0.0686428</td><td>0.0274515</td><td>0.0301976</td><td>1.054</td><td>1.07</td><td>bj2018</td><td>111.042</td><td>148.572</td><td>dered</td><td>10.8814</td><td>0.000581</td><td>9.92215</td><td>0.000586</td><td>1</td><td>--</td><td>tycho2v3</td><td>tycho2b3</td><td>planetcandidate</td><td>2.45587238458119</td><td>1.90722103774065</td><td>1.07352826113517</td><td>24.3781121939123</td><td>0.0843919646473501</td><td>0.0766912083506929</td><td>1</td><td>0</td><td>1104967</td></tr>\n",
       "<tr><td>238390147</td><td>20190415</td><td>--</td><td>1729-01496-1</td><td>574-000190</td><td>00044651+2442057</td><td>--</td><td>J000446.50+244205.8</td><td>2849986026696774784</td><td>--</td><td>--</td><td>STAR</td><td>tmgaia2</td><td>1.19378596811218</td><td>24.7015965723314</td><td>tmgaia2</td><td>2.98436</td><td>0.0574275</td><td>-0.995527</td><td>0.0549338</td><td>gaia2</td><td>8.98921</td><td>0.0358636</td><td>gaia2</td><td>109.640524845519</td><td>-36.9628828746685</td><td>11.4271818703802</td><td>22.0786966158514</td><td>10.109</td><td>0.049</td><td>9.463</td><td>0.003</td><td>nan</td><td>nan</td><td>nan</td><td>nan</td><td>nan</td><td>nan</td><td>nan</td><td>nan</td><td>nan</td><td>nan</td><td>8.228</td><td>0.035</td><td>7.928</td><td>0.027</td><td>7.884</td><td>0.034</td><td>AAA-111-111-000-0-0</td><td>nan</td><td>7.806</td><td>0.026</td><td>7.874</td><td>0.019</td><td>7.849</td><td>0.021</td><td>7.974</td><td>0.195</td><td>9.26845</td><td>0.000132</td><td>8.8254</td><td>0.006</td><td>rered</td><td>gaia2</td><td>5780.0</td><td>148.26</td><td>4.17991</td><td>0.0804019</td><td>nan</td><td>nan</td><td>1.37012</td><td>0.0701231</td><td>1.036</td><td>0.13664</td><td>0.402794</td><td>0.0923259</td><td>DWARF</td><td>1.8876617</td><td>0.0838636</td><td>110.89</td><td>0.4445</td><td>0.0201465</td><td>0.0134368353</td><td>60</td><td>0.00103134476</td><td>--</td><td>--</td><td>0.00244041039010092</td><td>0.00891157</td><td>0.0179621</td><td>panstarrs</td><td>0.102982</td><td>0.170297</td><td>0.0690457</td><td>0.0712005</td><td>0.0893373</td><td>0.0953145</td><td>0.0904043</td><td>0.0703994</td><td>0.0767651</td><td>0.0909621</td><td>0.443</td><td>0.446</td><td>bj2018</td><td>171.685</td><td>124.834</td><td>dered</td><td>9.62591</td><td>0.000648</td><td>8.78065</td><td>0.000656</td><td>1</td><td>--</td><td>tycho2v3</td><td>tycho2b3</td><td>planetcandidate</td><td>0.911736623521192</td><td>0.852110268608909</td><td>1.19380011162007</td><td>24.7015922860352</td><td>0.0308330202391595</td><td>0.0329257875765638</td><td>1</td><td>0</td><td>1105056</td></tr>\n",
       "<tr><td>293221159</td><td>20190415</td><td>--</td><td>0004-01109-1</td><td>472-000153</td><td>00061608+0415356</td><td>--</td><td>J000616.15+041535.1</td><td>2741626922395261056</td><td>37333328</td><td>--</td><td>STAR</td><td>tmgaia2</td><td>1.56701801993433</td><td>4.25995584358783</td><td>tmgaia2</td><td>93.2991</td><td>0.114094</td><td>-51.9516</td><td>0.0856794</td><td>gaia2</td><td>9.74019</td><td>0.0547347</td><td>gaia2</td><td>102.056285429432</td><td>-56.769825445035</td><td>3.13322140802109</td><td>3.28510301989999</td><td>12.018</td><td>0.217</td><td>11.152</td><td>0.016</td><td>nan</td><td>nan</td><td>nan</td><td>nan</td><td>nan</td><td>nan</td><td>nan</td><td>nan</td><td>nan</td><td>nan</td><td>9.524</td><td>0.024</td><td>9.102</td><td>0.027</td><td>9.005</td><td>0.023</td><td>AAA-222-111-000-0-0</td><td>nan</td><td>8.931</td><td>0.022</td><td>8.986</td><td>0.019</td><td>8.908</td><td>0.031</td><td>8.683</td><td>0.362</td><td>10.8234</td><td>0.000925</td><td>10.2729</td><td>0.0063</td><td>rered</td><td>spect</td><td>5173.36</td><td>142.659</td><td>4.58808</td><td>0.0940177</td><td>0.18</td><td>0.023</td><td>0.787487</td><td>0.0538995</td><td>0.876</td><td>0.105043</td><td>1.7938</td><td>0.48305</td><td>DWARF</td><td>0.400195658</td><td>0.01339255</td><td>102.368</td><td>0.5775</td><td>0.010022</td><td>0.00562644</td><td>36</td><td>0.00109536527</td><td>--</td><td>--</td><td>0.0</td><td>0.00391114</td><td>0.00734174</td><td>panstarrs</td><td>0.099299</td><td>0.110787</td><td>0.0434588</td><td>0.0643402</td><td>0.444451</td><td>0.521648</td><td>0.0923954</td><td>0.09564</td><td>0.0152993</td><td>0.0114858</td><td>0.574</td><td>0.581</td><td>bj2018</td><td>185.194</td><td>100.124</td><td>spect</td><td>11.2937</td><td>0.00294</td><td>10.2244</td><td>0.002669</td><td>1</td><td>--</td><td>tycho2v3</td><td>tycho2b3</td><td>planetcandidate</td><td>1.77021089474323</td><td>1.32851856754622</td><td>1.56742083726228</td><td>4.25973216319089</td><td>0.0433684991742019</td><td>0.0360006135026246</td><td>1</td><td>0</td><td>1139818</td></tr>\n",
       "<tr><td>293257379</td><td>20190415</td><td>--</td><td>0007-01101-1</td><td>479-000194</td><td>00072240+0545085</td><td>1237678778478952451</td><td>J000722.44+054508.8</td><td>2742481792685664512</td><td>38114019</td><td>--</td><td>STAR</td><td>tmgaia2</td><td>1.84330147435932</td><td>5.75234598748059</td><td>tmgaia2</td><td>77.3138</td><td>0.0834531</td><td>44.4886</td><td>0.0529502</td><td>gaia2</td><td>6.11686</td><td>0.0421365</td><td>gaia2</td><td>103.352257898543</td><td>-55.4353706633655</td><td>3.98241477882546</td><td>4.54416468082194</td><td>11.635</td><td>0.135</td><td>10.877</td><td>0.009</td><td>14.9581</td><td>0.00618612</td><td>11.3637</td><td>0.00068201</td><td>10.6743</td><td>0.000570526</td><td>10.5754</td><td>0.00107483</td><td>11.0982</td><td>0.00195381</td><td>9.6</td><td>0.022</td><td>9.364</td><td>0.025</td><td>9.229</td><td>0.019</td><td>AAA-222-111-000-0-0</td><td>nan</td><td>9.192</td><td>0.022</td><td>9.271</td><td>0.019</td><td>9.224</td><td>0.034</td><td>8.554</td><td>nan</td><td>10.6843</td><td>0.000298</td><td>10.2336</td><td>0.006</td><td>rered</td><td>gaia2</td><td>5779.0</td><td>134.501</td><td>4.40023</td><td>0.0788594</td><td>nan</td><td>nan</td><td>1.06316</td><td>0.0541206</td><td>1.036</td><td>0.132066</td><td>0.862104</td><td>0.192596</td><td>DWARF</td><td>1.13580918</td><td>0.0419232</td><td>162.723</td><td>1.124</td><td>0.0313672</td><td>0.00849754</td><td>35</td><td>0.0007846031</td><td>--</td><td>--</td><td>0.0</td><td>0.0102693</td><td>0.00672578</td><td>panstarrs</td><td>0.115001</td><td>0.14913</td><td>0.0432869</td><td>0.0649543</td><td>0.188954</td><td>0.196239</td><td>0.0788188</td><td>0.0788999</td><td>0.0456677</td><td>0.0381787</td><td>1.116</td><td>1.132</td><td>bj2018</td><td>142.982</td><td>126.019</td><td>dered</td><td>11.0471</td><td>0.001104</td><td>10.1866</td><td>0.000527</td><td>1</td><td>--</td><td>tycho2v3</td><td>tycho2b3</td><td>planetcandidate</td><td>1.29562225839288</td><td>0.821193700515997</td><td>1.84363603794646</td><td>5.75253753571845</td><td>0.0348060951442214</td><td>0.0276492248995643</td><td>1</td><td>0</td><td>1142861</td></tr>\n",
       "<tr><td>326675379</td><td>20190415</td><td>--</td><td>3656-00114-1</td><td>728-001341</td><td>00063740+5527218</td><td>--</td><td>J000637.37+552721.7</td><td>420818529143481088</td><td>56841532</td><td>--</td><td>STAR</td><td>tmgaia2</td><td>1.65575603452202</td><td>55.4560346537012</td><td>tmgaia2</td><td>-8.8845</td><td>0.166211</td><td>-3.73739</td><td>0.124448</td><td>gaia2</td><td>13.6455</td><td>0.107213</td><td>gaia2</td><td>116.560748457845</td><td>-6.86036497583765</td><td>31.1563704170876</td><td>48.5215371342246</td><td>10.272</td><td>0.039</td><td>9.408</td><td>0.003</td><td>nan</td><td>nan</td><td>nan</td><td>nan</td><td>nan</td><td>nan</td><td>nan</td><td>nan</td><td>nan</td><td>nan</td><td>7.624</td><td>0.019</td><td>7.226</td><td>0.021</td><td>7.103</td><td>0.021</td><td>AAA-111-111-000-0-0</td><td>nan</td><td>7.102</td><td>0.037</td><td>7.218</td><td>0.02</td><td>7.121</td><td>0.017</td><td>6.817</td><td>0.071</td><td>9.13025</td><td>0.005555</td><td>8.582</td><td>0.0082</td><td>gbprp</td><td>gaia2</td><td>5098.0</td><td>138.236</td><td>4.17428</td><td>0.0942165</td><td>nan</td><td>nan</td><td>1.25644</td><td>0.0844826</td><td>0.86</td><td>0.103783</td><td>0.433583</td><td>0.115842</td><td>DWARF</td><td>0.960678</td><td>0.03039735</td><td>73.1373</td><td>0.57785</td><td>0.0</td><td>0.0</td><td>513</td><td>0.004536777</td><td>--</td><td>--</td><td>0.00037795037887048</td><td>0.0</td><td>0.0</td><td>--</td><td>0.0989695</td><td>0.108597</td><td>0.100917</td><td>0.0680482</td><td>0.121502</td><td>0.110181</td><td>0.11201</td><td>0.0764231</td><td>0.0375597</td><td>0.023235</td><td>0.5734</td><td>0.5823</td><td>bj2018</td><td>118.434</td><td>158.037</td><td>dered0</td><td>9.59568</td><td>0.015069</td><td>8.52989</td><td>0.016492</td><td>1</td><td>--</td><td>tycho2v3</td><td>tycho2b3</td><td>planetcandidate</td><td>2.91165604008504</td><td>1.93019072734412</td><td>1.65568857400272</td><td>55.4560185621793</td><td>0.0822621758814142</td><td>0.0693634542770245</td><td>1</td><td>0</td><td>1161510</td></tr>\n",
       "<tr><td>...</td><td>...</td><td>...</td><td>...</td><td>...</td><td>...</td><td>...</td><td>...</td><td>...</td><td>...</td><td>...</td><td>...</td><td>...</td><td>...</td><td>...</td><td>...</td><td>...</td><td>...</td><td>...</td><td>...</td><td>...</td><td>...</td><td>...</td><td>...</td><td>...</td><td>...</td><td>...</td><td>...</td><td>...</td><td>...</td><td>...</td><td>...</td><td>...</td><td>...</td><td>...</td><td>...</td><td>...</td><td>...</td><td>...</td><td>...</td><td>...</td><td>...</td><td>...</td><td>...</td><td>...</td><td>...</td><td>...</td><td>...</td><td>...</td><td>...</td><td>...</td><td>...</td><td>...</td><td>...</td><td>...</td><td>...</td><td>...</td><td>...</td><td>...</td><td>...</td><td>...</td><td>...</td><td>...</td><td>...</td><td>...</td><td>...</td><td>...</td><td>...</td><td>...</td><td>...</td><td>...</td><td>...</td><td>...</td><td>...</td><td>...</td><td>...</td><td>...</td><td>...</td><td>...</td><td>...</td><td>...</td><td>...</td><td>...</td><td>...</td><td>...</td><td>...</td><td>...</td><td>...</td><td>...</td><td>...</td><td>...</td><td>...</td><td>...</td><td>...</td><td>...</td><td>...</td><td>...</td><td>...</td><td>...</td><td>...</td><td>...</td><td>...</td><td>...</td><td>...</td><td>...</td><td>...</td><td>...</td><td>...</td><td>...</td><td>...</td><td>...</td><td>...</td><td>...</td><td>...</td><td>...</td><td>...</td><td>...</td><td>...</td><td>...</td><td>...</td><td>...</td><td>...</td><td>...</td><td>...</td><td>...</td></tr>\n",
       "<tr><td>201226478</td><td>20190415</td><td>--</td><td>8833-00130-1</td><td>187-208087</td><td>23532479-5241592</td><td>--</td><td>J235324.96-524158.9</td><td>6521448419212024320</td><td>26939038</td><td>--</td><td>STAR</td><td>tmgaia2</td><td>358.353360740815</td><td>-52.6997848274611</td><td>tmgaia2</td><td>147.983</td><td>0.0887198</td><td>21.3725</td><td>0.125276</td><td>gaia2</td><td>7.96692</td><td>0.0520863</td><td>gaia2</td><td>321.9473754613</td><td>-62.2335476696229</td><td>331.244501319796</td><td>-46.2947671694772</td><td>10.795</td><td>0.048</td><td>10.129</td><td>0.003</td><td>nan</td><td>nan</td><td>nan</td><td>nan</td><td>nan</td><td>nan</td><td>nan</td><td>nan</td><td>nan</td><td>nan</td><td>8.889</td><td>0.021</td><td>8.622</td><td>0.033</td><td>8.523</td><td>0.023</td><td>AAA-112-111-000-0-0</td><td>nan</td><td>8.501</td><td>0.023</td><td>8.537</td><td>0.02</td><td>8.493</td><td>0.025</td><td>8.093</td><td>nan</td><td>9.95375</td><td>0.000258</td><td>9.5121</td><td>0.006</td><td>rered</td><td>spect</td><td>5617.6</td><td>126.419</td><td>4.28683</td><td>0.0763092</td><td>-0.23</td><td>0.1</td><td>1.18424</td><td>0.0636256</td><td>0.99</td><td>0.123626</td><td>0.596101</td><td>0.127217</td><td>DWARF</td><td>1.25827265</td><td>0.0468408</td><td>125.073</td><td>0.821</td><td>0.00932687</td><td>0.00973429</td><td>28</td><td>2.094582e-05</td><td>--</td><td>--</td><td>0.00262207304774608</td><td>0.00880628</td><td>0.0106623</td><td>schlegel</td><td>0.100492</td><td>0.146759</td><td>0.0479025</td><td>0.0793487</td><td>0.0879281</td><td>0.166505</td><td>0.0541842</td><td>0.0984343</td><td>0.049119</td><td>0.0445626</td><td>0.816</td><td>0.826</td><td>bj2018</td><td>130.306</td><td>122.532</td><td>spect</td><td>10.3087</td><td>0.00079</td><td>9.46608</td><td>0.000837</td><td>1</td><td>--</td><td>tycho2v3</td><td>tycho2b3</td><td>planetcandidate</td><td>1.53522444083477</td><td>1.9429262498166</td><td>358.354412156802</td><td>-52.6996928116246</td><td>0.0437404084880576</td><td>0.0667878053418582</td><td>1</td><td>0</td><td>1725933930</td></tr>\n",
       "<tr><td>441052487</td><td>20190415</td><td>--</td><td>6408-00020-1</td><td>362-203232</td><td>23555098-1745389</td><td>--</td><td>J235550.94-174539.5</td><td>2415092584789269888</td><td>10092946</td><td>--</td><td>STAR</td><td>tmgaia2</td><td>358.962403078213</td><td>-17.7608253092213</td><td>tmgaia2</td><td>-41.4937</td><td>0.0681841</td><td>-47.3959</td><td>0.053207</td><td>gaia2</td><td>4.71075</td><td>0.0514118</td><td>gaia2</td><td>66.1979158551568</td><td>-74.1238840132481</td><td>351.802924987839</td><td>-15.8436312755018</td><td>11.359</td><td>0.139</td><td>10.708</td><td>0.01</td><td>nan</td><td>nan</td><td>nan</td><td>nan</td><td>nan</td><td>nan</td><td>nan</td><td>nan</td><td>nan</td><td>nan</td><td>9.45</td><td>0.021</td><td>9.111</td><td>0.022</td><td>9.038</td><td>0.023</td><td>AAA-222-111-000-0-0</td><td>nan</td><td>9.0</td><td>0.023</td><td>9.081</td><td>0.021</td><td>9.021</td><td>0.032</td><td>8.237</td><td>nan</td><td>10.4607</td><td>0.000344</td><td>10.0215</td><td>0.006</td><td>rered</td><td>gaia2</td><td>5802.0</td><td>120.478</td><td>4.10835</td><td>0.0763348</td><td>nan</td><td>nan</td><td>1.49208</td><td>0.0705025</td><td>1.042</td><td>0.133015</td><td>0.313681</td><td>0.0667496</td><td>DWARF</td><td>2.272961</td><td>0.0832792</td><td>211.019</td><td>2.307</td><td>0.019328</td><td>0.004714025</td><td>37</td><td>0.000225287455</td><td>--</td><td>--</td><td>0.00104801772600065</td><td>0.00627653</td><td>0.00315152</td><td>panstarrs</td><td>0.121728</td><td>0.144303</td><td>0.0554528</td><td>0.0855523</td><td>0.0616639</td><td>0.0718354</td><td>0.095744</td><td>0.0569255</td><td>0.0644334</td><td>0.102125</td><td>2.282</td><td>2.332</td><td>bj2018</td><td>120.598</td><td>120.358</td><td>dered</td><td>10.812</td><td>0.000503</td><td>9.97455</td><td>0.000624</td><td>1</td><td>--</td><td>tycho2v3</td><td>tycho2b3</td><td>planetcandidate</td><td>1.07051721280473</td><td>0.825119867077203</td><td>358.962215483689</td><td>-17.7610293749883</td><td>0.0424210245471928</td><td>0.0260515848510528</td><td>1</td><td>0</td><td>1725987206</td></tr>\n",
       "<tr><td>9762200</td><td>20190415</td><td>--</td><td>5259-00440-1</td><td>416-152667</td><td>23564562-0650586</td><td>--</td><td>J235645.78-065100.2</td><td>2442344903901363584</td><td>5032955</td><td>--</td><td>STAR</td><td>tmgaia2</td><td>359.190154470377</td><td>-6.84968906608565</td><td>tmgaia2</td><td>217.906</td><td>0.113729</td><td>-134.894</td><td>0.0697348</td><td>gaia2</td><td>7.22346</td><td>0.0882028</td><td>gaia2</td><td>87.8250684158482</td><td>-65.9219278084692</td><td>356.523230043704</td><td>-5.96043097134147</td><td>11.326</td><td>0.128</td><td>10.759</td><td>0.009</td><td>nan</td><td>nan</td><td>nan</td><td>nan</td><td>nan</td><td>nan</td><td>nan</td><td>nan</td><td>nan</td><td>nan</td><td>9.522</td><td>0.026</td><td>9.171</td><td>0.024</td><td>9.11</td><td>0.024</td><td>AAA-222-111-000-0-0</td><td>nan</td><td>9.042</td><td>0.024</td><td>9.076</td><td>0.02</td><td>9.022</td><td>0.035</td><td>8.95</td><td>0.498</td><td>10.5401</td><td>0.000308</td><td>10.0984</td><td>0.006</td><td>rered</td><td>gaia2</td><td>5773.0</td><td>124.465</td><td>4.49975</td><td>0.07793</td><td>nan</td><td>nan</td><td>0.94715</td><td>0.0481156</td><td>1.034</td><td>0.126594</td><td>1.21693</td><td>0.260466</td><td>DWARF</td><td>0.897714</td><td>0.03638535</td><td>137.918</td><td>1.691</td><td>0.0164854</td><td>0.006685635</td><td>29</td><td>0.000353109644</td><td>--</td><td>--</td><td>0.00183030981861967</td><td>0.00813853</td><td>0.00523274</td><td>panstarrs</td><td>0.0782164</td><td>0.174971</td><td>0.0558457</td><td>0.0403854</td><td>0.309019</td><td>0.211913</td><td>0.0987372</td><td>0.0571227</td><td>0.0363768</td><td>0.0363939</td><td>1.67</td><td>1.712</td><td>bj2018</td><td>119.855</td><td>129.074</td><td>dered</td><td>10.8895</td><td>0.0005</td><td>10.0468</td><td>0.000471</td><td>1</td><td>--</td><td>tycho2v3</td><td>tycho2b3</td><td>planetcandidate</td><td>1.76693325153136</td><td>1.08121009177123</td><td>359.191099421408</td><td>-6.85026986062421</td><td>0.0588182855914101</td><td>0.0263318726184411</td><td>1</td><td>0</td><td>1726114393</td></tr>\n",
       "<tr><td>9787111</td><td>20190415</td><td>118115</td><td>5831-01020-1</td><td>402-131653</td><td>23573347-0938505</td><td>--</td><td>--</td><td>2434956499296915200</td><td>5033379</td><td>--</td><td>STAR</td><td>tmgaia2</td><td>359.389660912897</td><td>-9.64751963782303</td><td>tmgaia2</td><td>456.505</td><td>0.101283</td><td>-146.345</td><td>0.0662818</td><td>gaia2</td><td>19.467</td><td>0.0642338</td><td>gaia2</td><td>84.366474820705</td><td>-68.3854747107677</td><td>355.574363076632</td><td>-8.60261020610801</td><td>8.504</td><td>0.101119</td><td>7.863</td><td>0.015</td><td>nan</td><td>nan</td><td>nan</td><td>nan</td><td>nan</td><td>nan</td><td>nan</td><td>nan</td><td>nan</td><td>nan</td><td>6.742</td><td>0.027</td><td>6.442</td><td>0.034</td><td>6.331</td><td>0.023</td><td>AAA-111-111-000-0-0</td><td>nan</td><td>nan</td><td>nan</td><td>nan</td><td>nan</td><td>nan</td><td>nan</td><td>nan</td><td>nan</td><td>7.72755</td><td>0.000188</td><td>7.2991</td><td>0.006</td><td>gbprp</td><td>spect</td><td>5805.27</td><td>107.626</td><td>4.26478</td><td>0.0681198</td><td>-0.0177867</td><td>0.00573219</td><td>1.24498</td><td>0.0519573</td><td>1.04</td><td>0.12875</td><td>0.538949</td><td>0.10097</td><td>DWARF</td><td>1.58601785</td><td>0.0411959</td><td>51.2937</td><td>0.17025</td><td>0.0</td><td>0.0</td><td>30</td><td>0.0003180751</td><td>--</td><td>--</td><td>0.00445281582249942</td><td>0.0</td><td>0.0</td><td>--</td><td>0.124503</td><td>0.132996</td><td>0.0510925</td><td>0.0528221</td><td>0.0865627</td><td>0.115377</td><td>0.0611284</td><td>0.0751113</td><td>0.0445152</td><td>0.0378766</td><td>0.1697</td><td>0.1708</td><td>bj2018</td><td>100.69</td><td>114.561</td><td>spect</td><td>8.07541</td><td>0.001152</td><td>7.25916</td><td>0.000826</td><td>1</td><td>--</td><td>mermil</td><td>mermil</td><td>planetcandidate</td><td>1.57609182451725</td><td>1.0277422799832</td><td>359.391654616738</td><td>-9.64814974008682</td><td>0.0443604216802028</td><td>0.0277379183548893</td><td>1</td><td>0</td><td>1726115771</td></tr>\n",
       "<tr><td>65260534</td><td>20190415</td><td>--</td><td>6985-00341-1</td><td>322-223401</td><td>23573500-2544411</td><td>--</td><td>J235735.04-254440.9</td><td>2334944543676575872</td><td>12499244</td><td>--</td><td>STAR</td><td>tmgaia2</td><td>359.395830927734</td><td>-25.7447797431036</td><td>tmgaia2</td><td>65.0517</td><td>0.122727</td><td>-2.04003</td><td>0.0607266</td><td>gaia2</td><td>10.2686</td><td>0.0780152</td><td>gaia2</td><td>36.4399336961407</td><td>-77.8711422034414</td><td>348.607134779692</td><td>-23.2499169583754</td><td>11.115</td><td>0.086</td><td>10.439</td><td>0.006</td><td>nan</td><td>nan</td><td>nan</td><td>nan</td><td>nan</td><td>nan</td><td>nan</td><td>nan</td><td>nan</td><td>nan</td><td>9.025</td><td>0.024</td><td>8.597</td><td>0.027</td><td>8.609</td><td>0.026</td><td>AAA-112-111-000-0-0</td><td>nan</td><td>8.435</td><td>0.023</td><td>8.468</td><td>0.02</td><td>8.451</td><td>0.023</td><td>8.27</td><td>0.282</td><td>10.2498</td><td>0.000511</td><td>9.7516</td><td>0.006</td><td>gbprp</td><td>gaia2</td><td>5367.0</td><td>122.901</td><td>4.51748</td><td>0.0816318</td><td>nan</td><td>nan</td><td>0.880111</td><td>0.0484824</td><td>0.93</td><td>0.118477</td><td>1.36418</td><td>0.310611</td><td>DWARF</td><td>0.579022646</td><td>0.0159739</td><td>97.1198</td><td>0.74145</td><td>0.0</td><td>0.0</td><td>31</td><td>0.033568535</td><td>--</td><td>--</td><td>0.00287605692151631</td><td>0.0</td><td>0.0</td><td>--</td><td>0.0893763</td><td>0.147578</td><td>0.0448548</td><td>0.05211</td><td>0.300555</td><td>0.320666</td><td>0.0816448</td><td>0.0816188</td><td>0.015141</td><td>0.0168068</td><td>0.7359</td><td>0.747</td><td>bj2018</td><td>111.653</td><td>134.15</td><td>dered0</td><td>10.6461</td><td>0.002105</td><td>9.68699</td><td>0.002025</td><td>1</td><td>--</td><td>tycho2v3</td><td>tycho2b3</td><td>planetcandidate</td><td>1.95311258624848</td><td>0.941658396034902</td><td>359.396141876941</td><td>-25.7447885268963</td><td>0.0839509162848767</td><td>0.0273096580303372</td><td>1</td><td>0</td><td>1726126543</td></tr>\n",
       "<tr><td>160085513</td><td>20190415</td><td>--</td><td>8018-00297-1</td><td>246-190632</td><td>23575942-4056515</td><td>--</td><td>J235759.49-405651.9</td><td>2305937812027705344</td><td>22103321</td><td>--</td><td>STAR</td><td>tmgaia2</td><td>359.497584348602</td><td>-40.9476566101908</td><td>tmgaia2</td><td>75.3814</td><td>0.037312</td><td>-40.4962</td><td>0.0519162</td><td>gaia2</td><td>4.6176</td><td>0.0336241</td><td>gaia2</td><td>338.051199959853</td><td>-72.3367745942805</td><td>340.546602651743</td><td>-36.7736421885972</td><td>11.562</td><td>0.127</td><td>11.019</td><td>0.009</td><td>nan</td><td>nan</td><td>nan</td><td>nan</td><td>nan</td><td>nan</td><td>nan</td><td>nan</td><td>nan</td><td>nan</td><td>9.69</td><td>0.02</td><td>9.386</td><td>0.018</td><td>9.357</td><td>0.014</td><td>AAA-222-111-000-0-0</td><td>nan</td><td>9.272</td><td>0.022</td><td>9.334</td><td>0.02</td><td>9.22</td><td>0.031</td><td>8.73</td><td>0.301</td><td>10.7439</td><td>0.000383</td><td>10.2881</td><td>0.006</td><td>rered</td><td>gaia2</td><td>5654.0</td><td>132.912</td><td>4.14831</td><td>0.0803087</td><td>nan</td><td>nan</td><td>1.39598</td><td>0.0692764</td><td>1.0</td><td>0.128991</td><td>0.367586</td><td>0.0827097</td><td>DWARF</td><td>1.79423165</td><td>0.066472</td><td>215.229</td><td>1.569</td><td>0.00922512</td><td>0.01019048</td><td>32</td><td>0.00078893546</td><td>--</td><td>--</td><td>0.00115647859814252</td><td>0.00953826</td><td>0.0108427</td><td>schlegel</td><td>0.114656</td><td>0.143327</td><td>0.0613608</td><td>0.077192</td><td>0.0977357</td><td>0.0676837</td><td>0.098835</td><td>0.0617824</td><td>0.0746392</td><td>0.0583048</td><td>1.558</td><td>1.58</td><td>bj2018</td><td>166.831</td><td>98.9934</td><td>dered</td><td>11.1131</td><td>0.001009</td><td>10.2418</td><td>0.000903</td><td>1</td><td>--</td><td>tycho2v3</td><td>tycho2b3</td><td>planetcandidate</td><td>0.617772779412835</td><td>0.805066578159611</td><td>359.49801405217</td><td>-40.9478309696287</td><td>0.023334614960229</td><td>0.0242556164303137</td><td>1</td><td>0</td><td>1726148319</td></tr>\n",
       "<tr><td>280794991</td><td>20190415</td><td>--</td><td>9127-00555-1</td><td>150-225383</td><td>23574581-6003260</td><td>--</td><td>J235745.85-600326.6</td><td>6494211179728412160</td><td>31797372</td><td>--</td><td>STAR</td><td>tmgaia2</td><td>359.440947933775</td><td>-60.0572587250531</td><td>tmgaia2</td><td>23.8002</td><td>0.0480893</td><td>-49.0624</td><td>0.0344824</td><td>gaia2</td><td>6.28873</td><td>0.0233484</td><td>gaia2</td><td>314.828597681858</td><td>-55.8139965606753</td><td>325.025357606759</td><td>-52.474629778737</td><td>11.562</td><td>0.09</td><td>10.804</td><td>0.006</td><td>nan</td><td>nan</td><td>nan</td><td>nan</td><td>nan</td><td>nan</td><td>nan</td><td>nan</td><td>nan</td><td>nan</td><td>9.603</td><td>0.027</td><td>9.266</td><td>0.022</td><td>9.232</td><td>0.025</td><td>AAA-222-111-000-0-0</td><td>nan</td><td>9.163</td><td>0.024</td><td>9.2</td><td>0.021</td><td>9.144</td><td>0.029</td><td>8.953</td><td>nan</td><td>10.6745</td><td>0.000487</td><td>10.2134</td><td>0.006</td><td>rered</td><td>gaia2</td><td>5618.0</td><td>130.714</td><td>4.37199</td><td>0.081645</td><td>nan</td><td>nan</td><td>1.07364</td><td>0.0562487</td><td>0.99</td><td>0.12801</td><td>0.799947</td><td>0.178042</td><td>DWARF</td><td>1.03451693</td><td>0.03568875</td><td>158.288</td><td>0.5895</td><td>0.00812649</td><td>0.010308</td><td>62</td><td>0.0352091119</td><td>--</td><td>--</td><td>0.00218975123313122</td><td>0.0116993</td><td>0.0089167</td><td>schlegel</td><td>0.107564</td><td>0.148457</td><td>0.0552889</td><td>0.0572085</td><td>0.16083</td><td>0.195253</td><td>0.0765231</td><td>0.086767</td><td>0.0378003</td><td>0.0335772</td><td>0.587</td><td>0.592</td><td>bj2018</td><td>132.77</td><td>128.658</td><td>dered</td><td>11.0496</td><td>0.001178</td><td>10.1677</td><td>0.00111</td><td>1</td><td>--</td><td>tycho2v3</td><td>tycho2b3</td><td>planetcandidate</td><td>0.861227533353156</td><td>0.534760289307824</td><td>359.441153235407</td><td>-60.0574699661009</td><td>0.0220626692954629</td><td>0.0173979797892609</td><td>1</td><td>0</td><td>1726173884</td></tr>\n",
       "<tr><td>389628604</td><td>20190415</td><td>--</td><td>7522-00707-1</td><td>269-192344</td><td>23592598-3615421</td><td>--</td><td>J235926.04-361543.2</td><td>2308065195228798976</td><td>19671464</td><td>--</td><td>STAR</td><td>tmgaia2</td><td>359.858256676191</td><td>-36.2617072623089</td><td>tmgaia2</td><td>67.852</td><td>0.0591117</td><td>-111.934</td><td>0.0642991</td><td>gaia2</td><td>4.79713</td><td>0.0579449</td><td>gaia2</td><td>350.101100782707</td><td>-75.6790455356963</td><td>343.613616431561</td><td>-32.8112894667447</td><td>11.269</td><td>0.09</td><td>10.669</td><td>0.006</td><td>nan</td><td>nan</td><td>nan</td><td>nan</td><td>nan</td><td>nan</td><td>nan</td><td>nan</td><td>nan</td><td>nan</td><td>9.517</td><td>0.024</td><td>9.198</td><td>0.024</td><td>9.106</td><td>0.023</td><td>AAA-222-111-000-0-0</td><td>nan</td><td>9.042</td><td>0.023</td><td>9.071</td><td>0.02</td><td>9.037</td><td>0.027</td><td>8.901</td><td>0.359</td><td>10.5306</td><td>0.000426</td><td>10.0997</td><td>0.006</td><td>rered</td><td>gaia2</td><td>5811.0</td><td>131.539</td><td>4.16528</td><td>0.0792022</td><td>nan</td><td>nan</td><td>1.39608</td><td>0.0678417</td><td>1.04</td><td>0.135089</td><td>0.382212</td><td>0.082549</td><td>DWARF</td><td>2.00224614</td><td>0.08544395</td><td>207.252</td><td>2.508</td><td>0.00915442</td><td>0.009890585</td><td>24</td><td>0.001983415</td><td>--</td><td>--</td><td>0.0012585080585877</td><td>0.00967597</td><td>0.0101052</td><td>schlegel</td><td>0.104315</td><td>0.165863</td><td>0.0628176</td><td>0.0728658</td><td>0.0770786</td><td>0.0880194</td><td>0.0950365</td><td>0.063368</td><td>0.0782055</td><td>0.0926824</td><td>2.478</td><td>2.538</td><td>bj2018</td><td>133.932</td><td>129.146</td><td>dered</td><td>10.8717</td><td>0.000768</td><td>10.0505</td><td>0.000699</td><td>1</td><td>--</td><td>tycho2v3</td><td>tycho2b3</td><td>planetcandidate</td><td>0.965052253479666</td><td>0.997095546501008</td><td>359.858618987921</td><td>-36.2621892009147</td><td>0.0428172559194705</td><td>0.0302673535767587</td><td>1</td><td>0</td><td>1726193666</td></tr>\n",
       "<tr><td>398639485</td><td>20190415</td><td>--</td><td>5259-00634-1</td><td>423-142126</td><td>23572591-0531113</td><td>1237679077515067517</td><td>J235725.95-053111.7</td><td>2443056807616896768</td><td>5033308</td><td>--</td><td>STAR</td><td>tmgaia2</td><td>359.357980741865</td><td>-5.51978746368397</td><td>tmgaia2</td><td>54.6643</td><td>0.08664</td><td>-46.8311</td><td>0.0544932</td><td>gaia2</td><td>6.08784</td><td>0.0563848</td><td>gaia2</td><td>89.775661447445</td><td>-64.8556626200883</td><td>357.210541291264</td><td>-4.80793170872124</td><td>11.356</td><td>0.099</td><td>10.568</td><td>0.007</td><td>14.2673</td><td>0.00558549</td><td>11.0709</td><td>0.000942526</td><td>10.5314</td><td>0.000811951</td><td>10.4251</td><td>0.00120054</td><td>12.6771</td><td>0.0132095</td><td>9.531</td><td>0.023</td><td>9.226</td><td>0.022</td><td>9.178</td><td>0.023</td><td>AAA-222-111-000-0-0</td><td>nan</td><td>9.12</td><td>0.023</td><td>9.164</td><td>0.019</td><td>9.154</td><td>0.035</td><td>8.588</td><td>nan</td><td>10.5263</td><td>0.000243</td><td>10.101</td><td>0.006</td><td>rered</td><td>spect</td><td>5500.8</td><td>116.733</td><td>4.22295</td><td>0.0783684</td><td>-0.22</td><td>0.09</td><td>1.25841</td><td>0.0620125</td><td>0.965</td><td>0.12318</td><td>0.484241</td><td>0.104084</td><td>DWARF</td><td>1.30629647</td><td>0.0436265</td><td>163.505</td><td>1.519</td><td>0.0164519</td><td>0.006681145</td><td>37</td><td>0.000961960235</td><td>--</td><td>--</td><td>0.0</td><td>0.00753537</td><td>0.00582692</td><td>panstarrs</td><td>0.111941</td><td>0.134418</td><td>0.0674231</td><td>0.056602</td><td>0.0984523</td><td>0.109716</td><td>0.0870841</td><td>0.0696527</td><td>0.0532368</td><td>0.0340162</td><td>1.505</td><td>1.533</td><td>bj2018</td><td>114.918</td><td>118.548</td><td>spect</td><td>10.8613</td><td>0.000737</td><td>10.0515</td><td>0.000496</td><td>1</td><td>--</td><td>tycho2v3</td><td>tycho2b3</td><td>planetcandidate</td><td>1.34505689875329</td><td>0.845002996529355</td><td>359.358217198488</td><td>-5.51998909763511</td><td>0.0394040930035646</td><td>0.0246082066479598</td><td>1</td><td>0</td><td>1726195438</td></tr>\n",
       "<tr><td>407995566</td><td>20190415</td><td>--</td><td>5256-01065-1</td><td>430-122048</td><td>23582217-0404475</td><td>--</td><td>J235822.15-040447.8</td><td>2447804735047608704</td><td>1024535</td><td>--</td><td>STAR</td><td>tmgaia2</td><td>359.592409846582</td><td>-4.07986743055264</td><td>tmgaia2</td><td>-30.2174</td><td>0.222827</td><td>-28.7456</td><td>0.089593</td><td>gaia2</td><td>7.46226</td><td>0.132035</td><td>gaia2</td><td>91.8254444439658</td><td>-63.6994023377058</td><td>358.001183138071</td><td>-3.58066132332236</td><td>10.815</td><td>0.065</td><td>10.101</td><td>0.005</td><td>nan</td><td>nan</td><td>nan</td><td>nan</td><td>nan</td><td>nan</td><td>nan</td><td>nan</td><td>nan</td><td>nan</td><td>8.916</td><td>0.024</td><td>8.649</td><td>0.049</td><td>8.504</td><td>0.031</td><td>AAA-111-111-000-0-0</td><td>nan</td><td>8.484</td><td>0.024</td><td>8.538</td><td>0.019</td><td>8.522</td><td>0.025</td><td>8.202</td><td>0.25</td><td>9.97009</td><td>0.000308</td><td>9.52365</td><td>0.006</td><td>rered</td><td>gaia2</td><td>5769.0</td><td>137.081</td><td>4.29122</td><td>0.076517</td><td>nan</td><td>nan</td><td>1.20358</td><td>0.0637136</td><td>1.033</td><td>0.121828</td><td>0.592484</td><td>0.12866</td><td>DWARF</td><td>1.445593</td><td>0.067473</td><td>133.558</td><td>2.374</td><td>0.022741</td><td>0.00954469</td><td>35</td><td>0.00680221524</td><td>--</td><td>--</td><td>0.0</td><td>0.00767938</td><td>0.01141</td><td>panstarrs</td><td>0.105718</td><td>0.137939</td><td>0.0493754</td><td>0.0780518</td><td>0.15864</td><td>0.0986808</td><td>0.089874</td><td>0.06316</td><td>0.0853721</td><td>0.0495739</td><td>2.332</td><td>2.416</td><td>bj2018</td><td>155.417</td><td>118.744</td><td>dered</td><td>10.328</td><td>0.001011</td><td>9.47594</td><td>0.000878</td><td>1</td><td>--</td><td>tycho2v3</td><td>tycho2b3</td><td>planetcandidate</td><td>3.45713720662049</td><td>1.38951976499062</td><td>359.592279413348</td><td>-4.07999119634197</td><td>0.0883206203258427</td><td>0.0479697313660537</td><td>1</td><td>0</td><td>1726199783</td></tr>\n",
       "</table></div>"
      ],
      "text/plain": [
       "<Table length=53056>\n",
       "    ID    version   HIP       TYC      ... raddflag wdflag   objID   \n",
       "  str10     str8   int64     str12     ...  int64   int64    str10   \n",
       "--------- -------- ------ ------------ ... -------- ------ ----------\n",
       "257486953 20190415     -- 0004-01211-1 ...        1      0      95867\n",
       "388583226 20190415     -- 4500-00124-1 ...        1      0     275918\n",
       "432485132 20190415     -- 2781-00863-1 ...        1      0     378353\n",
       "238305136 20190415     -- 1729-00866-1 ...        1      0    1104482\n",
       "238390058 20190415     -- 1729-01226-1 ...        1      0    1104967\n",
       "238390147 20190415     -- 1729-01496-1 ...        1      0    1105056\n",
       "293221159 20190415     -- 0004-01109-1 ...        1      0    1139818\n",
       "293257379 20190415     -- 0007-01101-1 ...        1      0    1142861\n",
       "326675379 20190415     -- 3656-00114-1 ...        1      0    1161510\n",
       "      ...      ...    ...          ... ...      ...    ...        ...\n",
       "201226478 20190415     -- 8833-00130-1 ...        1      0 1725933930\n",
       "441052487 20190415     -- 6408-00020-1 ...        1      0 1725987206\n",
       "  9762200 20190415     -- 5259-00440-1 ...        1      0 1726114393\n",
       "  9787111 20190415 118115 5831-01020-1 ...        1      0 1726115771\n",
       " 65260534 20190415     -- 6985-00341-1 ...        1      0 1726126543\n",
       "160085513 20190415     -- 8018-00297-1 ...        1      0 1726148319\n",
       "280794991 20190415     -- 9127-00555-1 ...        1      0 1726173884\n",
       "389628604 20190415     -- 7522-00707-1 ...        1      0 1726193666\n",
       "398639485 20190415     -- 5259-00634-1 ...        1      0 1726195438\n",
       "407995566 20190415     -- 5256-01065-1 ...        1      0 1726199783"
      ]
     },
     "execution_count": 7,
     "metadata": {},
     "output_type": "execute_result"
    }
   ],
   "source": [
    "catalog_data"
   ]
  },
  {
   "cell_type": "markdown",
   "id": "6eea2f53-c663-4bdd-aeca-b4333b1f8b55",
   "metadata": {},
   "source": [
    "This is a pretty long table, totaling 53056 stars, with many columns of information about each star.\n",
    "\n",
    "To get a better sense of the data products we'll be working with, let's access a single lightcurve associated with one of these stars."
   ]
  },
  {
   "cell_type": "code",
   "execution_count": 8,
   "id": "b20ccd8a-f350-4f7d-ac7c-08ce1d4b4b69",
   "metadata": {},
   "outputs": [
    {
     "ename": "TypeError",
     "evalue": "ObservationsClass.get_cloud_uris() got an unexpected keyword argument 'target_name'",
     "output_type": "error",
     "traceback": [
      "\u001b[0;31m---------------------------------------------------------------------------\u001b[0m",
      "\u001b[0;31mTypeError\u001b[0m                                 Traceback (most recent call last)",
      "Cell \u001b[0;32mIn[8], line 2\u001b[0m\n\u001b[1;32m      1\u001b[0m \u001b[38;5;66;03m# download a single star from this catalog to inspect the data type we're working with.\u001b[39;00m\n\u001b[0;32m----> 2\u001b[0m TESS_table \u001b[38;5;241m=\u001b[39m \u001b[43mObservations\u001b[49m\u001b[38;5;241;43m.\u001b[39;49m\u001b[43mget_cloud_uris\u001b[49m\u001b[43m(\u001b[49m\u001b[43mtarget_name\u001b[49m\u001b[38;5;241;43m=\u001b[39;49m\u001b[43mcatalog_data\u001b[49m\u001b[43m[\u001b[49m\u001b[38;5;124;43m'\u001b[39;49m\u001b[38;5;124;43mID\u001b[39;49m\u001b[38;5;124;43m'\u001b[39;49m\u001b[43m]\u001b[49m\u001b[43m[\u001b[49m\u001b[38;5;241;43m2\u001b[39;49m\u001b[43m]\u001b[49m\n\u001b[1;32m      3\u001b[0m \u001b[43m                                         \u001b[49m\u001b[43m,\u001b[49m\u001b[43m \u001b[49m\u001b[43mobs_collection\u001b[49m\u001b[38;5;241;43m=\u001b[39;49m\u001b[38;5;124;43m\"\u001b[39;49m\u001b[38;5;124;43mTESS\u001b[39;49m\u001b[38;5;124;43m\"\u001b[39;49m\n\u001b[1;32m      4\u001b[0m \u001b[43m                                         \u001b[49m\u001b[43m,\u001b[49m\u001b[43m \u001b[49m\u001b[43mdataproduct_type\u001b[49m\u001b[38;5;241;43m=\u001b[39;49m\u001b[38;5;124;43m'\u001b[39;49m\u001b[38;5;124;43mtimeseries\u001b[39;49m\u001b[38;5;124;43m'\u001b[39;49m\n\u001b[1;32m      5\u001b[0m \u001b[43m                                         \u001b[49m\u001b[43m)\u001b[49m \n\u001b[1;32m      6\u001b[0m \u001b[38;5;66;03m# get data products\u001b[39;00m\n\u001b[1;32m      7\u001b[0m data_products \u001b[38;5;241m=\u001b[39m Observations\u001b[38;5;241m.\u001b[39mget_product_list(TESS_table) \n",
      "\u001b[0;31mTypeError\u001b[0m: ObservationsClass.get_cloud_uris() got an unexpected keyword argument 'target_name'"
     ]
    }
   ],
   "source": [
    "# download a single star from this catalog to inspect the data type we're working with.\n",
    "TESS_table = Observations.get_cloud_uris(target_name=catalog_data['ID'][2]\n",
    "                                         , obs_collection=\"TESS\"\n",
    "                                         , dataproduct_type='timeseries'\n",
    "                                         ) \n",
    "# get data products\n",
    "data_products = Observations.get_product_list(TESS_table) \n",
    "\n",
    "# filter for light curve data only\n",
    "filtered = Observations.filter_products(data_products, productType=\"SCIENCE\"\n",
    "                                        , productSubGroupDesciption = \"LC\")\n",
    "\n",
    "# Get the cloud uri for these files\n",
    "lc_uri = Observations.get_cloud_uris(lc_prod)[0]\n",
    "\n",
    "#open the lc file\n",
    "lc_fits = fits.open(lc_uri, use_fsspec=True, fsspec_kwargs={\"anon\": True})"
   ]
  },
  {
   "cell_type": "markdown",
   "id": "77ebe316-f4e2-4175-93b8-b3c93a03662d",
   "metadata": {},
   "source": [
    "Great! This file is now loaded as `lc_fits`. Now, let's examine the columns available to us in this lightcurve."
   ]
  },
  {
   "cell_type": "code",
   "execution_count": null,
   "id": "d3f54e36-1a4c-4e58-b0c5-fde79067c7f5",
   "metadata": {},
   "outputs": [],
   "source": [
    "lc = lc_fits[1].data\n",
    "lc.columns"
   ]
  },
  {
   "cell_type": "markdown",
   "id": "319a5962-974d-46e4-985d-1b7de3560539",
   "metadata": {},
   "source": [
    "There are two flux columns: SAP flux and PDCSAP flux. The SAP flux is closer to raw TESS data. The PDCSAP_FLUX is derived from SAP flux, but it's been cleaned of longer-term trends.\n",
    "\n",
    "Let's plot both types of flux to get a sense of their differences."
   ]
  },
  {
   "cell_type": "code",
   "execution_count": null,
   "id": "a82ac177-eabc-45fe-8aaa-86c7d5471d52",
   "metadata": {},
   "outputs": [],
   "source": [
    "sapflux = lc['SAP_FLUX']\n",
    "pdcflux = lc['PDCSAP_FLUX']\n",
    "time_lc = lc['TIME']\n",
    "\n",
    "fig = plt.figure(figsize = (11,4))\n",
    "\n",
    "fig.add_subplot(211)\n",
    "plt.plot(time_lc, sapflux,'.', label = 'SAP', color = \"gold\")\n",
    "plt.legend(loc = 'lower left')\n",
    "plt.ylabel(\"FLUX (e-/s)\")\n",
    "\n",
    "fig.add_subplot(212)\n",
    "plt.plot(time_lc, pdcflux,'.', label = 'PDC', color = \"red\")\n",
    "plt.legend(loc = 'lower left')\n",
    "plt.ylabel(\"FLUX (e-/s)\")\n",
    "plt.xlabel('TIME  (BJD-2457000)')"
   ]
  },
  {
   "cell_type": "markdown",
   "id": "da01b917-4878-4adf-84ed-0c518eac48dd",
   "metadata": {},
   "source": [
    "This definitely looks like a TESS lightcurve! The PDC data, as expected, are smoother and seem more evenly distributed about a median value."
   ]
  },
  {
   "cell_type": "markdown",
   "id": "746bd355-fba3-467f-baa8-1bfe846d9886",
   "metadata": {},
   "source": [
    "# Next: aggregate all the lightcurves!\n",
    "\n",
    "Now we know how to access a single lightcurve. To calculate our occurrence rates, we'll need to download lightcurves from many stars. \n",
    "\n",
    "The neatest way to do this is to write a function that accesses TESS lightcurves, then loop over that function for all the stars we want to query. Along the way, we'll incorporate a few tricks to speed things up.\n",
    "\n",
    "Instead of, e.g., saving the data as files, it's more efficient to keep all of this data in RAM as we go. A neat way to do this is to define a class for our data, fetch the data with a method of that class, then assign the data to an attribute of that class. This object-oriented approach avoids extra input/output (I/O) time and maintains clean code design."
   ]
  },
  {
   "cell_type": "code",
   "execution_count": null,
   "id": "f4c72a70-df4a-4da5-b2a8-6417b18fa7f3",
   "metadata": {},
   "outputs": [],
   "source": [
    "class LightcurveData:\n",
    "    def __init__(self, catalog_id):\n",
    "        \"\"\"\n",
    "        Initializes the instance.\n",
    "        \"\"\"\n",
    "        self.catalog_id = catalog_id # assign catalog ID to the object\n",
    "\n",
    "    def fetch_and_save_data(self):\n",
    "        \"\"\"\n",
    "        Accesses and saves data from a TESS target.\n",
    "    \n",
    "        Inputs\n",
    "        ------\n",
    "            :catalog_id: (int) TESS Input Catalog (TIC) ID.\n",
    "        \"\"\"\n",
    "        TESS_table = Observations.query_criteria(target_name=self.catalog_id\n",
    "                                                 , obs_collection=\"TESS\"\n",
    "                                                 , dataproduct_type='timeseries'\n",
    "                                                 ) \n",
    "        try:\n",
    "            data_products = Observations.get_product_list(TESS_table) \n",
    "        except InvalidQueryError:\n",
    "            self.pdcflux = np.nan\n",
    "            self.pdcflux_err = np.nan\n",
    "            self.time_lc = np.nan\n",
    "            return\n",
    "            \n",
    "            \n",
    "        # Keep only the science products\n",
    "        filtered = Observations.filter_products(data_products\n",
    "                                                , productType=\"SCIENCE\")\n",
    "        \n",
    "        # filter\n",
    "        lc_prod = Observations.filter_products(data_products  \n",
    "                                              , productSubGroupDescription = \"LC\")\n",
    "        \n",
    "        # Get the cloud uris for these files\n",
    "        lc_uri = Observations.get_cloud_uris(lc_prod[0])\n",
    "    \n",
    "        # open the lc file\n",
    "        lc_fits = fits.open(lc_uri, use_fsspec=True, fsspec_kwargs={\"anon\": True})\n",
    "        \n",
    "        # assign the data to this instance \n",
    "        lc = lc_fits[1].data\n",
    "        sapflux = lc['SAP_FLUX'] #SAP flux column\n",
    "        self.pdcflux = lc['PDCSAP_FLUX'] #PDCSAP flux column\n",
    "        self.pdcflux_err = lc['PDCSAP_FLUX_ERR'] # flux error column\n",
    "        self.time_lc = lc['TIME'] #time column"
   ]
  },
  {
   "cell_type": "markdown",
   "id": "2685e2ac-26e3-4a6d-bb02-f4d29782928b",
   "metadata": {},
   "source": [
    "Let's test this method out on a single star."
   ]
  },
  {
   "cell_type": "code",
   "execution_count": null,
   "id": "8a7a1990-0c6c-4a45-97ec-a3e2b8bc5e53",
   "metadata": {},
   "outputs": [],
   "source": [
    "lightcurvedata = LightcurveData(catalog_data['ID'][2])\n",
    "lightcurvedata.fetch_and_save_data()"
   ]
  },
  {
   "cell_type": "markdown",
   "id": "cf0a59e2-4cd7-437f-99e6-77fb265f5b02",
   "metadata": {},
   "source": [
    "Let's check that this function worked correctly by checking that the method performed as expected."
   ]
  },
  {
   "cell_type": "code",
   "execution_count": null,
   "id": "508b434d-c819-43d4-a50f-65083a60b85f",
   "metadata": {},
   "outputs": [],
   "source": [
    "lightcurvedata.time_lc, lightcurvedata.pdcflux_err"
   ]
  },
  {
   "cell_type": "markdown",
   "id": "43507ac4-1691-4aaa-8b1b-f16548cecfd0",
   "metadata": {},
   "source": [
    "Great! Our data has been downloaded and assigned as an attribute to an object.\n",
    "\n",
    "Now, we want to *parallelize* our computation. What this means is we want to access multiple lightcurve files simultaneously.\n",
    "\n",
    "We'll use this with the Python multithreading package. Multithreading is a very rich and complex subject (link something here), but for our purposes we can just think of it as splitting up our machine into different sections that each perform a separate task. Because our option is largely limited by \n",
    "\n",
    "[td: link something here, talk about the deets a little bit more. maybe mention that you typically get 4 cores in TIKE?]"
   ]
  },
  {
   "cell_type": "code",
   "execution_count": null,
   "id": "52739400-6d46-4628-8491-47b3a7854607",
   "metadata": {},
   "outputs": [],
   "source": [
    "# explain how to set the max number of workers\n",
    "os.cpu_count() "
   ]
  },
  {
   "cell_type": "markdown",
   "id": "6656d749-e517-4237-a686-ea8b330f389b",
   "metadata": {},
   "source": [
    "Now for a short function that will create an object for a catalog ID, download the data, and return the *object*.\n",
    "\n",
    "We'll have this function return both the TIC ID and the object itself so that it can be sorted even if we work through our catalog asynchronously."
   ]
  },
  {
   "cell_type": "code",
   "execution_count": null,
   "id": "7bc14977-07b6-4126-9e55-72c6da8064f2",
   "metadata": {},
   "outputs": [],
   "source": [
    "def return_object(catalog_id):\n",
    "    lightcurvedata = LightcurveData(catalog_id)\n",
    "    lightcurvedata.fetch_and_save_data()\n",
    "    return catalog_id, lightcurvedata"
   ]
  },
  {
   "cell_type": "code",
   "execution_count": null,
   "id": "93a89a37-1247-492b-b1ba-82533bb43954",
   "metadata": {},
   "outputs": [],
   "source": [
    "# Use ThreadPoolExecutor to download files in parallel\n",
    "total_tasks = len(catalog_data['ID'][::100])\n",
    "progress_bar = tqdm(total=total_tasks, position=0, leave=True)\n",
    "\n",
    "max_workers = 5  # Adjust this based on your system's capabilities\n",
    "\n",
    "with ThreadPoolExecutor(max_workers=max_workers) as executor:\n",
    "    futures = [executor.submit(return_object, catalog_id) for catalog_id in catalog_data['ID'][::100]]\n",
    "    for future in as_completed(futures):\n",
    "        progress_bar.update(1)\n",
    "    \n",
    "\n",
    "# now store all the data in a list\n",
    "lightcurve_objects = {}\n",
    "for future in futures:\n",
    "    catalog_id, lightcurvedata = future.result()\n",
    "    lightcurve_objects[catalog_id] = lightcurvedata"
   ]
  },
  {
   "cell_type": "markdown",
   "id": "a265f356-b738-4196-97f3-4730d38481c5",
   "metadata": {},
   "source": [
    "We can access each object now from the `lightcurve_objects` dictionary. Let's check!"
   ]
  },
  {
   "cell_type": "code",
   "execution_count": null,
   "id": "50844d56-75e4-447f-920e-29336d27324d",
   "metadata": {},
   "outputs": [],
   "source": [
    "lightcurve_objects[catalog_data['ID'][0]].time_lc"
   ]
  },
  {
   "cell_type": "markdown",
   "id": "b7ee9b5b-ac18-4f2c-862a-c0a2562eeec5",
   "metadata": {},
   "source": [
    "Nice! This our list of of observation times for this target star."
   ]
  },
  {
   "cell_type": "markdown",
   "id": "c10f0eb0-3950-4b45-9d05-93d3ea2bc838",
   "metadata": {},
   "source": [
    "# Next: search the lightcurves for planets.\n",
    "We now have our processed data products. The next step is to search them for planets!\n",
    "\n",
    "One of the standard ways to do this is with the [Box-Least Squares algorithm](https://arxiv.org/abs/astro-ph/0206099). This approach takes advantage of the facts that 1) planetary transits are expected to be periodic, and 2) transits are more or less shaped like boxes (excluding effects like limb-darkening). Loosely, the algorithm works similarly to the Lomb-Scargle periodogram, with the key difference that the signal being tested is a box car, instead of a sine wave.\n",
    "\n",
    "Let's load in a light curve and test out the algorithm."
   ]
  },
  {
   "cell_type": "code",
   "execution_count": null,
   "id": "0c560eb9-6d7d-45fc-8ea7-1dc84de1b9ee",
   "metadata": {},
   "outputs": [],
   "source": [
    "time, flux, flux_err  = lightcurve_objects[catalog_data['ID'][0]].time_lc,  \\\n",
    "                        lightcurve_objects[catalog_data['ID'][0]].pdcflux,  \\\n",
    "                        lightcurve_objects[catalog_data['ID'][0]].pdcflux_err\n",
    "\n",
    "time = time[~np.isnan(flux)]\n",
    "flux_err = flux_err[~np.isnan(flux)]\n",
    "flux = flux[~np.isnan(flux)]\n",
    "model = BoxLeastSquares(time, flux, flux_err)"
   ]
  },
  {
   "cell_type": "markdown",
   "id": "4a210243-c1d6-4f8a-be23-2b16bbb866f9",
   "metadata": {},
   "source": [
    "For this example, we'll search for planets with periods between 0.5 and 10 days. The lower limit is physical: planets can only have periods that are so short before their orbits are unstable. The upper limit is statistical: [Nyquist sampling](https://en.wikipedia.org/wiki/Nyquist%E2%80%93Shannon_sampling_theorem) dictates that you can only detect periodic signals with frequencies at most *half* your observational baseline. That is, you need to be able to detect your signal twice in a dataset in order to measure its period. Because TESS sectors are generally 27 days long, we'll set our upper limit to 13 days. We'll test 1000 trial periods for the purposes of this exploratory notebook."
   ]
  },
  {
   "cell_type": "code",
   "execution_count": null,
   "id": "17738aee-7906-425a-aa8d-35690caf62e6",
   "metadata": {},
   "outputs": [],
   "source": [
    "lower_limit = 0.5 #days\n",
    "upper_limit = 13 # days\n",
    "n_periods_tested = 1000\n",
    "periods = np.linspace(lower_limit, upper_limit, n_periods_tested)  # in units of days."
   ]
  },
  {
   "cell_type": "markdown",
   "id": "ff6e6c8c-b364-4b19-a8b0-c3e2dae74135",
   "metadata": {},
   "source": [
    "To search for the planets, we will need to specify a transit duration. At first, this may seem like a daunting task — will we have to provide another axis to our search?\n",
    "\n",
    "To keep things computationally feasible for this notebook, let's appeal to the original goal: finding hot Jupiters orbiting Sun-like stars. Because we're searching for a specific planet type (with a certain orbital period range) orbiting a certain type of star, there should be an expected transit duration for our search. Let's calculate what that duration is.\n",
    "\n",
    "First, we'lll need to calculate the semimajor axis of the planet from its period and the masses in the system. Luckily, we can do this using Kepler's Third Law."
   ]
  },
  {
   "cell_type": "code",
   "execution_count": null,
   "id": "9aa883a5-b0ef-468b-9b59-abaf292622cd",
   "metadata": {},
   "outputs": [],
   "source": [
    "def calc_a_from_period(period, planet_mass, stellar_mass):\n",
    "    \"\"\"\n",
    "\n",
    "    Given the period, uses Kepler's Third Law to calculate the semimajor axis in meters.\n",
    "\n",
    "    Inputs\n",
    "    -----\n",
    "        :period: orbital period of planet (s)\n",
    "        :planet_mass: mass of planet (kg)\n",
    "        :stellar_mass: mass of star (kg)\n",
    "\n",
    "    Outputs\n",
    "    ------\n",
    "        :a: semimajor axis(meters)\n",
    "    \"\"\"\n",
    "    total_mass = planet_mass + stellar_mass\n",
    "    a_cubed = (const.G.si.value * total_mass * period**2) / (4 * np.pi**2)\n",
    "    a = a_cubed**(1/3)\n",
    "    return a"
   ]
  },
  {
   "cell_type": "markdown",
   "id": "8bba23e9-6139-4fa4-90bd-9ef147f832be",
   "metadata": {},
   "source": [
    "Now that we have the semimajor axis, we can move on to the transit duration. Assuming a circular orbit, the transit duration is (Seager & Mallén-Ornelas 2003):\n",
    "\n",
    "$$T_{\\rm dur} =\\frac{P}{\\pi} \\arcsin\\bigg{(}\\frac{\\sqrt{1 - a^2/R_{\\star}^2 \\cos^2(i)}}{a^2/R_{\\star}^2\\sin(i)}\\bigg{)},$$\n",
    "\n",
    "where $P$ is the orbital period, $a$ is the semimajor axis, $R_{\\star}$ is the orbital inclination, and $i$ is the orbital inclination.\n",
    "\n",
    "What do we know? We have the mass of the planet and the star, and the orbital period is about a day. From Kepler's third law we can then calculate the semimajor axis. \n",
    "\n",
    "Let's code this up!"
   ]
  },
  {
   "cell_type": "code",
   "execution_count": null,
   "id": "ba73bd12-d9db-40c9-9921-f75a2209578a",
   "metadata": {},
   "outputs": [],
   "source": [
    "def calc_t_dur(P, a, rstar, i):\n",
    "    \"\"\"\n",
    "    Calculates the transit duration, in seconds, of a planet.\n",
    "\n",
    "    Inputs\n",
    "    ------\n",
    "        :P: the orbital period of the planet, in seconds.\n",
    "        :a: the semimajor axis of the planet, in meters.\n",
    "        :rstar: the radius of the star, in meters.\n",
    "        :i: the inclincation of the planet, in radians. an inclination of 0 is face-on (non-transiting); an inclination of pi/2 is perfectly transiting.\n",
    "    \"\"\"\n",
    "    a_r_2 = (a/rstar)**2\n",
    "    return (P / np.pi) * np.arcsin(np.sqrt(1 - a_r_2 * np.square(np.cos(i))) / (a_r_2 * np.sin(i)))\n",
    "    "
   ]
  },
  {
   "cell_type": "markdown",
   "id": "af9a8aee-73fa-4a81-aef0-7241c2fd3200",
   "metadata": {},
   "source": [
    "Great. Now, let's establish some representative values for a Hot Jupiter orbiting a Sun-like star and calculate its transit duration."
   ]
  },
  {
   "cell_type": "code",
   "execution_count": null,
   "id": "8d35a693-5711-4c12-99c1-47bcd298ea86",
   "metadata": {},
   "outputs": [],
   "source": [
    "period = (3 * u.day).si.value # 1 day orbital period, expressed in seconds\n",
    "planet_mass = (1 * u.M_jup).si.value # jupiter mass\n",
    "stellar_mass = (1 * u.M_sun).si.value # solar mass\n",
    "stellar_radius = (1 * u.R_sun).si.value # solar radius\n",
    "inclination  = np.pi/2 # transiting across the stellar equator\n",
    "\n",
    "a = calc_a_from_period(period, planet_mass, stellar_mass)\n",
    "t_dur = calc_t_dur(period, a, stellar_radius, inclination)\n",
    "\n",
    "(t_dur * u.s).to(u.hour), (t_dur * u.s).to(u.day)"
   ]
  },
  {
   "cell_type": "code",
   "execution_count": null,
   "id": "c03e96bd-6c5b-4423-a99b-c954dc87f5d2",
   "metadata": {},
   "outputs": [],
   "source": [
    "(t_dur * u.s).to(u.day).value"
   ]
  },
  {
   "cell_type": "markdown",
   "id": "6b6ebe46-74f0-414f-91eb-a96858ffb78f",
   "metadata": {},
   "source": [
    "Now, let's express this transit duration in days and find our planets."
   ]
  },
  {
   "cell_type": "code",
   "execution_count": null,
   "id": "dd8d59e3-c733-468f-80f7-e32fcad7778c",
   "metadata": {},
   "outputs": [],
   "source": [
    "t_dur = (t_dur * u.s).to(u.day).value\n",
    "t_dur"
   ]
  },
  {
   "cell_type": "code",
   "execution_count": null,
   "id": "204268fb-d0ef-4699-8d88-50333ea97cce",
   "metadata": {},
   "outputs": [],
   "source": [
    "results = model.power(periods, t_dur)  # The second argument is the duration of the transit (in days)"
   ]
  },
  {
   "cell_type": "markdown",
   "id": "8a60dd08-3ece-445d-b1b4-88aadf4a2ec3",
   "metadata": {},
   "source": [
    "We can access the best-fitting period from our planet search with the below cell."
   ]
  },
  {
   "cell_type": "code",
   "execution_count": null,
   "id": "5fd55be3-e9ec-49ad-9b67-630f5486360b",
   "metadata": {},
   "outputs": [],
   "source": [
    "best_period = results.period[np.argmax(results.power)]\n",
    "print(\"Best-fit period:\", best_period)"
   ]
  },
  {
   "cell_type": "markdown",
   "id": "3d87477f-b5d4-469c-8d10-d9c28e670fd3",
   "metadata": {},
   "source": [
    "Now let's plot up the signal-to-noise of the tested planetary signals at all tested periods, paying special attention to the best-fitting period."
   ]
  },
  {
   "cell_type": "code",
   "execution_count": null,
   "id": "34a8ffd1-56f2-4920-b378-7f9a15b907eb",
   "metadata": {},
   "outputs": [],
   "source": [
    "plt.plot(results.period, results.depth_snr)\n",
    "plt.axvline(best_period, color='black', linestyle='--', label='Best-fitting period')\n",
    "plt.xlabel('Period (days)')\n",
    "plt.ylabel('Signal S/N')\n",
    "plt.legend(frameon=False)"
   ]
  },
  {
   "cell_type": "markdown",
   "id": "41038e50-41e0-4c82-8982-c37ce23300f5",
   "metadata": {},
   "source": [
    "Awesome! We see that there is a clear peak in the signal-to-noise function. That is, we found a potential planetary signal in our data.\n",
    "\n",
    "Next, let's wrap this code in a function and apply it to all the selected planets. First, let's write a function that just runs the BLS algorithm and returns its outputs for a given time, flux, and flux error."
   ]
  },
  {
   "cell_type": "code",
   "execution_count": null,
   "id": "dc64f4be-baa6-439d-ad60-7ec442bdfe46",
   "metadata": {},
   "outputs": [],
   "source": [
    "def do_bls(time, flux, flux_err):\n",
    "    model = BoxLeastSquares(time, flux, flux_err)\n",
    "    results = model.power(periods, 0.1)  # The second argument is the duration of the transit (in days)\n",
    "    max_power = np.argmax(results.power)\n",
    "    stats = model.compute_stats(results.period[max_power],\n",
    "                                results.duration[max_power],\n",
    "                                results.transit_time[max_power])\n",
    "\n",
    "    return results, stats"
   ]
  },
  {
   "cell_type": "markdown",
   "id": "790db896-1102-40dc-a92f-104060118f41",
   "metadata": {},
   "source": [
    "Next, we'll add a simple *inversion test*. This step flips the lightcurve and performs the same BLS search. The idea is that a true planetary signal will not return significant BLS results after being inverted, whereas a false positive (like a variable star producing a sinusoidal lightcurve) *will* produce a signal after being inverted."
   ]
  },
  {
   "cell_type": "code",
   "execution_count": null,
   "id": "a3f9ae42-1ac7-4241-a0f5-0bd5e595670f",
   "metadata": {},
   "outputs": [],
   "source": [
    "def do_inversion_test(time, flux, flux_err):\n",
    "    inverted_flux = -1 * flux + 2* np.mean(flux)\n",
    "    results, stats = do_bls(time, inverted_flux, flux_err)\n",
    "    return results, stats"
   ]
  },
  {
   "cell_type": "markdown",
   "id": "895b497c-9707-475a-97e0-992672764173",
   "metadata": {},
   "source": [
    "Now we can wrap this all up in a function to find planets based on their TICIDs."
   ]
  },
  {
   "cell_type": "code",
   "execution_count": null,
   "id": "e849acbf-82a5-4a8f-9356-3b43e7e3e4a1",
   "metadata": {},
   "outputs": [],
   "source": [
    "def find_planet(ticid):\n",
    "    \"\"\"\n",
    "    This is our main function to find a planet. We basically perform the box-least squares algorithm, \n",
    "    then do a simple inversion test.\n",
    "\n",
    "    todo: make this searchable by ticid.\n",
    "    \"\"\"\n",
    "    lightcurve_object = lightcurve_objects[ticid]\n",
    "    time, flux, flux_err  = lightcurve_object.time_lc, lightcurve_object.pdcflux, lightcurve_object.pdcflux_err\n",
    "\n",
    "    # time is just a nan if the download did not proceed correctly.\n",
    "    if isinstance(time, float):\n",
    "        return False\n",
    "\n",
    "\n",
    "    time = time[~np.isnan(flux)]\n",
    "    flux_err = flux_err[~np.isnan(flux)]\n",
    "    flux = flux[~np.isnan(flux)]\n",
    "    model = BoxLeastSquares(time, flux, flux_err)\n",
    "    results = model.power(periods, t_dur)  # The second argument is the duration of the transit (in days)\n",
    "    max_power = np.argmax(results.power)\n",
    "    stats = model.compute_stats(results.period[max_power],\n",
    "                                results.duration[max_power],\n",
    "                                results.transit_time[max_power])\n",
    "\n",
    "    \n",
    "    # do the inversion test here. if we invert it and find a \"transit,\" that is not good.\n",
    "    if len(stats['transit_times']) >= 2 and results.depth_snr[max_power] >= 10:\n",
    "\n",
    "        # test for variability\n",
    "        inverted_results, inverted_stats = do_inversion_test(time, flux, flux_err)\n",
    "        if len(inverted_stats['transit_times']) < 2 or inverted_results.depth_snr[max_power] < 10:\n",
    "            return True\n",
    "\n",
    "    # todo: The harmonic_delta_log_likelihood is the difference in log likelihood between a sinusoidal model and the transit model. If harmonic_delta_log_likelihood is greater than zero, the sinusoidal model is preferred.\n",
    "\n",
    "            \n",
    "    return False\n",
    "\n",
    "        "
   ]
  },
  {
   "cell_type": "markdown",
   "id": "92e3cddd-4f5b-4f1c-aa15-f3f1b4fa8365",
   "metadata": {},
   "source": [
    "With our function ready to go, we can apply it to all the planet's we'd like now."
   ]
  },
  {
   "cell_type": "code",
   "execution_count": null,
   "id": "ba2483f1-4d7f-46d3-b8e9-4fec69312f72",
   "metadata": {},
   "outputs": [],
   "source": [
    "found_planets = {}\n",
    "for catalog_id in tqdm(catalog_data['ID'][::100], position=0):\n",
    "    found_planets[catalog_id] = find_planet(catalog_id)"
   ]
  },
  {
   "cell_type": "markdown",
   "id": "516e7527-0885-423e-947b-9fb5f11546c0",
   "metadata": {},
   "source": [
    "Great! Let's quickly see how many planets our simple pipeline found."
   ]
  },
  {
   "cell_type": "code",
   "execution_count": null,
   "id": "f913025c-a7b7-445e-8828-dde4b0852049",
   "metadata": {},
   "outputs": [],
   "source": [
    "n_found_planets = np.sum(list(found_planets.values()))\n",
    "n_found_planets"
   ]
  },
  {
   "cell_type": "markdown",
   "id": "1ce93168-62db-417a-9f7b-558d1ffdd1b6",
   "metadata": {},
   "source": [
    "The simplest way to calculate occurrence rates is to divide the number of planets found by the number of stars searched. Let's go ahead and try that out."
   ]
  },
  {
   "cell_type": "code",
   "execution_count": null,
   "id": "f80cb549-1d8c-4a32-baff-ac3266aee499",
   "metadata": {},
   "outputs": [],
   "source": [
    "n_found_planets/len(found_planets)"
   ]
  },
  {
   "cell_type": "markdown",
   "id": "d0e206ac-a193-42ae-88fc-c90622aaaf54",
   "metadata": {},
   "source": [
    "This number the same order of magnitude as the expected hot Jupiter occurrence rate (about 0.6% around G stars; [Beleznay & Kunimoto 2022](https://academic.oup.com/mnras/article/516/1/75/6654884)). Nice!\n",
    "\n",
    "But this nearly correct answer is a lucky coincidence: we must have a lot of false positives! More advanced planet-finding and occurrence rate pipelines take multiple additional factors into consideration:\n",
    "\n",
    "- some of the planet signals are astrophysical (e.g., eclipsing binary) or instrumental (e.g., the Kepler \"rolling bands\") false positives.\n",
    "- we are not sensitive to planets orbiting in all configurations via the transit method (i.e., most planets do not transit).\n",
    "- our pipeline is equally sensitive to all signal sizes, e.g. smaller planets around bigger stars.\n",
    "\n",
    "[td: let's plot some of the light curves and discuss what we see. that will help ground the statement \"we must have a lot of false positives]"
   ]
  },
  {
   "cell_type": "markdown",
   "id": "5a3e20ee-d72f-46b0-9579-0b7c348699de",
   "metadata": {},
   "source": [
    "## About this notebook\n",
    "\n",
    "\n",
    "**Last updated:** Oct 2024"
   ]
  },
  {
   "cell_type": "markdown",
   "id": "f3867cda-45e4-4191-a101-ecca64bc5da8",
   "metadata": {},
   "source": [
    "***\n",
    "[Top of Page](#top)\n",
    "<img style=\"float: right;\" src=\"https://raw.githubusercontent.com/spacetelescope/notebooks/master/assets/stsci_pri_combo_mark_horizonal_white_bkgd.png\" alt=\"Space Telescope Logo\" width=\"200px\"/> "
   ]
  }
 ],
 "metadata": {
  "kernelspec": {
   "display_name": "TESS Environment",
   "language": "python",
   "name": "tess"
  },
  "language_info": {
   "codemirror_mode": {
    "name": "ipython",
    "version": 3
   },
   "file_extension": ".py",
   "mimetype": "text/x-python",
   "name": "python",
   "nbconvert_exporter": "python",
   "pygments_lexer": "ipython3",
   "version": "3.11.9"
  }
 },
 "nbformat": 4,
 "nbformat_minor": 5
}
