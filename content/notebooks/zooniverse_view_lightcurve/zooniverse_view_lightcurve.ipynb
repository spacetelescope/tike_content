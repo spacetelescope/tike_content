{
 "cells": [
  {
   "cell_type": "markdown",
   "id": "6a9df570-3fa1-40aa-903a-ce5a630c9903",
   "metadata": {},
   "source": [
    "# Zooniverse: View a TESS Light Curve Using a TIC ID"
   ]
  },
  {
   "cell_type": "markdown",
   "id": "17204208-9fdc-4501-a3e1-f1b8197b7558",
   "metadata": {},
   "source": [
    "This Notebook is primarily aimed at citizen scientists examining TESS light curves for evidence of transiting exoplanets. To that end, this is a \"single cell\" Notebook; you can modify the target and run the cell to produce a graph. This is done for convenience, but we also include a step-by-step walkthrough for those curious about what is \"happening behind the scenes\".\n",
    "\n",
    "## Table of Contents\n",
    "\n",
    "* [One-step TESS Light Curve](#One-step-TESS-Light-Curve)\n",
    "* [Detailed Light Curve Walkthrough](#Detailed-Light-Curve-Walkthrough)\n",
    "* [Further Reading](#Further-Reading)\n",
    "\n",
    "\n",
    "## One-step TESS Light Curve\n",
    "To create a light curve for your target, edit the fields below. Replace the number in quotes after `tic_id =` with your desired target. Also make sure to update the `sector =` to an appropriate value.\n",
    "\n",
    "Do NOT edit any of the other lines. Again, if you're interested in learning about how this code works, see the rest of the Notebook below.\n",
    "\n",
    "Select the cell to edit, then press `shift + enter` to run it."
   ]
  },
  {
   "cell_type": "code",
   "execution_count": null,
   "id": "c434d4fe-202c-4097-b19a-4859c7fbcf73",
   "metadata": {
    "tags": []
   },
   "outputs": [],
   "source": [
    "# EDIT THESE FIRST TWO LINES\n",
    "tic_id = \"81609273\"\n",
    "sector = 62\n",
    "\n",
    "########################################\n",
    "# Do NOT edit any of the following lines\n",
    "########################################\n",
    "from astropy.io import fits\n",
    "from astroquery.mast import Observations\n",
    "\n",
    "import matplotlib.pyplot as plt\n",
    "import matplotlib as mpl\n",
    "\n",
    "mpl.rcParams['figure.dpi'] = 600\n",
    "Observations.enable_cloud_dataset()\n",
    "\n",
    "obs = Observations.query_criteria(target_name=tic_id, obs_collection=\"TESS\", sequence_number=sector)\n",
    "\n",
    "if len(obs)==0:\n",
    "    raise UserWarning(\"No matching observations. Are you certain the target was observed in this sector?\")\n",
    "\n",
    "files = Observations.get_product_list(obs)\n",
    "fits_file = Observations.download_products(files, description=\"Light curves\")\n",
    "\n",
    "with fits.open(fits_file['Local Path'][0], mode=\"readonly\") as hdulist:\n",
    "    tess_bjds = hdulist[1].data['TIME']\n",
    "    sap_fluxes = hdulist[1].data['SAP_FLUX']\n",
    "    pdcsap_fluxes = hdulist[1].data['PDCSAP_FLUX']\n",
    "    \n",
    "fig, ax = plt.subplots(figsize=(10, 4))\n",
    "ax.scatter(tess_bjds, pdcsap_fluxes, s=1, color='r')\n",
    "fig.suptitle(f\"TIC {tic_id}, Sector {sector}, PDCSAP Flux\")\n",
    "ax.set_ylabel(\"PDCSAP Flux (e-/s)\")\n",
    "ax.set_xlabel(\"Time (TBJD)\")\n",
    "plt.show()\n",
    "\n",
    "fig, ax = plt.subplots(figsize=(10,4))\n",
    "ax.scatter(tess_bjds, sap_fluxes, s=1, color='k')\n",
    "fig.suptitle(f\"TIC {tic_id}, Sector {sector}, SAP Flux\")\n",
    "ax.set_ylabel(\"SAP Flux (e-/s)\")\n",
    "ax.set_xlabel(\"Time (TBJD)\")\n",
    "plt.show()"
   ]
  },
  {
   "cell_type": "markdown",
   "id": "c78a2d6b-1916-42f9-9542-fd471f1e26eb",
   "metadata": {
    "tags": []
   },
   "source": [
    "Potential issues and how to solve them:\n",
    "* Did you get a 'No matching observations' error in the above cell? Make sure that your target was observed in the sector you specified.\n",
    "* Cell is running, but seems \"stuck\"? Press the square in the menu bar, to the right of the triangle \"play\" icon. This will interrupt the cell you can try to run it again.\n"
   ]
  },
  {
   "cell_type": "markdown",
   "id": "be32a443-7696-4a9c-a394-10469c7a9eca",
   "metadata": {
    "tags": []
   },
   "source": [
    "## Detailed Light Curve Walkthrough\n",
    "\n",
    "Thanks for being curious! Let's take a look at what exactly is happening in that tangle of code above, step-by-step. For the uninitiated, we're using the [Python programming lanuage](https://www.python.org/about/gettingstarted/).\n",
    "\n",
    "### Target Information\n",
    "\n",
    "To start, we save the target TIC ID and sector. We'll use this information later to perform a search, but it's nice to have it at the top for easy editing. Notice that we save `tic_id` as a string (text value, indicated by quotes) whereas sector is an integer. The way the rest of the code is written, the type (string or integer) actually makes no difference to the output."
   ]
  },
  {
   "cell_type": "code",
   "execution_count": null,
   "id": "30b340ad-c709-405c-ab8a-e7b032e1f6df",
   "metadata": {
    "tags": []
   },
   "outputs": [],
   "source": [
    "tic_id = \"81609273\"\n",
    "sector = 62"
   ]
  },
  {
   "cell_type": "markdown",
   "id": "355bae1f-0341-4790-a38b-29e64d523647",
   "metadata": {},
   "source": [
    "### Imports and Adjustments\n",
    "\n",
    "Generally, when writing code the import statements are the very first things written. An \"import\" adds code not included in default (or \"base\") Python. For example, [astroquery.mast](https://astroquery.readthedocs.io/en/latest/mast/mast.html) is a package that makes it easy to search for astronomy data in the [MAST Archive](https://archive.stsci.edu). Since most people are not astronomers, this is not a part of base Python. Let's be explicit about why we need these imports:\n",
    "* `astropy.io` : we need this to open the FITS files containing our TESS data\n",
    "* `astroquery.mast` : this makes it easy to query MAST for TESS data\n",
    "* `matplotlib` : we only do this import so that we can change the DPI below\n",
    "* `matplotlib.pyplot` : this gives us the tools for making pleasant-looking plots\n",
    "\n",
    "Below the imports, we make some minor adjustments to the DPI, to increase the resolution of our graphs, and \"enable cloud datasets\". This second piece is important: TIKE (the platform you're currently on) is hosted in the cloud. Reading data from our cloud archive is therefore much faster than trying to read from our servers in Baltimore."
   ]
  },
  {
   "cell_type": "code",
   "execution_count": null,
   "id": "b528dd34-eb89-4082-82a2-243c39e0cf98",
   "metadata": {
    "tags": []
   },
   "outputs": [],
   "source": [
    "from astropy.io import fits\n",
    "from astroquery.mast import Observations\n",
    "\n",
    "import matplotlib as mpl\n",
    "import matplotlib.pyplot as plt\n",
    "\n",
    "mpl.rcParams['figure.dpi'] = 600\n",
    "Observations.enable_cloud_dataset()"
   ]
  },
  {
   "cell_type": "markdown",
   "id": "7ac217aa-0993-42ee-9970-2a7a793f9919",
   "metadata": {},
   "source": [
    "### Searching for Observations\n",
    "This next line is the most important in the entire Notebook. `Observations.query_criteria` is a powerful way to search MAST, using [Observation metadata](https://mast.stsci.edu/api/v0/_c_a_o_mfields.html). There are many criteria you can search on, so let's focus on the three we use here.\n",
    "\n",
    "1. `target_name` is not often used, as you would need to know in advance _exactly_ how the observer or mission labeled it. Fortunately in this case, the TESS mission uses a standard set of names from the [TESS Input Catalog](https://tess.mit.edu/science/tess-input-catalogue/). Be careful using this field for other searches!\n",
    "2. `obs_collection` translates to \"mission\". Specifying TESS greatly reduces the number of Observations to search through which in turns makes our search faster.\n",
    "3. `sequence_number` is used for Kepler/K2/TESS quarters and sectors.\n",
    "\n",
    "Note that we are using the variables from above here, but you could use the actual values. For example, you could specify `sequence_number=61`."
   ]
  },
  {
   "cell_type": "code",
   "execution_count": null,
   "id": "545062c8-4f8e-4333-a871-fe8a40d5238c",
   "metadata": {
    "tags": []
   },
   "outputs": [],
   "source": [
    "obs = Observations.query_criteria(target_name=tic_id, obs_collection=\"TESS\", sequence_number=sector)\n",
    "obs"
   ]
  },
  {
   "cell_type": "markdown",
   "id": "039625d5-83f3-40cd-9e40-6839663d8780",
   "metadata": {},
   "source": [
    "You should see a list of all matching Observations in a table above."
   ]
  },
  {
   "cell_type": "markdown",
   "id": "004ae682-cab8-44e7-8442-a8a6ef86cc2d",
   "metadata": {},
   "source": [
    "### Getting Products\n",
    "\n",
    "Once we have an Observation, we need to get the associated products: the actual files containing our data. Let's request all of the files and see what is returned."
   ]
  },
  {
   "cell_type": "code",
   "execution_count": null,
   "id": "9333ea6b-db37-4e82-8e03-04957631f706",
   "metadata": {
    "tags": []
   },
   "outputs": [],
   "source": [
    "files = Observations.get_product_list(obs)\n",
    "files"
   ]
  },
  {
   "cell_type": "markdown",
   "id": "1924998a-73b1-4bf3-835f-9c9d017b46b8",
   "metadata": {},
   "source": [
    "Woah! We had one Observations, but that's turned into 8 files. We really just want the light curves, but it's important to know that you can access the raw images (target pixel files) and data summaries. In fact, TESS [produces a wide variety of data products](https://outerspace.stsci.edu/display/TESS/2.0+-+Data+Product+Overview).\n",
    "\n",
    "For now, let's just load the light curves."
   ]
  },
  {
   "cell_type": "code",
   "execution_count": null,
   "id": "3c76ecc1-3360-483a-b939-c62ba9b35ab8",
   "metadata": {
    "tags": []
   },
   "outputs": [],
   "source": [
    "fits_file = Observations.download_products(files, description=\"Light curves\")"
   ]
  },
  {
   "cell_type": "markdown",
   "id": "30bcb805-8120-4720-b3e2-1591f80c960a",
   "metadata": {},
   "source": [
    "### Reading a FITS File\n",
    "The structure of FITS files can be unintuitive at first; but that's to be expected from a 40 year old file format! Let's take a look at a little bit of that now."
   ]
  },
  {
   "cell_type": "code",
   "execution_count": null,
   "id": "aa244de7-38f1-45ec-9668-8b67261a61d3",
   "metadata": {
    "tags": []
   },
   "outputs": [],
   "source": [
    "file_path = fits_file['Local Path'][0]\n",
    "fits.info(file_path)"
   ]
  },
  {
   "cell_type": "markdown",
   "id": "cfbaa65f-a65d-4ccd-874b-4523e2187ac6",
   "metadata": {
    "tags": []
   },
   "source": [
    "We're interested in the `LIGHTCURVE` data, which is on HDU (Header Data Unit) 1. HDU1 is broken up further, but it can be a bit confusing to look at. If you want, you can read all of the available columns in No. 1 by running the cell below; be forewarned that it's a lot of text!"
   ]
  },
  {
   "cell_type": "code",
   "execution_count": null,
   "id": "e50d9a9d-77b8-4634-8189-4896d8fc4564",
   "metadata": {
    "tags": []
   },
   "outputs": [],
   "source": [
    "# Warning! This prints out a lot of text\n",
    "with fits.open(file_path, mode=\"readonly\") as hdulist:\n",
    "    header1 = hdulist[1].header\n",
    "    print(repr(header1))"
   ]
  },
  {
   "cell_type": "markdown",
   "id": "70e7f1d3-60ed-47df-add6-7ca6b11f38ac",
   "metadata": {},
   "source": [
    "Now let's get our data out of the file. We're interested in the flux (brightness) of a star over time; we need to get the timestamps and the associated fluxes to create our plot.\n",
    "\n",
    "**Note: We grab the SAP and PDCSAP fluxes, for convenience.** PDCSAP is generally better for planet hunting, but there are valid reasons to use SAP as well!"
   ]
  },
  {
   "cell_type": "code",
   "execution_count": null,
   "id": "269d6042-c1bf-435c-80b6-bff5c9eb3ddc",
   "metadata": {
    "tags": []
   },
   "outputs": [],
   "source": [
    "with fits.open(file_path, mode=\"readonly\") as hdulist:\n",
    "    tess_bjds = hdulist[1].data['TIME']\n",
    "    sap_fluxes = hdulist[1].data['SAP_FLUX']\n",
    "    pdcsap_fluxes = hdulist[1].data['PDCSAP_FLUX']"
   ]
  },
  {
   "cell_type": "markdown",
   "id": "e0a2447e-0f3c-4119-a43d-a09564a1df36",
   "metadata": {},
   "source": [
    "### Making a Plot\n",
    "Finally, we can create our figures. We're going to plot the PDCSAP and SAP fluxes separately."
   ]
  },
  {
   "cell_type": "code",
   "execution_count": null,
   "id": "55371478-aa84-48ae-973f-2e346cfc9567",
   "metadata": {
    "tags": []
   },
   "outputs": [],
   "source": [
    "# Create figure and axis\n",
    "fig, ax = plt.subplots(figsize=(10,4))\n",
    "\n",
    "# Plot the timeseries in black circles\n",
    "ax.scatter(tess_bjds, pdcsap_fluxes, s=1, color='k')\n",
    "\n",
    "# Let's label the axes and define a title for the figure\n",
    "fig.suptitle(f\"TIC {tic_id}, Sector {sector}, PDCSAP Flux\")\n",
    "ax.set_ylabel(\"PDCSAP Flux (e-/s)\")\n",
    "ax.set_xlabel(\"Time (TBJD)\")\n",
    "\n",
    "# Show the figure\n",
    "plt.show()"
   ]
  },
  {
   "cell_type": "code",
   "execution_count": null,
   "id": "5634d631-27da-4003-9f09-8fc5f5f2ea47",
   "metadata": {
    "tags": []
   },
   "outputs": [],
   "source": [
    "# Create figure and axis\n",
    "fig, ax = plt.subplots(figsize=(10,4))\n",
    "\n",
    "# Plot the timeseries\n",
    "ax.scatter(tess_bjds, sap_fluxes, s=1, color='k')\n",
    "\n",
    "# Add labels, title\n",
    "fig.suptitle(f\"TIC{tic_id}, Sector {sector}, PDCSAP Flux\")\n",
    "ax.set_ylabel(\"SAP Flux (e-/s)\")\n",
    "ax.set_xlabel(\"Time (TBJD)\")\n",
    "\n",
    "# Show the figure\n",
    "plt.show()"
   ]
  },
  {
   "cell_type": "markdown",
   "id": "cf37805f-1c8e-4fad-922f-88ee8b783554",
   "metadata": {},
   "source": [
    "And done. We've successfully plotted a TESS light curve from data at MAST. Looks like we've found an eclipsing binary.\n",
    "\n",
    "Happy planet hunting!"
   ]
  },
  {
   "cell_type": "markdown",
   "id": "f6311a2c-8349-417e-b684-9c8b1e3d84dd",
   "metadata": {},
   "source": [
    "## Further Reading\n",
    "Still curious about TESS and lightcurves? Check out our tutorials in the [MAST Notebook repository](https://spacetelescope.github.io/mast_notebooks/intro.html)."
   ]
  },
  {
   "cell_type": "markdown",
   "id": "da47b837-28b5-44d3-b518-eaa7c7e0df0d",
   "metadata": {},
   "source": [
    "## About this Notebook\n",
    "For support, please contact the Archive HelpDesk at archive@stsci.edu, or through the [MAST HelpDesk Portal](https://stsci.service-now.com/mast).\n",
    "\n",
    "**Author:** Thomas Dutkiewicz <br>\n",
    "**Keywords:** TIKE, AWS Cloud, Light curves <br>\n",
    "**Last Updated:** May 2023 <br>\n",
    "***\n",
    "[Top of Page](#top)\n",
    "<img style=\"float: right;\" src=\"https://raw.githubusercontent.com/spacetelescope/notebooks/master/assets/stsci_pri_combo_mark_horizonal_white_bkgd.png\" alt=\"Space Telescope Logo\" width=\"200px\"/> "
   ]
  }
 ],
 "metadata": {
  "kernelspec": {
   "display_name": "Python 3 (ipykernel)",
   "language": "python",
   "name": "python3"
  },
  "language_info": {
   "codemirror_mode": {
    "name": "ipython",
    "version": 3
   },
   "file_extension": ".py",
   "mimetype": "text/x-python",
   "name": "python",
   "nbconvert_exporter": "python",
   "pygments_lexer": "ipython3",
   "version": "3.10.10"
  }
 },
 "nbformat": 4,
 "nbformat_minor": 5
}
